{
 "cells": [
  {
   "cell_type": "code",
   "execution_count": 1,
   "metadata": {},
   "outputs": [],
   "source": [
    "import pandas as pd\n",
    "import numpy as np\n",
    "import matplotlib.pyplot as plt\n",
    "from scipy import stats\n",
    "\n"
   ]
  },
  {
   "cell_type": "code",
   "execution_count": 7,
   "metadata": {},
   "outputs": [
    {
     "data": {
      "text/html": [
       "<div>\n",
       "<style scoped>\n",
       "    .dataframe tbody tr th:only-of-type {\n",
       "        vertical-align: middle;\n",
       "    }\n",
       "\n",
       "    .dataframe tbody tr th {\n",
       "        vertical-align: top;\n",
       "    }\n",
       "\n",
       "    .dataframe thead th {\n",
       "        text-align: right;\n",
       "    }\n",
       "</style>\n",
       "<table border=\"1\" class=\"dataframe\">\n",
       "  <thead>\n",
       "    <tr style=\"text-align: right;\">\n",
       "      <th></th>\n",
       "      <th>Category</th>\n",
       "      <th>Merk</th>\n",
       "      <th>Product</th>\n",
       "      <th>Price</th>\n",
       "      <th>OverallRating</th>\n",
       "    </tr>\n",
       "  </thead>\n",
       "  <tbody>\n",
       "    <tr>\n",
       "      <th>0</th>\n",
       "      <td>Night Cream</td>\n",
       "      <td>Hada Labo</td>\n",
       "      <td>Perfect 3D Gel</td>\n",
       "      <td>Rp. 91.000</td>\n",
       "      <td>3.8</td>\n",
       "    </tr>\n",
       "    <tr>\n",
       "      <th>1</th>\n",
       "      <td>Face Mist</td>\n",
       "      <td>PIXY</td>\n",
       "      <td>Aqua Beauty Protecting Mist</td>\n",
       "      <td>Rp. 27.000</td>\n",
       "      <td>4.2</td>\n",
       "    </tr>\n",
       "    <tr>\n",
       "      <th>2</th>\n",
       "      <td>Night Cream</td>\n",
       "      <td>Wardah</td>\n",
       "      <td>Lightening Night Cream</td>\n",
       "      <td>Rp. 0</td>\n",
       "      <td>3.5</td>\n",
       "    </tr>\n",
       "    <tr>\n",
       "      <th>3</th>\n",
       "      <td>Face Mist</td>\n",
       "      <td>Avene</td>\n",
       "      <td>Thermal Spring Water</td>\n",
       "      <td>Rp. 199.000</td>\n",
       "      <td>4.4</td>\n",
       "    </tr>\n",
       "    <tr>\n",
       "      <th>4</th>\n",
       "      <td>Night Cream</td>\n",
       "      <td>Wardah</td>\n",
       "      <td>White Secret Night Cream</td>\n",
       "      <td>Rp. 98.000</td>\n",
       "      <td>3.6</td>\n",
       "    </tr>\n",
       "  </tbody>\n",
       "</table>\n",
       "</div>"
      ],
      "text/plain": [
       "      Category       Merk                      Product        Price  \\\n",
       "0  Night Cream  Hada Labo               Perfect 3D Gel   Rp. 91.000   \n",
       "1    Face Mist       PIXY  Aqua Beauty Protecting Mist   Rp. 27.000   \n",
       "2  Night Cream     Wardah       Lightening Night Cream        Rp. 0   \n",
       "3    Face Mist      Avene         Thermal Spring Water  Rp. 199.000   \n",
       "4  Night Cream     Wardah     White Secret Night Cream   Rp. 98.000   \n",
       "\n",
       "   OverallRating  \n",
       "0            3.8  \n",
       "1            4.2  \n",
       "2            3.5  \n",
       "3            4.4  \n",
       "4            3.6  "
      ]
     },
     "execution_count": 7,
     "metadata": {},
     "output_type": "execute_result"
    }
   ],
   "source": [
    "skincare_data = pd.read_csv(\"00. InfoProduct.csv\")\n",
    "#skincare_data = skincare_data['Reviewer'].drop()\n",
    "\n",
    "skincare_data=skincare_data.drop(['Reviewer'], axis=1)\n",
    "skincare_data.head()\n",
    "#lowercase column titles\n",
    "#categorize columns by Category\n",
    "#categorize by Merk\n",
    "#rename merk --> brand\n",
    "#Price: Rp --> USD\n",
    "#groupby brands\n",
    "#average ratings per Category/Merk\n",
    "    #boxplots\n"
   ]
  }
 ],
 "metadata": {
  "kernelspec": {
   "display_name": "Python 3",
   "language": "python",
   "name": "python3"
  },
  "language_info": {
   "codemirror_mode": {
    "name": "ipython",
    "version": 3
   },
   "file_extension": ".py",
   "mimetype": "text/x-python",
   "name": "python",
   "nbconvert_exporter": "python",
   "pygments_lexer": "ipython3",
   "version": "3.6.5"
  }
 },
 "nbformat": 4,
 "nbformat_minor": 2
}
