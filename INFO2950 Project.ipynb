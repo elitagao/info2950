{
 "cells": [
  {
   "cell_type": "code",
   "execution_count": 27,
   "metadata": {},
   "outputs": [],
   "source": [
    "import pandas as pd\n",
    "import numpy as np\n",
    "import matplotlib.pyplot as plt \n",
    "import re \n",
    "from scipy import stats\n",
    "\n",
    "import seaborn as sns\n",
    "\n",
    "%matplotlib inline\n",
    "plt.rcParams['figure.figsize'] = (12.0, 8.0)\n",
    "plt.style.use('seaborn-poster')"
   ]
  },
  {
   "cell_type": "markdown",
   "metadata": {},
   "source": [
    "## Part 1: Skincare Dataframe"
   ]
  },
  {
   "cell_type": "code",
   "execution_count": 12,
   "metadata": {},
   "outputs": [
    {
     "data": {
      "text/html": [
       "<div>\n",
       "<style scoped>\n",
       "    .dataframe tbody tr th:only-of-type {\n",
       "        vertical-align: middle;\n",
       "    }\n",
       "\n",
       "    .dataframe tbody tr th {\n",
       "        vertical-align: top;\n",
       "    }\n",
       "\n",
       "    .dataframe thead th {\n",
       "        text-align: right;\n",
       "    }\n",
       "</style>\n",
       "<table border=\"1\" class=\"dataframe\">\n",
       "  <thead>\n",
       "    <tr style=\"text-align: right;\">\n",
       "      <th></th>\n",
       "      <th>Category</th>\n",
       "      <th>Merk</th>\n",
       "      <th>Product</th>\n",
       "      <th>Price</th>\n",
       "      <th>OverallRating</th>\n",
       "      <th>Reviewer</th>\n",
       "    </tr>\n",
       "  </thead>\n",
       "  <tbody>\n",
       "    <tr>\n",
       "      <th>0</th>\n",
       "      <td>Night Cream</td>\n",
       "      <td>Hada Labo</td>\n",
       "      <td>Perfect 3D Gel</td>\n",
       "      <td>Rp. 91.000</td>\n",
       "      <td>3.8</td>\n",
       "      <td>978.0</td>\n",
       "    </tr>\n",
       "    <tr>\n",
       "      <th>1</th>\n",
       "      <td>Face Mist</td>\n",
       "      <td>PIXY</td>\n",
       "      <td>Aqua Beauty Protecting Mist</td>\n",
       "      <td>Rp. 27.000</td>\n",
       "      <td>4.2</td>\n",
       "      <td>3851.0</td>\n",
       "    </tr>\n",
       "    <tr>\n",
       "      <th>2</th>\n",
       "      <td>Night Cream</td>\n",
       "      <td>Wardah</td>\n",
       "      <td>Lightening Night Cream</td>\n",
       "      <td>Rp. 0</td>\n",
       "      <td>3.5</td>\n",
       "      <td>806.0</td>\n",
       "    </tr>\n",
       "  </tbody>\n",
       "</table>\n",
       "</div>"
      ],
      "text/plain": [
       "      Category       Merk                      Product       Price  \\\n",
       "0  Night Cream  Hada Labo               Perfect 3D Gel  Rp. 91.000   \n",
       "1    Face Mist       PIXY  Aqua Beauty Protecting Mist  Rp. 27.000   \n",
       "2  Night Cream     Wardah       Lightening Night Cream       Rp. 0   \n",
       "\n",
       "   OverallRating  Reviewer  \n",
       "0            3.8     978.0  \n",
       "1            4.2    3851.0  \n",
       "2            3.5     806.0  "
      ]
     },
     "execution_count": 12,
     "metadata": {},
     "output_type": "execute_result"
    }
   ],
   "source": [
    "skincare = pd.read_csv(\"00. InfoProduct.csv\")\n",
    "skincare.head(3)"
   ]
  },
  {
   "cell_type": "code",
   "execution_count": 13,
   "metadata": {},
   "outputs": [
    {
     "data": {
      "text/plain": [
       "(861, 6)"
      ]
     },
     "execution_count": 13,
     "metadata": {},
     "output_type": "execute_result"
    }
   ],
   "source": [
    "skincare.shape"
   ]
  },
  {
   "cell_type": "code",
   "execution_count": 14,
   "metadata": {},
   "outputs": [
    {
     "data": {
      "text/html": [
       "<div>\n",
       "<style scoped>\n",
       "    .dataframe tbody tr th:only-of-type {\n",
       "        vertical-align: middle;\n",
       "    }\n",
       "\n",
       "    .dataframe tbody tr th {\n",
       "        vertical-align: top;\n",
       "    }\n",
       "\n",
       "    .dataframe thead th {\n",
       "        text-align: right;\n",
       "    }\n",
       "</style>\n",
       "<table border=\"1\" class=\"dataframe\">\n",
       "  <thead>\n",
       "    <tr style=\"text-align: right;\">\n",
       "      <th></th>\n",
       "      <th>Category</th>\n",
       "      <th>Merk</th>\n",
       "      <th>Product</th>\n",
       "      <th>Price</th>\n",
       "      <th>OverallRating</th>\n",
       "    </tr>\n",
       "  </thead>\n",
       "  <tbody>\n",
       "  </tbody>\n",
       "</table>\n",
       "</div>"
      ],
      "text/plain": [
       "Empty DataFrame\n",
       "Columns: [Category, Merk, Product, Price, OverallRating]\n",
       "Index: []"
      ]
     },
     "execution_count": 14,
     "metadata": {},
     "output_type": "execute_result"
    }
   ],
   "source": [
    "#remove 'Reviewer' column\n",
    "skincare=skincare.drop(['Reviewer'], axis=1)\n",
    "skincare.head(0)"
   ]
  },
  {
   "cell_type": "code",
   "execution_count": 15,
   "metadata": {},
   "outputs": [
    {
     "data": {
      "text/html": [
       "<div>\n",
       "<style scoped>\n",
       "    .dataframe tbody tr th:only-of-type {\n",
       "        vertical-align: middle;\n",
       "    }\n",
       "\n",
       "    .dataframe tbody tr th {\n",
       "        vertical-align: top;\n",
       "    }\n",
       "\n",
       "    .dataframe thead th {\n",
       "        text-align: right;\n",
       "    }\n",
       "</style>\n",
       "<table border=\"1\" class=\"dataframe\">\n",
       "  <thead>\n",
       "    <tr style=\"text-align: right;\">\n",
       "      <th></th>\n",
       "      <th>category</th>\n",
       "      <th>merk</th>\n",
       "      <th>product</th>\n",
       "      <th>price</th>\n",
       "      <th>overallrating</th>\n",
       "    </tr>\n",
       "  </thead>\n",
       "  <tbody>\n",
       "  </tbody>\n",
       "</table>\n",
       "</div>"
      ],
      "text/plain": [
       "Empty DataFrame\n",
       "Columns: [category, merk, product, price, overallrating]\n",
       "Index: []"
      ]
     },
     "execution_count": 15,
     "metadata": {},
     "output_type": "execute_result"
    }
   ],
   "source": [
    "#lowercase column titles\n",
    "new_colnames = [i.lower() for i in skincare.columns]\n",
    "skincare=skincare.copy()\n",
    "skincare.columns=new_colnames\n",
    "skincare.head(0)"
   ]
  },
  {
   "cell_type": "code",
<<<<<<< Updated upstream
   "execution_count": 16,
=======
   "execution_count": 28,
>>>>>>> Stashed changes
   "metadata": {},
   "outputs": [
    {
     "data": {
      "text/html": [
       "<div>\n",
       "<style scoped>\n",
       "    .dataframe tbody tr th:only-of-type {\n",
       "        vertical-align: middle;\n",
       "    }\n",
       "\n",
       "    .dataframe tbody tr th {\n",
       "        vertical-align: top;\n",
       "    }\n",
       "\n",
       "    .dataframe thead th {\n",
       "        text-align: right;\n",
       "    }\n",
       "</style>\n",
       "<table border=\"1\" class=\"dataframe\">\n",
       "  <thead>\n",
       "    <tr style=\"text-align: right;\">\n",
       "      <th></th>\n",
<<<<<<< Updated upstream
       "      <th>category</th>\n",
=======
       "      <th>label</th>\n",
>>>>>>> Stashed changes
       "      <th>brand</th>\n",
       "      <th>product</th>\n",
       "      <th>price</th>\n",
       "      <th>rating</th>\n",
       "    </tr>\n",
       "  </thead>\n",
       "  <tbody>\n",
<<<<<<< Updated upstream
       "  </tbody>\n",
       "</table>\n",
       "</div>"
      ],
      "text/plain": [
       "Empty DataFrame\n",
       "Columns: [category, brand, product, price, rating]\n",
       "Index: []"
      ]
     },
     "execution_count": 16,
     "metadata": {},
     "output_type": "execute_result"
    }
   ],
   "source": [
    "#rename merk --> brand\n",
    "#rename overallrating --> rating\n",
    "skincare = skincare.rename(columns = {\"merk\" : \"brand\"})\n",
    "skincare = skincare.rename(columns = {\"overallrating\" : \"rating\"})\n",
    "skincare.head(0)"
   ]
  },
  {
   "cell_type": "code",
   "execution_count": 17,
   "metadata": {},
   "outputs": [
    {
     "data": {
      "text/html": [
       "<div>\n",
       "<style scoped>\n",
       "    .dataframe tbody tr th:only-of-type {\n",
       "        vertical-align: middle;\n",
       "    }\n",
       "\n",
       "    .dataframe tbody tr th {\n",
       "        vertical-align: top;\n",
       "    }\n",
       "\n",
       "    .dataframe thead th {\n",
       "        text-align: right;\n",
       "    }\n",
       "</style>\n",
       "<table border=\"1\" class=\"dataframe\">\n",
       "  <thead>\n",
       "    <tr style=\"text-align: right;\">\n",
       "      <th></th>\n",
       "      <th>category</th>\n",
       "      <th>brand</th>\n",
       "      <th>product</th>\n",
       "      <th>price</th>\n",
       "      <th>rating</th>\n",
       "    </tr>\n",
       "  </thead>\n",
       "  <tbody>\n",
       "    <tr>\n",
       "      <th>0</th>\n",
       "      <td>Night Cream</td>\n",
       "      <td>Hada Labo</td>\n",
       "      <td>Perfect 3D Gel</td>\n",
       "      <td>6.37</td>\n",
       "      <td>3.8</td>\n",
       "    </tr>\n",
       "    <tr>\n",
       "      <th>1</th>\n",
       "      <td>Face Mist</td>\n",
       "      <td>PIXY</td>\n",
       "      <td>Aqua Beauty Protecting Mist</td>\n",
       "      <td>1.89</td>\n",
       "      <td>4.2</td>\n",
       "    </tr>\n",
       "  </tbody>\n",
       "</table>\n",
       "</div>"
      ],
      "text/plain": [
       "      category      brand                      product  price  rating\n",
       "0  Night Cream  Hada Labo               Perfect 3D Gel   6.37     3.8\n",
       "1    Face Mist       PIXY  Aqua Beauty Protecting Mist   1.89     4.2"
      ]
     },
     "execution_count": 17,
     "metadata": {},
     "output_type": "execute_result"
    }
   ],
   "source": [
    "#Price: Rp --> USD\n",
    "skincare['price'] = skincare['price'].str.replace('Rp.', '')\n",
    "skincare['price'] = skincare['price'].str.replace('.','')\n",
    "skincare['price'] = skincare['price'].astype(float)\n",
    "skincare[\"price\"] = 0.00007 * skincare['price']\n",
    "skincare.head(2)"
   ]
  },
  {
   "cell_type": "code",
   "execution_count": 27,
   "metadata": {},
   "outputs": [],
   "source": [
    "#remove outlier prices\n",
    "\n",
    "#z_scores = stats.zscore(skincare['price'])\n",
    "#calculate z-scores of skincare\n",
    "\n",
    "#abs_z_scores = np.abs(z_scores)\n",
    "#filtered_entries = (abs_z_scores < 3).all(axis=1)\n",
    "#new_skincare = skincare[filtered_entries]"
   ]
  },
  {
   "cell_type": "code",
   "execution_count": 11,
   "metadata": {},
   "outputs": [
    {
     "data": {
      "image/png": "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\n",
      "text/plain": [
       "<Figure size 432x288 with 1 Axes>"
      ]
     },
     "metadata": {},
     "output_type": "display_data"
    },
    {
     "data": {
      "text/html": [
       "<div>\n",
       "<style scoped>\n",
       "    .dataframe tbody tr th:only-of-type {\n",
       "        vertical-align: middle;\n",
       "    }\n",
       "\n",
       "    .dataframe tbody tr th {\n",
       "        vertical-align: top;\n",
       "    }\n",
       "\n",
       "    .dataframe thead th {\n",
       "        text-align: right;\n",
       "    }\n",
       "</style>\n",
       "<table border=\"1\" class=\"dataframe\">\n",
       "  <thead>\n",
       "    <tr style=\"text-align: right;\">\n",
       "      <th></th>\n",
       "      <th>category</th>\n",
       "      <th>brand</th>\n",
       "      <th>product</th>\n",
       "      <th>price</th>\n",
       "      <th>rating</th>\n",
       "    </tr>\n",
       "  </thead>\n",
       "  <tbody>\n",
       "    <tr>\n",
       "      <th>0</th>\n",
       "      <td>Night Cream</td>\n",
       "      <td>Hada Labo</td>\n",
       "      <td>Perfect 3D Gel</td>\n",
       "      <td>6.37</td>\n",
       "      <td>3.8</td>\n",
       "    </tr>\n",
       "    <tr>\n",
       "      <th>1</th>\n",
       "      <td>Face Mist</td>\n",
       "      <td>PIXY</td>\n",
       "      <td>Aqua Beauty Protecting Mist</td>\n",
       "      <td>1.89</td>\n",
       "      <td>4.2</td>\n",
       "    </tr>\n",
       "    <tr>\n",
       "      <th>3</th>\n",
       "      <td>Face Mist</td>\n",
       "      <td>Avene</td>\n",
       "      <td>Thermal Spring Water</td>\n",
       "      <td>13.93</td>\n",
       "      <td>4.4</td>\n",
       "    </tr>\n",
       "    <tr>\n",
       "      <th>4</th>\n",
       "      <td>Night Cream</td>\n",
       "      <td>Wardah</td>\n",
       "      <td>White Secret Night Cream</td>\n",
       "      <td>6.86</td>\n",
       "      <td>3.6</td>\n",
       "    </tr>\n",
       "    <tr>\n",
       "      <th>5</th>\n",
       "      <td>Face Mist</td>\n",
       "      <td>Evian</td>\n",
       "      <td>Mineral Water Spray</td>\n",
       "      <td>11.20</td>\n",
       "      <td>3.8</td>\n",
       "    </tr>\n",
       "  </tbody>\n",
       "</table>\n",
       "</div>"
      ],
      "text/plain": [
       "      category      brand                      product  price  rating\n",
       "0  Night Cream  Hada Labo               Perfect 3D Gel   6.37     3.8\n",
       "1    Face Mist       PIXY  Aqua Beauty Protecting Mist   1.89     4.2\n",
       "3    Face Mist      Avene         Thermal Spring Water  13.93     4.4\n",
       "4  Night Cream     Wardah     White Secret Night Cream   6.86     3.6\n",
       "5    Face Mist      Evian          Mineral Water Spray  11.20     3.8"
      ]
     },
     "execution_count": 11,
     "metadata": {},
     "output_type": "execute_result"
    }
   ],
   "source": [
    "#plot=skincare_data.boxplot('rating', by='brand')\n",
    "plt.scatter(x=skincare['rating'],y=skincare[\"price\"], alpha=0.3)\n",
    "plt.xlabel('Rating')\n",
    "plt.ylabel('Price')\n",
    "plt.title('Rating by Price')\n",
    "plt.show()\n",
    "skincare.head()\n"
   ]
  },
  {
   "cell_type": "code",
   "execution_count": 2,
   "metadata": {},
   "outputs": [
    {
     "data": {
      "image/png": "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\n",
      "text/plain": [
       "<Figure size 432x288 with 1 Axes>"
      ]
     },
     "metadata": {},
     "output_type": "display_data"
    },
    {
     "data": {
      "text/html": [
       "<div>\n",
       "<style scoped>\n",
       "    .dataframe tbody tr th:only-of-type {\n",
       "        vertical-align: middle;\n",
       "    }\n",
       "\n",
       "    .dataframe tbody tr th {\n",
       "        vertical-align: top;\n",
       "    }\n",
       "\n",
       "    .dataframe thead th {\n",
       "        text-align: right;\n",
       "    }\n",
       "</style>\n",
       "<table border=\"1\" class=\"dataframe\">\n",
       "  <thead>\n",
       "    <tr style=\"text-align: right;\">\n",
       "      <th></th>\n",
       "      <th>category</th>\n",
       "      <th>brand</th>\n",
       "      <th>product</th>\n",
       "      <th>price</th>\n",
       "      <th>rating</th>\n",
       "    </tr>\n",
       "  </thead>\n",
       "  <tbody>\n",
       "    <tr>\n",
       "      <th>0</th>\n",
       "      <td>Night Cream</td>\n",
       "      <td>Hada Labo</td>\n",
       "      <td>Perfect 3D Gel</td>\n",
       "      <td>6.37</td>\n",
       "      <td>3.8</td>\n",
       "    </tr>\n",
<<<<<<< Updated upstream
       "    <tr>\n",
       "      <th>1</th>\n",
       "      <td>Face Mist</td>\n",
       "      <td>PIXY</td>\n",
       "      <td>Aqua Beauty Protecting Mist</td>\n",
       "      <td>1.89</td>\n",
       "      <td>4.2</td>\n",
       "    </tr>\n",
       "    <tr>\n",
       "      <th>2</th>\n",
       "      <td>Night Cream</td>\n",
       "      <td>Wardah</td>\n",
       "      <td>Lightening Night Cream</td>\n",
       "      <td>0.00</td>\n",
       "      <td>3.5</td>\n",
       "    </tr>\n",
       "    <tr>\n",
       "      <th>3</th>\n",
       "      <td>Face Mist</td>\n",
       "      <td>Avene</td>\n",
       "      <td>Thermal Spring Water</td>\n",
       "      <td>13.93</td>\n",
       "      <td>4.4</td>\n",
       "    </tr>\n",
       "    <tr>\n",
       "      <th>4</th>\n",
       "      <td>Night Cream</td>\n",
       "      <td>Wardah</td>\n",
       "      <td>White Secret Night Cream</td>\n",
       "      <td>6.86</td>\n",
       "      <td>3.6</td>\n",
       "    </tr>\n",
       "  </tbody>\n",
       "</table>\n",
       "</div>"
      ],
      "text/plain": [
       "      category      brand                      product  price  rating\n",
       "0  Night Cream  Hada Labo               Perfect 3D Gel   6.37     3.8\n",
       "1    Face Mist       PIXY  Aqua Beauty Protecting Mist   1.89     4.2\n",
       "2  Night Cream     Wardah       Lightening Night Cream   0.00     3.5\n",
       "3    Face Mist      Avene         Thermal Spring Water  13.93     4.4\n",
       "4  Night Cream     Wardah     White Secret Night Cream   6.86     3.6"
      ]
     },
     "execution_count": 2,
     "metadata": {},
     "output_type": "execute_result"
    }
   ],
   "source": [
    "#categorize columns by Category\n",
    "#categorize by Merk\n",
    "\n",
    "#groupby brands\n",
    "brands_group=skincare_data.groupby('brand')['rating'].mean()\n",
    "#average ratings per Category/Merk\n",
    "    #boxplots\n"
   ]
  },
  {
   "cell_type": "code",
   "execution_count": 3,
   "metadata": {},
   "outputs": [
    {
     "data": {
      "image/png": "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\n",
      "text/plain": [
       "<Figure size 432x288 with 1 Axes>"
      ]
     },
     "metadata": {},
     "output_type": "display_data"
    }
   ],
   "source": [
    "skincare_subset=skincare_data.loc[(skincare_data['price']<40)]\n",
    "plt.scatter(x=skincare_subset['rating'],y=skincare_subset[\"price\"], alpha=0.3)\n",
    "plt.xlabel('Rating')\n",
    "plt.ylabel('Price')\n",
    "plt.title('Price by Rating')\n",
    "plt.show()"
   ]
  },
  {
   "cell_type": "code",
   "execution_count": 32,
   "metadata": {},
   "outputs": [
    {
     "data": {
      "image/png": "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\n",
      "text/plain": [
       "<Figure size 921.6x633.6 with 1 Axes>"
      ]
     },
     "metadata": {},
     "output_type": "display_data"
    }
   ],
   "source": [
    "plot=skincare_subset.boxplot('price', by='category', rot=90)\n",
    "skincare_data['category'].unique()\n",
    "plt.xlabel('Category')\n",
    "plt.ylabel('Price')\n",
    "plt.title('Price by Category')\n",
    "plt.suptitle('')\n",
    "plt.show()"
   ]
  },
  {
   "cell_type": "code",
   "execution_count": 33,
   "metadata": {},
   "outputs": [
    {
     "data": {
      "image/png": "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\n",
      "text/plain": [
       "<Figure size 921.6x633.6 with 1 Axes>"
      ]
     },
     "metadata": {},
     "output_type": "display_data"
    }
   ],
   "source": [
    "plot=skincare_subset.boxplot('rating', by='category', rot=90)\n",
    "plt.xlabel('Category')\n",
    "plt.ylabel('Rating')\n",
    "plt.title('Rating by Category')\n",
    "plt.suptitle('')\n",
    "plt.show()"
   ]
  },
  {
   "cell_type": "markdown",
   "metadata": {},
   "source": [
    "***"
   ]
  },
  {
   "cell_type": "markdown",
   "metadata": {},
   "source": [
    "## Part 2: Cosmetics DataFrame"
   ]
  },
  {
   "cell_type": "code",
   "execution_count": 110,
   "metadata": {},
   "outputs": [
    {
     "data": {
      "text/html": [
       "<div>\n",
       "<style scoped>\n",
       "    .dataframe tbody tr th:only-of-type {\n",
       "        vertical-align: middle;\n",
       "    }\n",
       "\n",
       "    .dataframe tbody tr th {\n",
       "        vertical-align: top;\n",
       "    }\n",
       "\n",
       "    .dataframe thead th {\n",
       "        text-align: right;\n",
       "    }\n",
       "</style>\n",
       "<table border=\"1\" class=\"dataframe\">\n",
       "  <thead>\n",
       "    <tr style=\"text-align: right;\">\n",
       "      <th></th>\n",
       "      <th>Label</th>\n",
       "      <th>URL</th>\n",
       "      <th>brand</th>\n",
       "      <th>name</th>\n",
       "      <th>price</th>\n",
       "      <th>rank</th>\n",
       "      <th>skin_type</th>\n",
       "      <th>ingredients</th>\n",
       "    </tr>\n",
       "  </thead>\n",
       "  <tbody>\n",
       "    <tr>\n",
       "      <th>0</th>\n",
       "      <td>moisturizing-cream-oils-mists</td>\n",
       "      <td>https://www.sephora.com/product/creme-de-la-me...</td>\n",
=======
       "    <tr>\n",
       "      <th>0</th>\n",
       "      <td>moisturizing-cream-oils-mists</td>\n",
>>>>>>> Stashed changes
       "      <td>LA MER</td>\n",
       "      <td>Crème de la Mer</td>\n",
       "      <td>$175.00</td>\n",
       "      <td>4.1</td>\n",
<<<<<<< Updated upstream
       "      <td>['✔ Normal\\n', '✔ Oily\\n', '✔ Combination\\n', ...</td>\n",
       "      <td>Algae (Seaweed) Extract, Mineral Oil, Petrolat...</td>\n",
       "    </tr>\n",
       "    <tr>\n",
       "      <th>1</th>\n",
       "      <td>moisturizing-cream-oils-mists</td>\n",
       "      <td>https://www.sephora.com/product/facial-treatme...</td>\n",
       "      <td>SK-II</td>\n",
       "      <td>Facial Treatment Essence</td>\n",
       "      <td>$179.00\\r\\n($214.00 value)</td>\n",
       "      <td>4.1</td>\n",
       "      <td>['✔ Normal\\n', '✔ Oily\\n', '✔ Combination\\n', ...</td>\n",
       "      <td>-Pitera™: A bio-ingredient rich in vitamins, o...</td>\n",
       "    </tr>\n",
       "    <tr>\n",
       "      <th>2</th>\n",
       "      <td>moisturizing-cream-oils-mists</td>\n",
       "      <td>https://www.sephora.com/product/protini-tm-pol...</td>\n",
       "      <td>DRUNK ELEPHANT</td>\n",
       "      <td>Protini™ Polypeptide Cream</td>\n",
       "      <td>$68.00</td>\n",
       "      <td>4.4</td>\n",
       "      <td>['✔ Normal\\n', '✔ Oily\\n', '✔ Combination\\n', ...</td>\n",
       "      <td>-9 Signal Peptide Complex \\r\\n-Pygmy Waterlily...</td>\n",
       "    </tr>\n",
       "  </tbody>\n",
       "</table>\n",
       "</div>"
      ],
      "text/plain": [
       "                           Label  \\\n",
       "0  moisturizing-cream-oils-mists   \n",
       "1  moisturizing-cream-oils-mists   \n",
       "2  moisturizing-cream-oils-mists   \n",
       "\n",
       "                                                 URL           brand  \\\n",
       "0  https://www.sephora.com/product/creme-de-la-me...          LA MER   \n",
       "1  https://www.sephora.com/product/facial-treatme...           SK-II   \n",
       "2  https://www.sephora.com/product/protini-tm-pol...  DRUNK ELEPHANT   \n",
       "\n",
       "                         name                       price  rank  \\\n",
       "0             Crème de la Mer                     $175.00   4.1   \n",
       "1    Facial Treatment Essence  $179.00\\r\\n($214.00 value)   4.1   \n",
       "2  Protini™ Polypeptide Cream                      $68.00   4.4   \n",
       "\n",
       "                                           skin_type  \\\n",
       "0  ['✔ Normal\\n', '✔ Oily\\n', '✔ Combination\\n', ...   \n",
       "1  ['✔ Normal\\n', '✔ Oily\\n', '✔ Combination\\n', ...   \n",
       "2  ['✔ Normal\\n', '✔ Oily\\n', '✔ Combination\\n', ...   \n",
       "\n",
       "                                         ingredients  \n",
       "0  Algae (Seaweed) Extract, Mineral Oil, Petrolat...  \n",
       "1  -Pitera™: A bio-ingredient rich in vitamins, o...  \n",
       "2  -9 Signal Peptide Complex \\r\\n-Pygmy Waterlily...  "
      ]
     },
     "execution_count": 110,
     "metadata": {},
     "output_type": "execute_result"
    }
   ],
   "source": [
    "cosmetics = pd.read_csv(\"cosmetic.csv\")\n",
    "cosmetics.head(3)"
   ]
  },
  {
   "cell_type": "code",
   "execution_count": 111,
   "metadata": {},
   "outputs": [
    {
     "data": {
      "text/html": [
       "<div>\n",
       "<style scoped>\n",
       "    .dataframe tbody tr th:only-of-type {\n",
       "        vertical-align: middle;\n",
       "    }\n",
       "\n",
       "    .dataframe tbody tr th {\n",
       "        vertical-align: top;\n",
       "    }\n",
       "\n",
       "    .dataframe thead th {\n",
       "        text-align: right;\n",
       "    }\n",
       "</style>\n",
       "<table border=\"1\" class=\"dataframe\">\n",
       "  <thead>\n",
       "    <tr style=\"text-align: right;\">\n",
       "      <th></th>\n",
       "      <th>label</th>\n",
       "      <th>url</th>\n",
       "      <th>brand</th>\n",
       "      <th>name</th>\n",
       "      <th>price</th>\n",
       "      <th>rank</th>\n",
       "      <th>skin_type</th>\n",
       "      <th>ingredients</th>\n",
       "    </tr>\n",
       "  </thead>\n",
       "  <tbody>\n",
       "  </tbody>\n",
       "</table>\n",
       "</div>"
      ],
      "text/plain": [
       "Empty DataFrame\n",
       "Columns: [label, url, brand, name, price, rank, skin_type, ingredients]\n",
       "Index: []"
      ]
     },
     "execution_count": 111,
     "metadata": {},
     "output_type": "execute_result"
    }
   ],
   "source": [
    "#lowercase column names\n",
    "col_lower = [i.lower() for i in cosmetics.columns]\n",
    "cosmetics=cosmetics.copy()\n",
    "cosmetics.columns=col_lower\n",
    "cosmetics.head(0)"
   ]
  },
  {
   "cell_type": "code",
   "execution_count": 112,
   "metadata": {},
   "outputs": [
    {
     "data": {
      "text/html": [
       "<div>\n",
       "<style scoped>\n",
       "    .dataframe tbody tr th:only-of-type {\n",
       "        vertical-align: middle;\n",
       "    }\n",
       "\n",
       "    .dataframe tbody tr th {\n",
       "        vertical-align: top;\n",
       "    }\n",
       "\n",
       "    .dataframe thead th {\n",
       "        text-align: right;\n",
       "    }\n",
       "</style>\n",
       "<table border=\"1\" class=\"dataframe\">\n",
       "  <thead>\n",
       "    <tr style=\"text-align: right;\">\n",
       "      <th></th>\n",
       "      <th>label</th>\n",
       "      <th>brand</th>\n",
       "      <th>name</th>\n",
       "      <th>price</th>\n",
       "      <th>rank</th>\n",
       "      <th>skin_type</th>\n",
       "      <th>ingredients</th>\n",
       "    </tr>\n",
       "  </thead>\n",
       "  <tbody>\n",
       "  </tbody>\n",
       "</table>\n",
       "</div>"
      ],
      "text/plain": [
       "Empty DataFrame\n",
       "Columns: [label, brand, name, price, rank, skin_type, ingredients]\n",
       "Index: []"
      ]
     },
     "execution_count": 112,
     "metadata": {},
     "output_type": "execute_result"
    }
   ],
   "source": [
    "#drop url column\n",
    "cosmetics=cosmetics.drop(['url'], axis=1)\n",
    "cosmetics.head(0)"
   ]
  },
  {
   "cell_type": "code",
   "execution_count": 113,
   "metadata": {},
   "outputs": [
    {
     "data": {
      "text/html": [
       "<div>\n",
       "<style scoped>\n",
       "    .dataframe tbody tr th:only-of-type {\n",
       "        vertical-align: middle;\n",
       "    }\n",
       "\n",
       "    .dataframe tbody tr th {\n",
       "        vertical-align: top;\n",
       "    }\n",
       "\n",
       "    .dataframe thead th {\n",
       "        text-align: right;\n",
       "    }\n",
       "</style>\n",
       "<table border=\"1\" class=\"dataframe\">\n",
       "  <thead>\n",
       "    <tr style=\"text-align: right;\">\n",
       "      <th></th>\n",
       "      <th>label</th>\n",
       "      <th>brand</th>\n",
       "      <th>name</th>\n",
       "      <th>price</th>\n",
       "      <th>rank</th>\n",
       "      <th>skin_type</th>\n",
       "      <th>ingredients</th>\n",
       "    </tr>\n",
       "  </thead>\n",
       "  <tbody>\n",
       "    <tr>\n",
       "      <th>0</th>\n",
       "      <td>moisturizing-cream-oils-mists</td>\n",
       "      <td>la mer</td>\n",
       "      <td>crème de la mer</td>\n",
       "      <td>$175.00</td>\n",
       "      <td>4.1</td>\n",
       "      <td>['✔ Normal\\n', '✔ Oily\\n', '✔ Combination\\n', ...</td>\n",
       "      <td>algae (seaweed) extract, mineral oil, petrolat...</td>\n",
       "    </tr>\n",
       "    <tr>\n",
       "      <th>1</th>\n",
       "      <td>moisturizing-cream-oils-mists</td>\n",
       "      <td>sk-ii</td>\n",
       "      <td>facial treatment essence</td>\n",
       "      <td>$179.00\\r\\n($214.00 value)</td>\n",
       "      <td>4.1</td>\n",
       "      <td>['✔ Normal\\n', '✔ Oily\\n', '✔ Combination\\n', ...</td>\n",
       "      <td>-pitera™: a bio-ingredient rich in vitamins, o...</td>\n",
       "    </tr>\n",
       "    <tr>\n",
       "      <th>2</th>\n",
       "      <td>moisturizing-cream-oils-mists</td>\n",
       "      <td>drunk elephant</td>\n",
       "      <td>protini™ polypeptide cream</td>\n",
       "      <td>$68.00</td>\n",
       "      <td>4.4</td>\n",
       "      <td>['✔ Normal\\n', '✔ Oily\\n', '✔ Combination\\n', ...</td>\n",
       "      <td>-9 signal peptide complex \\r\\n-pygmy waterlily...</td>\n",
       "    </tr>\n",
=======
>>>>>>> Stashed changes
       "  </tbody>\n",
       "</table>\n",
       "</div>"
      ],
      "text/plain": [
<<<<<<< Updated upstream
       "                           label           brand                        name  \\\n",
       "0  moisturizing-cream-oils-mists          la mer             crème de la mer   \n",
       "1  moisturizing-cream-oils-mists           sk-ii    facial treatment essence   \n",
       "2  moisturizing-cream-oils-mists  drunk elephant  protini™ polypeptide cream   \n",
       "\n",
       "                        price  rank  \\\n",
       "0                     $175.00   4.1   \n",
       "1  $179.00\\r\\n($214.00 value)   4.1   \n",
       "2                      $68.00   4.4   \n",
       "\n",
       "                                           skin_type  \\\n",
       "0  ['✔ Normal\\n', '✔ Oily\\n', '✔ Combination\\n', ...   \n",
       "1  ['✔ Normal\\n', '✔ Oily\\n', '✔ Combination\\n', ...   \n",
       "2  ['✔ Normal\\n', '✔ Oily\\n', '✔ Combination\\n', ...   \n",
       "\n",
       "                                         ingredients  \n",
       "0  algae (seaweed) extract, mineral oil, petrolat...  \n",
       "1  -pitera™: a bio-ingredient rich in vitamins, o...  \n",
       "2  -9 signal peptide complex \\r\\n-pygmy waterlily...  "
=======
       "                           label  \\\n",
       "0  moisturizing-cream-oils-mists   \n",
       "1  moisturizing-cream-oils-mists   \n",
       "2  moisturizing-cream-oils-mists   \n",
       "3  moisturizing-cream-oils-mists   \n",
       "4  moisturizing-cream-oils-mists   \n",
       "\n",
       "                                                 url           brand  \\\n",
       "0  https://www.sephora.com/product/creme-de-la-me...          LA MER   \n",
       "1  https://www.sephora.com/product/facial-treatme...           SK-II   \n",
       "2  https://www.sephora.com/product/protini-tm-pol...  DRUNK ELEPHANT   \n",
       "3  https://www.sephora.com/product/the-moisturizi...          LA MER   \n",
       "4  https://www.sephora.com/product/your-skin-but-...    IT COSMETICS   \n",
       "\n",
       "                                            name                     price  \\\n",
       "0                                Crème de la Mer                   $175.00   \n",
       "1                       Facial Treatment Essence  $179.00\\n($214.00 value)   \n",
       "2                     Protini™ Polypeptide Cream                    $68.00   \n",
       "3                    The Moisturizing Soft Cream                   $175.00   \n",
       "4  Your Skin But Better™ CC+™ Cream with SPF 50+                    $38.00   \n",
       "\n",
       "   rank                                          skin_type  \\\n",
       "0   4.1  ['✔ Normal\\n', '✔ Oily\\n', '✔ Combination\\n', ...   \n",
       "1   4.1  ['✔ Normal\\n', '✔ Oily\\n', '✔ Combination\\n', ...   \n",
       "2   4.4  ['✔ Normal\\n', '✔ Oily\\n', '✔ Combination\\n', ...   \n",
       "3   3.8  ['✔ Normal\\n', '✔ Oily\\n', '✔ Combination\\n', ...   \n",
       "4   4.1  ['✔ Full\\n', '✔ Sensitive\\n', '✔ Normal\\n', '✔...   \n",
       "\n",
       "                                         ingredients  \n",
       "0  Algae (Seaweed) Extract, Mineral Oil, Petrolat...  \n",
       "1  -Pitera™: A bio-ingredient rich in vitamins, o...  \n",
       "2  -9 Signal Peptide Complex \\n-Pygmy Waterlily S...  \n",
       "3  Algae (Seaweed) Extract, Cyclopentasiloxane, P...  \n",
       "4  -Collagen: Supports skin elasticity for a yout...  "
>>>>>>> Stashed changes
      ]
     },
     "execution_count": 113,
     "metadata": {},
     "output_type": "execute_result"
    }
   ],
   "source": [
<<<<<<< Updated upstream
    "#lowercase brand\n",
    "cosmetics['brand'] = cosmetics['brand'].str.lower()\n",
    "\n",
    "#lowercase name\n",
    "cosmetics['name'] = cosmetics['name'].str.lower()\n",
    "\n",
    "#lowercase ingredients\n",
    "cosmetics['ingredients'] = cosmetics['ingredients'].str.lower()\n",
    "cosmetics.head(3)"
=======
    "cosmetics.head()"
>>>>>>> Stashed changes
   ]
  },
  {
   "cell_type": "code",
   "execution_count": null,
   "metadata": {},
   "outputs": [],
   "source": []
  },
  {
   "cell_type": "code",
   "execution_count": null,
   "metadata": {},
   "outputs": [],
   "source": []
  },
  {
   "cell_type": "code",
   "execution_count": null,
   "metadata": {},
   "outputs": [],
   "source": []
  },
  {
   "cell_type": "code",
   "execution_count": 114,
   "metadata": {},
   "outputs": [
    {
     "data": {
      "text/html": [
       "<div>\n",
       "<style scoped>\n",
       "    .dataframe tbody tr th:only-of-type {\n",
       "        vertical-align: middle;\n",
       "    }\n",
       "\n",
       "    .dataframe tbody tr th {\n",
       "        vertical-align: top;\n",
       "    }\n",
       "\n",
       "    .dataframe thead th {\n",
       "        text-align: right;\n",
       "    }\n",
       "</style>\n",
       "<table border=\"1\" class=\"dataframe\">\n",
       "  <thead>\n",
       "    <tr style=\"text-align: right;\">\n",
       "      <th></th>\n",
       "      <th>label</th>\n",
       "      <th>brand</th>\n",
       "      <th>name</th>\n",
       "      <th>price</th>\n",
       "      <th>rank</th>\n",
       "      <th>skin_type</th>\n",
       "      <th>ingredients</th>\n",
       "    </tr>\n",
       "  </thead>\n",
       "  <tbody>\n",
       "    <tr>\n",
       "      <th>0</th>\n",
       "      <td>moisturizing-cream-oils-mists</td>\n",
<<<<<<< Updated upstream
       "      <td>la mer</td>\n",
       "      <td>crème de la mer</td>\n",
       "      <td>175.00</td>\n",
       "      <td>4.1</td>\n",
       "      <td>['✔ Normal\\n', '✔ Oily\\n', '✔ Combination\\n', ...</td>\n",
       "      <td>algae (seaweed) extract, mineral oil, petrolat...</td>\n",
=======
       "      <td>LA MER</td>\n",
       "      <td>Crème de la Mer</td>\n",
       "      <td>$175.00</td>\n",
       "      <td>4.1</td>\n",
       "      <td>['✔ Normal\\n', '✔ Oily\\n', '✔ Combination\\n', ...</td>\n",
       "      <td>Algae (Seaweed) Extract, Mineral Oil, Petrolat...</td>\n",
>>>>>>> Stashed changes
       "    </tr>\n",
       "    <tr>\n",
       "      <th>1</th>\n",
       "      <td>moisturizing-cream-oils-mists</td>\n",
<<<<<<< Updated upstream
       "      <td>sk-ii</td>\n",
       "      <td>facial treatment essence</td>\n",
       "      <td>179.00\\r\\n(214.00 value)</td>\n",
       "      <td>4.1</td>\n",
       "      <td>['✔ Normal\\n', '✔ Oily\\n', '✔ Combination\\n', ...</td>\n",
       "      <td>-pitera™: a bio-ingredient rich in vitamins, o...</td>\n",
=======
       "      <td>SK-II</td>\n",
       "      <td>Facial Treatment Essence</td>\n",
       "      <td>$179.00\\n($214.00 value)</td>\n",
       "      <td>4.1</td>\n",
       "      <td>['✔ Normal\\n', '✔ Oily\\n', '✔ Combination\\n', ...</td>\n",
       "      <td>-Pitera™: A bio-ingredient rich in vitamins, o...</td>\n",
>>>>>>> Stashed changes
       "    </tr>\n",
       "    <tr>\n",
       "      <th>2</th>\n",
       "      <td>moisturizing-cream-oils-mists</td>\n",
<<<<<<< Updated upstream
       "      <td>drunk elephant</td>\n",
       "      <td>protini™ polypeptide cream</td>\n",
       "      <td>68.00</td>\n",
       "      <td>4.4</td>\n",
       "      <td>['✔ Normal\\n', '✔ Oily\\n', '✔ Combination\\n', ...</td>\n",
       "      <td>-9 signal peptide complex \\r\\n-pygmy waterlily...</td>\n",
=======
       "      <td>DRUNK ELEPHANT</td>\n",
       "      <td>Protini™ Polypeptide Cream</td>\n",
       "      <td>$68.00</td>\n",
       "      <td>4.4</td>\n",
       "      <td>['✔ Normal\\n', '✔ Oily\\n', '✔ Combination\\n', ...</td>\n",
       "      <td>-9 Signal Peptide Complex \\n-Pygmy Waterlily S...</td>\n",
       "    </tr>\n",
       "    <tr>\n",
       "      <th>3</th>\n",
       "      <td>moisturizing-cream-oils-mists</td>\n",
=======
       "      <td>['✔ Normal\\n', '✔ Oily\\n', '✔ Combination\\n', ...</td>\n",
       "      <td>Algae (Seaweed) Extract, Mineral Oil, Petrolat...</td>\n",
       "    </tr>\n",
       "    <tr>\n",
       "      <th>1</th>\n",
       "      <td>moisturizing-cream-oils-mists</td>\n",
       "      <td>SK-II</td>\n",
       "      <td>Facial Treatment Essence</td>\n",
       "      <td>$179.00\\r\\n($214.00 value)</td>\n",
       "      <td>4.1</td>\n",
       "      <td>['✔ Normal\\n', '✔ Oily\\n', '✔ Combination\\n', ...</td>\n",
       "      <td>-Pitera™: A bio-ingredient rich in vitamins, o...</td>\n",
       "    </tr>\n",
       "    <tr>\n",
       "      <th>2</th>\n",
       "      <td>moisturizing-cream-oils-mists</td>\n",
       "      <td>DRUNK ELEPHANT</td>\n",
       "      <td>Protini™ Polypeptide Cream</td>\n",
       "      <td>$68.00</td>\n",
       "      <td>4.4</td>\n",
       "      <td>['✔ Normal\\n', '✔ Oily\\n', '✔ Combination\\n', ...</td>\n",
       "      <td>-9 Signal Peptide Complex \\r\\n-Pygmy Waterlily...</td>\n",
       "    </tr>\n",
       "    <tr>\n",
       "      <th>3</th>\n",
       "      <td>moisturizing-cream-oils-mists</td>\n",
>>>>>>> Stashed changes
       "      <td>LA MER</td>\n",
       "      <td>The Moisturizing Soft Cream</td>\n",
       "      <td>$175.00</td>\n",
       "      <td>3.8</td>\n",
       "      <td>['✔ Normal\\n', '✔ Oily\\n', '✔ Combination\\n', ...</td>\n",
       "      <td>Algae (Seaweed) Extract, Cyclopentasiloxane, P...</td>\n",
       "    </tr>\n",
       "    <tr>\n",
       "      <th>4</th>\n",
       "      <td>moisturizing-cream-oils-mists</td>\n",
       "      <td>IT COSMETICS</td>\n",
       "      <td>Your Skin But Better™ CC+™ Cream with SPF 50+</td>\n",
       "      <td>$38.00</td>\n",
       "      <td>4.1</td>\n",
       "      <td>['✔ Full\\n', '✔ Sensitive\\n', '✔ Normal\\n', '✔...</td>\n",
       "      <td>-Collagen: Supports skin elasticity for a yout...</td>\n",
<<<<<<< Updated upstream
>>>>>>> Stashed changes
       "    </tr>\n",
       "  </tbody>\n",
       "</table>\n",
       "</div>"
      ],
      "text/plain": [
<<<<<<< Updated upstream
       "                           label           brand                        name  \\\n",
       "0  moisturizing-cream-oils-mists          la mer             crème de la mer   \n",
       "1  moisturizing-cream-oils-mists           sk-ii    facial treatment essence   \n",
       "2  moisturizing-cream-oils-mists  drunk elephant  protini™ polypeptide cream   \n",
       "\n",
       "                      price  rank  \\\n",
       "0                    175.00   4.1   \n",
       "1  179.00\\r\\n(214.00 value)   4.1   \n",
       "2                     68.00   4.4   \n",
       "\n",
       "                                           skin_type  \\\n",
       "0  ['✔ Normal\\n', '✔ Oily\\n', '✔ Combination\\n', ...   \n",
       "1  ['✔ Normal\\n', '✔ Oily\\n', '✔ Combination\\n', ...   \n",
       "2  ['✔ Normal\\n', '✔ Oily\\n', '✔ Combination\\n', ...   \n",
       "\n",
       "                                         ingredients  \n",
       "0  algae (seaweed) extract, mineral oil, petrolat...  \n",
       "1  -pitera™: a bio-ingredient rich in vitamins, o...  \n",
       "2  -9 signal peptide complex \\r\\n-pygmy waterlily...  "
=======
       "                           label           brand  \\\n",
       "0  moisturizing-cream-oils-mists          LA MER   \n",
       "1  moisturizing-cream-oils-mists           SK-II   \n",
       "2  moisturizing-cream-oils-mists  DRUNK ELEPHANT   \n",
       "3  moisturizing-cream-oils-mists          LA MER   \n",
       "4  moisturizing-cream-oils-mists    IT COSMETICS   \n",
       "\n",
       "                                            name                     price  \\\n",
       "0                                Crème de la Mer                   $175.00   \n",
       "1                       Facial Treatment Essence  $179.00\\n($214.00 value)   \n",
       "2                     Protini™ Polypeptide Cream                    $68.00   \n",
       "3                    The Moisturizing Soft Cream                   $175.00   \n",
       "4  Your Skin But Better™ CC+™ Cream with SPF 50+                    $38.00   \n",
       "\n",
       "   rank                                          skin_type  \\\n",
       "0   4.1  ['✔ Normal\\n', '✔ Oily\\n', '✔ Combination\\n', ...   \n",
       "1   4.1  ['✔ Normal\\n', '✔ Oily\\n', '✔ Combination\\n', ...   \n",
       "2   4.4  ['✔ Normal\\n', '✔ Oily\\n', '✔ Combination\\n', ...   \n",
       "3   3.8  ['✔ Normal\\n', '✔ Oily\\n', '✔ Combination\\n', ...   \n",
       "4   4.1  ['✔ Full\\n', '✔ Sensitive\\n', '✔ Normal\\n', '✔...   \n",
       "\n",
       "                                         ingredients  \n",
       "0  Algae (Seaweed) Extract, Mineral Oil, Petrolat...  \n",
       "1  -Pitera™: A bio-ingredient rich in vitamins, o...  \n",
       "2  -9 Signal Peptide Complex \\n-Pygmy Waterlily S...  \n",
       "3  Algae (Seaweed) Extract, Cyclopentasiloxane, P...  \n",
       "4  -Collagen: Supports skin elasticity for a yout...  "
>>>>>>> Stashed changes
      ]
     },
     "execution_count": 114,
     "metadata": {},
     "output_type": "execute_result"
    }
   ],
   "source": [
<<<<<<< Updated upstream
    "#remove dollar sign $ from price\n",
    "cosmetics['price'] = cosmetics['price'].replace({'\\$': ''}, regex=True)\n",
    "cosmetics.head(3) #now what to do with '179\\r\\n(214.00 value)'??"
=======
    "cosmetics.head()"
>>>>>>> Stashed changes
   ]
  },
  {
   "cell_type": "code",
<<<<<<< Updated upstream
   "execution_count": 115,
=======
   "execution_count": 12,
>>>>>>> Stashed changes
   "metadata": {},
   "outputs": [
    {
     "data": {
      "text/html": [
       "<div>\n",
       "<style scoped>\n",
       "    .dataframe tbody tr th:only-of-type {\n",
       "        vertical-align: middle;\n",
       "    }\n",
       "\n",
       "    .dataframe tbody tr th {\n",
       "        vertical-align: top;\n",
       "    }\n",
       "\n",
       "    .dataframe thead th {\n",
       "        text-align: right;\n",
       "    }\n",
       "</style>\n",
       "<table border=\"1\" class=\"dataframe\">\n",
       "  <thead>\n",
       "    <tr style=\"text-align: right;\">\n",
       "      <th></th>\n",
       "      <th>label</th>\n",
       "      <th>brand</th>\n",
       "      <th>name</th>\n",
       "      <th>price</th>\n",
       "      <th>rank</th>\n",
       "      <th>skin_type</th>\n",
       "      <th>ingredients</th>\n",
       "    </tr>\n",
       "  </thead>\n",
       "  <tbody>\n",
       "    <tr>\n",
       "      <th>0</th>\n",
       "      <td>moisturizing</td>\n",
       "      <td>la mer</td>\n",
       "      <td>crème de la mer</td>\n",
       "      <td>175.00</td>\n",
       "      <td>4.1</td>\n",
       "      <td>['✔ Normal\\n', '✔ Oily\\n', '✔ Combination\\n', ...</td>\n",
       "      <td>algae (seaweed) extract, mineral oil, petrolat...</td>\n",
       "    </tr>\n",
       "    <tr>\n",
       "      <th>1629</th>\n",
       "      <td>sunscreen</td>\n",
       "      <td>dermaflash</td>\n",
       "      <td>dermaprotect daily defense broad spectrum spf 50+</td>\n",
       "      <td>45.00</td>\n",
       "      <td>0.0</td>\n",
       "      <td>['✔ Normal\\n', '✔ Oily\\n', '✔ Combination\\n', ...</td>\n",
       "      <td>visit the dermaflash boutique</td>\n",
=======
>>>>>>> Stashed changes
       "    </tr>\n",
       "  </tbody>\n",
       "</table>\n",
       "</div>"
      ],
      "text/plain": [
<<<<<<< Updated upstream
       "             label       brand  \\\n",
       "0     moisturizing      la mer   \n",
       "1629     sunscreen  dermaflash   \n",
       "\n",
       "                                                   name   price  rank  \\\n",
       "0                                       crème de la mer  175.00   4.1   \n",
       "1629  dermaprotect daily defense broad spectrum spf 50+   45.00   0.0   \n",
       "\n",
       "                                              skin_type  \\\n",
       "0     ['✔ Normal\\n', '✔ Oily\\n', '✔ Combination\\n', ...   \n",
       "1629  ['✔ Normal\\n', '✔ Oily\\n', '✔ Combination\\n', ...   \n",
       "\n",
       "                                            ingredients  \n",
       "0     algae (seaweed) extract, mineral oil, petrolat...  \n",
       "1629                      visit the dermaflash boutique  "
      ]
     },
<<<<<<< Updated upstream
     "execution_count": 115,
=======
     "execution_count": 12,
>>>>>>> Stashed changes
=======
       "                           label           brand  \\\n",
       "0  moisturizing-cream-oils-mists          LA MER   \n",
       "1  moisturizing-cream-oils-mists           SK-II   \n",
       "2  moisturizing-cream-oils-mists  DRUNK ELEPHANT   \n",
       "3  moisturizing-cream-oils-mists          LA MER   \n",
       "4  moisturizing-cream-oils-mists    IT COSMETICS   \n",
       "\n",
       "                                            name                       price  \\\n",
       "0                                Crème de la Mer                     $175.00   \n",
       "1                       Facial Treatment Essence  $179.00\\r\\n($214.00 value)   \n",
       "2                     Protini™ Polypeptide Cream                      $68.00   \n",
       "3                    The Moisturizing Soft Cream                     $175.00   \n",
       "4  Your Skin But Better™ CC+™ Cream with SPF 50+                      $38.00   \n",
       "\n",
       "   rank                                          skin_type  \\\n",
       "0   4.1  ['✔ Normal\\n', '✔ Oily\\n', '✔ Combination\\n', ...   \n",
       "1   4.1  ['✔ Normal\\n', '✔ Oily\\n', '✔ Combination\\n', ...   \n",
       "2   4.4  ['✔ Normal\\n', '✔ Oily\\n', '✔ Combination\\n', ...   \n",
       "3   3.8  ['✔ Normal\\n', '✔ Oily\\n', '✔ Combination\\n', ...   \n",
       "4   4.1  ['✔ Full\\n', '✔ Sensitive\\n', '✔ Normal\\n', '✔...   \n",
       "\n",
       "                                         ingredients  \n",
       "0  Algae (Seaweed) Extract, Mineral Oil, Petrolat...  \n",
       "1  -Pitera™: A bio-ingredient rich in vitamins, o...  \n",
       "2  -9 Signal Peptide Complex \\r\\n-Pygmy Waterlily...  \n",
       "3  Algae (Seaweed) Extract, Cyclopentasiloxane, P...  \n",
       "4  -Collagen: Supports skin elasticity for a yout...  "
      ]
     },
     "execution_count": 28,
>>>>>>> Stashed changes
     "metadata": {},
     "output_type": "execute_result"
    }
   ],
   "source": [
<<<<<<< Updated upstream
    "#shorten labels to only show the first word before the dash -\n",
    "cosmetics['label'] = cosmetics['label'].str.split('-').str[0]\n",
    "pd.concat([cosmetics.head(1), cosmetics.tail(1)]) #show first and last row to make sure they're not the same"
=======
    "cosmetics.head()"
>>>>>>> Stashed changes
   ]
  },
  {
   "cell_type": "code",
<<<<<<< Updated upstream
   "execution_count": 28,
   "metadata": {},
   "outputs": [],
   "source": [
    "#clean skin_type to remove check mark ✔ and '\\n' for a raw list\n",
    "\n",
    "#cosmetics['skin_type'] = cosmetics['skin_type'].str.split('✔')"
   ]
  },
  {
   "cell_type": "code",
   "execution_count": 103,
   "metadata": {},
   "outputs": [],
   "source": [
    "#for i in cosmetics['label']: \n",
    "   # seperate = i.str.split(\"-\",1) \n",
    "   # final = seperate[0]\n",
    "   # cosmetics['label'] = final\n",
    "\n",
    "#cosmetics.head() #the beginning ones say sunscreen too when they're supposed to say moisturizing"
=======
   "execution_count": 10,
   "metadata": {},
   "outputs": [],
   "source": [
    "#drop url column\n",
    "cosmetics=cosmetics.drop(['url'], axis=1)"
>>>>>>> Stashed changes
   ]
  },
  {
   "cell_type": "code",
<<<<<<< Updated upstream
   "execution_count": 29,
   "metadata": {},
   "outputs": [],
   "source": [
    "#print(cosmetics.skin_type.unique())"
=======
   "execution_count": 14,
   "metadata": {},
   "outputs": [],
   "source": [
    "unique_skin_list = ['Normal','Oily', 'Combination', 'Dry', 'Sensitive', 'Full', 'Natural', 'Matte', 'Light', 'Radiant']"
   ]
  },
  {
   "cell_type": "code",
   "execution_count": 15,
   "metadata": {},
   "outputs": [],
   "source": [
    "for x in unique_skin_list:\n",
    "    cosmetics[x]=0"
>>>>>>> Stashed changes
   ]
  },
  {
   "cell_type": "code",
   "execution_count": 116,
   "metadata": {},
   "outputs": [
    {
     "data": {
      "text/html": [
       "<div>\n",
       "<style scoped>\n",
       "    .dataframe tbody tr th:only-of-type {\n",
       "        vertical-align: middle;\n",
       "    }\n",
       "\n",
       "    .dataframe tbody tr th {\n",
       "        vertical-align: top;\n",
       "    }\n",
       "\n",
       "    .dataframe thead th {\n",
       "        text-align: right;\n",
       "    }\n",
       "</style>\n",
       "<table border=\"1\" class=\"dataframe\">\n",
       "  <thead>\n",
       "    <tr style=\"text-align: right;\">\n",
       "      <th></th>\n",
       "      <th>label</th>\n",
       "      <th>brand</th>\n",
       "      <th>name</th>\n",
       "      <th>price</th>\n",
       "      <th>rank</th>\n",
       "      <th>skin_type</th>\n",
       "      <th>ingredients</th>\n",
<<<<<<< Updated upstream
       "      <th>dry</th>\n",
       "      <th>light</th>\n",
       "      <th>normal</th>\n",
       "      <th>oily</th>\n",
       "      <th>full</th>\n",
       "      <th>combination</th>\n",
       "      <th>sensitive</th>\n",
       "      <th>natural</th>\n",
       "      <th>radiant</th>\n",
=======
       "      <th>Normal</th>\n",
       "      <th>Oily</th>\n",
       "      <th>Combination</th>\n",
       "      <th>Dry</th>\n",
       "      <th>Sensitive</th>\n",
       "      <th>Full</th>\n",
       "      <th>Natural</th>\n",
       "      <th>Matte</th>\n",
       "      <th>Light</th>\n",
       "      <th>Radiant</th>\n",
>>>>>>> Stashed changes
       "    </tr>\n",
       "  </thead>\n",
       "  <tbody>\n",
       "    <tr>\n",
       "      <th>0</th>\n",
       "      <td>moisturizing</td>\n",
       "      <td>la mer</td>\n",
       "      <td>crème de la mer</td>\n",
       "      <td>175.00</td>\n",
       "      <td>4.1</td>\n",
       "      <td>['✔ Normal\\n', '✔ Oily\\n', '✔ Combination\\n', ...</td>\n",
       "      <td>algae (seaweed) extract, mineral oil, petrolat...</td>\n",
       "      <td>0</td>\n",
       "      <td>0</td>\n",
       "      <td>0</td>\n",
       "      <td>0</td>\n",
       "      <td>0</td>\n",
       "      <td>0</td>\n",
       "      <td>0</td>\n",
       "      <td>0</td>\n",
       "      <td>0</td>\n",
       "      <td>0</td>\n",
       "      <td>0</td>\n",
       "      <td>0</td>\n",
       "      <td>0</td>\n",
       "      <td>0</td>\n",
       "      <td>0</td>\n",
       "      <td>0</td>\n",
       "      <td>0</td>\n",
       "      <td>0</td>\n",
       "    </tr>\n",
       "    <tr>\n",
       "      <th>1</th>\n",
       "      <td>moisturizing</td>\n",
       "      <td>sk-ii</td>\n",
       "      <td>facial treatment essence</td>\n",
       "      <td>179.00\\r\\n(214.00 value)</td>\n",
       "      <td>4.1</td>\n",
       "      <td>['✔ Normal\\n', '✔ Oily\\n', '✔ Combination\\n', ...</td>\n",
       "      <td>-pitera™: a bio-ingredient rich in vitamins, o...</td>\n",
       "      <td>0</td>\n",
       "      <td>0</td>\n",
       "      <td>0</td>\n",
       "      <td>0</td>\n",
       "      <td>0</td>\n",
       "      <td>0</td>\n",
       "      <td>0</td>\n",
       "      <td>0</td>\n",
       "      <td>0</td>\n",
       "      <td>0</td>\n",
       "      <td>0</td>\n",
       "      <td>0</td>\n",
       "      <td>0</td>\n",
       "      <td>0</td>\n",
       "      <td>0</td>\n",
       "      <td>0</td>\n",
       "      <td>0</td>\n",
       "      <td>0</td>\n",
       "    </tr>\n",
       "    <tr>\n",
       "      <th>2</th>\n",
       "      <td>moisturizing</td>\n",
       "      <td>drunk elephant</td>\n",
       "      <td>protini™ polypeptide cream</td>\n",
       "      <td>68.00</td>\n",
       "      <td>4.4</td>\n",
       "      <td>['✔ Normal\\n', '✔ Oily\\n', '✔ Combination\\n', ...</td>\n",
       "      <td>-9 signal peptide complex \\r\\n-pygmy waterlily...</td>\n",
       "      <td>0</td>\n",
       "      <td>0</td>\n",
       "      <td>0</td>\n",
       "      <td>0</td>\n",
       "      <td>0</td>\n",
       "      <td>0</td>\n",
       "      <td>0</td>\n",
       "      <td>0</td>\n",
       "      <td>0</td>\n",
       "      <td>0</td>\n",
       "      <td>0</td>\n",
       "      <td>0</td>\n",
       "      <td>0</td>\n",
       "      <td>0</td>\n",
       "      <td>0</td>\n",
       "      <td>0</td>\n",
       "      <td>0</td>\n",
       "      <td>0</td>\n",
       "    </tr>\n",
       "    <tr>\n",
       "      <th>3</th>\n",
       "      <td>moisturizing</td>\n",
       "      <td>la mer</td>\n",
       "      <td>the moisturizing soft cream</td>\n",
       "      <td>175.00</td>\n",
       "      <td>3.8</td>\n",
       "      <td>['✔ Normal\\n', '✔ Oily\\n', '✔ Combination\\n', ...</td>\n",
       "      <td>algae (seaweed) extract, cyclopentasiloxane, p...</td>\n",
       "      <td>0</td>\n",
       "      <td>0</td>\n",
       "      <td>0</td>\n",
       "      <td>0</td>\n",
       "      <td>0</td>\n",
       "      <td>0</td>\n",
       "      <td>0</td>\n",
       "      <td>0</td>\n",
       "      <td>0</td>\n",
       "      <td>0</td>\n",
       "      <td>0</td>\n",
       "      <td>0</td>\n",
       "      <td>0</td>\n",
       "      <td>0</td>\n",
       "      <td>0</td>\n",
       "      <td>0</td>\n",
       "      <td>0</td>\n",
       "      <td>0</td>\n",
       "    </tr>\n",
       "    <tr>\n",
       "      <th>4</th>\n",
       "      <td>moisturizing</td>\n",
       "      <td>it cosmetics</td>\n",
       "      <td>your skin but better™ cc+™ cream with spf 50+</td>\n",
       "      <td>38.00</td>\n",
       "      <td>4.1</td>\n",
       "      <td>['✔ Full\\n', '✔ Sensitive\\n', '✔ Normal\\n', '✔...</td>\n",
       "      <td>-collagen: supports skin elasticity for a yout...</td>\n",
       "      <td>0</td>\n",
       "      <td>0</td>\n",
       "      <td>0</td>\n",
       "      <td>0</td>\n",
       "      <td>0</td>\n",
       "      <td>0</td>\n",
       "      <td>0</td>\n",
       "      <td>0</td>\n",
       "      <td>0</td>\n",
       "      <td>0</td>\n",
       "      <td>0</td>\n",
       "      <td>0</td>\n",
       "      <td>0</td>\n",
       "      <td>0</td>\n",
       "      <td>0</td>\n",
       "      <td>0</td>\n",
       "      <td>0</td>\n",
       "      <td>0</td>\n",
       "    </tr>\n",
       "  </tbody>\n",
       "</table>\n",
       "</div>"
      ],
      "text/plain": [
       "          label           brand  \\\n",
       "0  moisturizing          la mer   \n",
       "1  moisturizing           sk-ii   \n",
       "2  moisturizing  drunk elephant   \n",
       "3  moisturizing          la mer   \n",
       "4  moisturizing    it cosmetics   \n",
       "\n",
       "                                            name                     price  \\\n",
       "0                                crème de la mer                    175.00   \n",
       "1                       facial treatment essence  179.00\\r\\n(214.00 value)   \n",
       "2                     protini™ polypeptide cream                     68.00   \n",
       "3                    the moisturizing soft cream                    175.00   \n",
       "4  your skin but better™ cc+™ cream with spf 50+                     38.00   \n",
       "\n",
       "   rank                                          skin_type  \\\n",
       "0   4.1  ['✔ Normal\\n', '✔ Oily\\n', '✔ Combination\\n', ...   \n",
       "1   4.1  ['✔ Normal\\n', '✔ Oily\\n', '✔ Combination\\n', ...   \n",
       "2   4.4  ['✔ Normal\\n', '✔ Oily\\n', '✔ Combination\\n', ...   \n",
       "3   3.8  ['✔ Normal\\n', '✔ Oily\\n', '✔ Combination\\n', ...   \n",
       "4   4.1  ['✔ Full\\n', '✔ Sensitive\\n', '✔ Normal\\n', '✔...   \n",
       "\n",
<<<<<<< Updated upstream
       "                                         ingredients  dry  light  normal  \\\n",
       "0  algae (seaweed) extract, mineral oil, petrolat...    0      0       0   \n",
       "1  -pitera™: a bio-ingredient rich in vitamins, o...    0      0       0   \n",
       "2  -9 signal peptide complex \\r\\n-pygmy waterlily...    0      0       0   \n",
       "3  algae (seaweed) extract, cyclopentasiloxane, p...    0      0       0   \n",
       "4  -collagen: supports skin elasticity for a yout...    0      0       0   \n",
       "\n",
       "   oily  full  combination  sensitive  natural  radiant  \n",
       "0     0     0            0          0        0        0  \n",
       "1     0     0            0          0        0        0  \n",
       "2     0     0            0          0        0        0  \n",
       "3     0     0            0          0        0        0  \n",
       "4     0     0            0          0        0        0  "
=======
       "                                         ingredients  Normal  Oily  \\\n",
       "0  Algae (Seaweed) Extract, Mineral Oil, Petrolat...       0     0   \n",
       "1  -Pitera™: A bio-ingredient rich in vitamins, o...       0     0   \n",
       "2  -9 Signal Peptide Complex \\n-Pygmy Waterlily S...       0     0   \n",
       "3  Algae (Seaweed) Extract, Cyclopentasiloxane, P...       0     0   \n",
       "4  -Collagen: Supports skin elasticity for a yout...       0     0   \n",
       "\n",
       "   Combination  Dry  Sensitive  Full  Natural  Matte  Light  Radiant  \n",
       "0            0    0          0     0        0      0      0        0  \n",
       "1            0    0          0     0        0      0      0        0  \n",
       "2            0    0          0     0        0      0      0        0  \n",
       "3            0    0          0     0        0      0      0        0  \n",
       "4            0    0          0     0        0      0      0        0  "
>>>>>>> Stashed changes
      ]
     },
     "execution_count": 116,
     "metadata": {},
     "output_type": "execute_result"
    }
   ],
   "source": [
    "cosmetics['dry']=0\n",
    "cosmetics['light']=0\n",
    "cosmetics['normal']=0 #create new column 'normal'\n",
    "cosmetics['oily']=0\n",
    "cosmetics['full']=0\n",
    "cosmetics['combination']=0\n",
    "cosmetics['sensitive']=0\n",
    "cosmetics['natural']=0\n",
    "cosmetics['radiant']=0\n",
    "\n",
    "cosmetics.head()"
   ]
  },
  {
   "cell_type": "code",
<<<<<<< Updated upstream
<<<<<<< Updated upstream
   "execution_count": null,
   "metadata": {},
   "outputs": [],
   "source": []
  },
  {
   "cell_type": "code",
   "execution_count": 30,
   "metadata": {},
   "outputs": [],
   "source": [
    "#count=-1\n",
    "#for x in cosmetics['skin_type']:\n",
    "#    count+=1\n",
    "#    if 'Normal' in x:\n",
    "#        cosmetics.normal[count]=1        "
=======
   "execution_count": 31,
   "metadata": {},
   "outputs": [
    {
     "name": "stderr",
     "output_type": "stream",
     "text": [
      "C:\\ProgramData\\Anaconda3\\lib\\site-packages\\ipykernel_launcher.py:3: SettingWithCopyWarning: \n",
      "A value is trying to be set on a copy of a slice from a DataFrame\n",
      "\n",
      "See the caveats in the documentation: http://pandas.pydata.org/pandas-docs/stable/indexing.html#indexing-view-versus-copy\n",
      "  This is separate from the ipykernel package so we can avoid doing imports until\n"
     ]
    },
    {
     "ename": "IndexError",
     "evalue": "list index out of range",
     "output_type": "error",
     "traceback": [
      "\u001b[1;31m---------------------------------------------------------------------------\u001b[0m",
      "\u001b[1;31mIndexError\u001b[0m                                Traceback (most recent call last)",
      "\u001b[1;32m<ipython-input-31-67a10300fe70>\u001b[0m in \u001b[0;36m<module>\u001b[1;34m()\u001b[0m\n\u001b[0;32m      1\u001b[0m \u001b[0mpattern\u001b[0m \u001b[1;33m=\u001b[0m \u001b[0mre\u001b[0m\u001b[1;33m.\u001b[0m\u001b[0mcompile\u001b[0m\u001b[1;33m(\u001b[0m\u001b[1;34mr\"(\\d+).\\d+\"\u001b[0m\u001b[1;33m)\u001b[0m\u001b[1;33m\u001b[0m\u001b[0m\n\u001b[0;32m      2\u001b[0m \u001b[1;32mfor\u001b[0m \u001b[0mi\u001b[0m \u001b[1;32min\u001b[0m \u001b[0mrange\u001b[0m\u001b[1;33m(\u001b[0m\u001b[0mlen\u001b[0m\u001b[1;33m(\u001b[0m\u001b[0mcosmetics\u001b[0m\u001b[1;33m)\u001b[0m\u001b[1;33m)\u001b[0m\u001b[1;33m:\u001b[0m\u001b[1;33m\u001b[0m\u001b[0m\n\u001b[1;32m----> 3\u001b[1;33m     \u001b[0mcosmetics\u001b[0m\u001b[1;33m[\u001b[0m\u001b[1;34m'price'\u001b[0m\u001b[1;33m]\u001b[0m\u001b[1;33m[\u001b[0m\u001b[0mi\u001b[0m\u001b[1;33m]\u001b[0m \u001b[1;33m=\u001b[0m \u001b[0mre\u001b[0m\u001b[1;33m.\u001b[0m\u001b[0mfindall\u001b[0m\u001b[1;33m(\u001b[0m\u001b[0mpattern\u001b[0m\u001b[1;33m,\u001b[0m \u001b[0mcosmetics\u001b[0m\u001b[1;33m[\u001b[0m\u001b[1;34m'price'\u001b[0m\u001b[1;33m]\u001b[0m\u001b[1;33m[\u001b[0m\u001b[0mi\u001b[0m\u001b[1;33m]\u001b[0m\u001b[1;33m)\u001b[0m\u001b[1;33m[\u001b[0m\u001b[1;36m0\u001b[0m\u001b[1;33m]\u001b[0m\u001b[1;33m\u001b[0m\u001b[0m\n\u001b[0m\u001b[0;32m      4\u001b[0m \u001b[1;33m\u001b[0m\u001b[0m\n\u001b[0;32m      5\u001b[0m \u001b[0mcosmestics\u001b[0m\u001b[1;33m[\u001b[0m\u001b[1;34m'price'\u001b[0m\u001b[1;33m]\u001b[0m \u001b[1;33m=\u001b[0m \u001b[0mpd\u001b[0m\u001b[1;33m.\u001b[0m\u001b[0mto_numeric\u001b[0m\u001b[1;33m(\u001b[0m\u001b[0mcosmetics\u001b[0m\u001b[1;33m[\u001b[0m\u001b[1;34m'price'\u001b[0m\u001b[1;33m]\u001b[0m\u001b[1;33m)\u001b[0m\u001b[1;33m\u001b[0m\u001b[0m\n",
      "\u001b[1;31mIndexError\u001b[0m: list index out of range"
     ]
    }
   ],
   "source": [
    "pattern = re.compile(r\"(\\d+).\\d+\")\n",
    "for i in range(len(cosmetics)):\n",
    "    cosmetics['price'][i] = re.findall(pattern, cosmetics['price'][i])[0]\n",
    "\n",
    "cosmestics['price'] = pd.to_numeric(cosmetics['price'])"
>>>>>>> Stashed changes
   ]
  },
  {
   "cell_type": "code",
<<<<<<< Updated upstream
   "execution_count": 52,
=======
   "execution_count": 13,
>>>>>>> Stashed changes
   "metadata": {},
   "outputs": [
    {
     "data": {
      "text/plain": [
       "(1630, 8)"
      ]
     },
     "execution_count": 52,
     "metadata": {},
     "output_type": "execute_result"
    }
   ],
   "source": [
    "cosmetics.shape"
=======
   "execution_count": 17,
   "metadata": {},
   "outputs": [],
   "source": [
    "cosmetics['skin_type'] = cosmetics['skin_type'].astype(str)"
>>>>>>> Stashed changes
   ]
  },
  {
   "cell_type": "code",
<<<<<<< Updated upstream
   "execution_count": 118,
   "metadata": {},
   "outputs": [
    {
     "data": {
      "text/plain": [
       "label\n",
       "cleanser        4.298997\n",
       "eye             3.817593\n",
       "face            4.185906\n",
       "facial          4.217000\n",
       "moisturizing    4.265772\n",
       "sunscreen       4.069953\n",
       "Name: rank, dtype: float64"
      ]
     },
     "execution_count": 118,
     "metadata": {},
     "output_type": "execute_result"
    }
   ],
   "source": [
    "#average rank per label\n",
    "cosmetics.groupby(['label'])['rank'].mean() "
=======
   "execution_count": 18,
   "metadata": {},
   "outputs": [],
   "source": [
    "count=-1\n",
    "for x in cosmetics['skin_type']:\n",
    "    count+=1\n",
    "    for s_type in unique_skin_list:\n",
    "        if s_type in x:\n",
    "            cosmetics.loc[count,s_type]=1\n",
    "    \n"
>>>>>>> Stashed changes
   ]
  },
  {
   "cell_type": "code",
<<<<<<< Updated upstream
<<<<<<< Updated upstream
   "execution_count": 120,
   "metadata": {},
   "outputs": [
    {
     "data": {
      "image/png": "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\n",
      "text/plain": [
       "<Figure size 921.6x633.6 with 1 Axes>"
      ]
     },
     "metadata": {},
     "output_type": "display_data"
    }
   ],
   "source": [
    "#rank by label boxplot\n",
    "cosmetics.boxplot('rank', by='label', rot=90)\n",
    "plt.xlabel('Label')\n",
    "plt.ylabel('Rank')\n",
    "plt.title('Rank by Label')\n",
    "plt.suptitle('')\n",
    "plt.show()"
   ]
  },
  {
   "cell_type": "code",
   "execution_count": 117,
   "metadata": {},
   "outputs": [
    {
     "data": {
      "text/plain": [
       "brand\n",
       "algenist                         4.023333\n",
       "amorepacific                     4.254167\n",
       "anthony                          4.233333\n",
       "apivita                          4.000000\n",
       "bareminerals                     4.116667\n",
       "beautybio                        3.660000\n",
       "becca                            4.066667\n",
       "belif                            4.380000\n",
       "bioeffect                        4.900000\n",
       "biossance                        4.423077\n",
       "black up                         4.700000\n",
       "blithe                           4.433333\n",
       "bobbi brown                      4.272727\n",
       "boscia                           3.979167\n",
       "cane + austin                    4.150000\n",
       "caudalie                         4.187879\n",
       "charlotte tilbury                4.316667\n",
       "clarins                          4.151852\n",
       "clarisonic                       5.000000\n",
       "clinique                         4.132967\n",
       "coola                            4.278947\n",
       "cover fx                         3.900000\n",
       "dermadoctor                      4.054545\n",
       "dermaflash                       0.000000\n",
       "dior                             4.378571\n",
       "dr roebuck’s                     4.233333\n",
       "dr. brandt skincare              3.990476\n",
       "dr. dennis gross skincare        4.170370\n",
       "dr. jart+                        4.176087\n",
       "drunk elephant                   4.103846\n",
       "                                   ...   \n",
       "perricone md                     4.261290\n",
       "peter thomas roth                4.097959\n",
       "philosophy                       4.025000\n",
       "private doctor                   4.800000\n",
       "ren clean skincare               4.188235\n",
       "sand & sky                       4.700000\n",
       "saturday skin                    4.528571\n",
       "sephora collection               4.223529\n",
       "shiseido                         4.215942\n",
       "sk-ii                            3.790476\n",
       "skin inc supplement bar          4.083333\n",
       "skin laundry                     3.800000\n",
       "smashbox                         4.014286\n",
       "son & park                       4.600000\n",
       "st. tropez tanning essentials    2.400000\n",
       "summer fridays                   4.300000\n",
       "sunday riley                     4.158824\n",
       "supergoop!                       4.193750\n",
       "tarte                            4.175000\n",
       "tata harper                      4.042857\n",
       "tatcha                           4.280000\n",
       "tom ford                         4.600000\n",
       "too cool for school              4.014286\n",
       "too faced                        4.200000\n",
       "urban decay                      4.100000\n",
       "vita liberata                    3.850000\n",
       "volition beauty                  4.420000\n",
       "wander beauty                    4.450000\n",
       "youth to the people              4.357143\n",
       "yves saint laurent               3.400000\n",
       "Name: rank, Length: 116, dtype: float64"
      ]
     },
     "execution_count": 117,
     "metadata": {},
     "output_type": "execute_result"
    }
   ],
   "source": [
    "#average rank per brand\n",
    "cosmetics.groupby(['brand'])['rank'].mean() #there's 116 brands... too much for a plot"
   ]
  },
  {
   "cell_type": "code",
   "execution_count": 31,
=======
   "execution_count": 19,
>>>>>>> Stashed changes
=======
   "execution_count": 26,
>>>>>>> Stashed changes
   "metadata": {},
   "outputs": [
    {
     "data": {
      "text/html": [
       "<div>\n",
       "<style scoped>\n",
       "    .dataframe tbody tr th:only-of-type {\n",
       "        vertical-align: middle;\n",
       "    }\n",
       "\n",
       "    .dataframe tbody tr th {\n",
       "        vertical-align: top;\n",
       "    }\n",
       "\n",
       "    .dataframe thead th {\n",
       "        text-align: right;\n",
       "    }\n",
       "</style>\n",
       "<table border=\"1\" class=\"dataframe\">\n",
       "  <thead>\n",
       "    <tr style=\"text-align: right;\">\n",
       "      <th></th>\n",
       "      <th>label</th>\n",
       "      <th>brand</th>\n",
       "      <th>name</th>\n",
       "      <th>price</th>\n",
       "      <th>rank</th>\n",
       "      <th>skin_type</th>\n",
       "      <th>ingredients</th>\n",
<<<<<<< Updated upstream
       "      <th>normal</th>\n",
       "      <th>oily</th>\n",
       "      <th>combination</th>\n",
       "      <th>dry</th>\n",
       "      <th>sensitive</th>\n",
       "      <th>full</th>\n",
       "      <th>natural</th>\n",
       "      <th>matte</th>\n",
       "      <th>light</th>\n",
       "      <th>radiant</th>\n",
=======
>>>>>>> Stashed changes
       "    </tr>\n",
       "  </thead>\n",
       "  <tbody>\n",
       "    <tr>\n",
       "      <th>0</th>\n",
       "      <td>moisturizing-cream-oils-mists</td>\n",
       "      <td>LA MER</td>\n",
       "      <td>Crème de la Mer</td>\n",
       "      <td>$175.00</td>\n",
       "      <td>4.1</td>\n",
       "      <td>['✔ Normal\\n', '✔ Oily\\n', '✔ Combination\\n', ...</td>\n",
       "      <td>Algae (Seaweed) Extract, Mineral Oil, Petrolat...</td>\n",
<<<<<<< Updated upstream
       "      <td>1</td>\n",
       "      <td>1</td>\n",
       "      <td>1</td>\n",
       "      <td>1</td>\n",
       "      <td>1</td>\n",
       "      <td>0</td>\n",
       "      <td>0</td>\n",
       "      <td>0</td>\n",
       "      <td>0</td>\n",
       "      <td>0</td>\n",
=======
>>>>>>> Stashed changes
       "    </tr>\n",
       "    <tr>\n",
       "      <th>1</th>\n",
       "      <td>moisturizing-cream-oils-mists</td>\n",
       "      <td>SK-II</td>\n",
       "      <td>Facial Treatment Essence</td>\n",
       "      <td>$179.00\\r\\n($214.00 value)</td>\n",
       "      <td>4.1</td>\n",
       "      <td>['✔ Normal\\n', '✔ Oily\\n', '✔ Combination\\n', ...</td>\n",
       "      <td>-Pitera™: A bio-ingredient rich in vitamins, o...</td>\n",
<<<<<<< Updated upstream
       "      <td>1</td>\n",
       "      <td>1</td>\n",
       "      <td>1</td>\n",
       "      <td>1</td>\n",
       "      <td>1</td>\n",
       "      <td>0</td>\n",
       "      <td>0</td>\n",
       "      <td>0</td>\n",
       "      <td>0</td>\n",
       "      <td>0</td>\n",
=======
>>>>>>> Stashed changes
       "    </tr>\n",
       "    <tr>\n",
       "      <th>2</th>\n",
       "      <td>moisturizing-cream-oils-mists</td>\n",
       "      <td>DRUNK ELEPHANT</td>\n",
       "      <td>Protini™ Polypeptide Cream</td>\n",
       "      <td>$68.00</td>\n",
       "      <td>4.4</td>\n",
       "      <td>['✔ Normal\\n', '✔ Oily\\n', '✔ Combination\\n', ...</td>\n",
<<<<<<< Updated upstream
       "      <td>-9 Signal Peptide Complex \\n-Pygmy Waterlily S...</td>\n",
       "      <td>1</td>\n",
       "      <td>1</td>\n",
       "      <td>1</td>\n",
       "      <td>1</td>\n",
       "      <td>0</td>\n",
       "      <td>0</td>\n",
       "      <td>0</td>\n",
       "      <td>0</td>\n",
       "      <td>0</td>\n",
       "      <td>0</td>\n",
=======
       "      <td>-9 Signal Peptide Complex \\r\\n-Pygmy Waterlily...</td>\n",
>>>>>>> Stashed changes
       "    </tr>\n",
       "    <tr>\n",
       "      <th>3</th>\n",
       "      <td>moisturizing-cream-oils-mists</td>\n",
       "      <td>LA MER</td>\n",
       "      <td>The Moisturizing Soft Cream</td>\n",
       "      <td>$175.00</td>\n",
       "      <td>3.8</td>\n",
       "      <td>['✔ Normal\\n', '✔ Oily\\n', '✔ Combination\\n', ...</td>\n",
       "      <td>Algae (Seaweed) Extract, Cyclopentasiloxane, P...</td>\n",
<<<<<<< Updated upstream
       "      <td>1</td>\n",
       "      <td>1</td>\n",
       "      <td>1</td>\n",
       "      <td>1</td>\n",
       "      <td>1</td>\n",
       "      <td>0</td>\n",
       "      <td>0</td>\n",
       "      <td>0</td>\n",
       "      <td>0</td>\n",
       "      <td>0</td>\n",
=======
>>>>>>> Stashed changes
       "    </tr>\n",
       "    <tr>\n",
       "      <th>4</th>\n",
       "      <td>moisturizing-cream-oils-mists</td>\n",
       "      <td>IT COSMETICS</td>\n",
       "      <td>Your Skin But Better™ CC+™ Cream with SPF 50+</td>\n",
       "      <td>$38.00</td>\n",
       "      <td>4.1</td>\n",
       "      <td>['✔ Full\\n', '✔ Sensitive\\n', '✔ Normal\\n', '✔...</td>\n",
       "      <td>-Collagen: Supports skin elasticity for a yout...</td>\n",
<<<<<<< Updated upstream
       "      <td>1</td>\n",
       "      <td>1</td>\n",
       "      <td>1</td>\n",
       "      <td>1</td>\n",
       "      <td>1</td>\n",
       "      <td>1</td>\n",
       "      <td>1</td>\n",
       "      <td>0</td>\n",
       "      <td>0</td>\n",
       "      <td>0</td>\n",
=======
>>>>>>> Stashed changes
       "    </tr>\n",
       "  </tbody>\n",
       "</table>\n",
       "</div>"
      ],
      "text/plain": [
       "                           label           brand  \\\n",
       "0  moisturizing-cream-oils-mists          LA MER   \n",
       "1  moisturizing-cream-oils-mists           SK-II   \n",
       "2  moisturizing-cream-oils-mists  DRUNK ELEPHANT   \n",
       "3  moisturizing-cream-oils-mists          LA MER   \n",
       "4  moisturizing-cream-oils-mists    IT COSMETICS   \n",
       "\n",
       "                                            name                       price  \\\n",
       "0                                Crème de la Mer                     $175.00   \n",
       "1                       Facial Treatment Essence  $179.00\\r\\n($214.00 value)   \n",
       "2                     Protini™ Polypeptide Cream                      $68.00   \n",
       "3                    The Moisturizing Soft Cream                     $175.00   \n",
       "4  Your Skin But Better™ CC+™ Cream with SPF 50+                      $38.00   \n",
       "\n",
       "   rank                                          skin_type  \\\n",
       "0   4.1  ['✔ Normal\\n', '✔ Oily\\n', '✔ Combination\\n', ...   \n",
       "1   4.1  ['✔ Normal\\n', '✔ Oily\\n', '✔ Combination\\n', ...   \n",
       "2   4.4  ['✔ Normal\\n', '✔ Oily\\n', '✔ Combination\\n', ...   \n",
       "3   3.8  ['✔ Normal\\n', '✔ Oily\\n', '✔ Combination\\n', ...   \n",
       "4   4.1  ['✔ Full\\n', '✔ Sensitive\\n', '✔ Normal\\n', '✔...   \n",
       "\n",
<<<<<<< Updated upstream
       "                                         ingredients  normal  oily  \\\n",
       "0  Algae (Seaweed) Extract, Mineral Oil, Petrolat...       1     1   \n",
       "1  -Pitera™: A bio-ingredient rich in vitamins, o...       1     1   \n",
       "2  -9 Signal Peptide Complex \\n-Pygmy Waterlily S...       1     1   \n",
       "3  Algae (Seaweed) Extract, Cyclopentasiloxane, P...       1     1   \n",
       "4  -Collagen: Supports skin elasticity for a yout...       1     1   \n",
       "\n",
       "   combination  dry  sensitive  full  natural  matte  light  radiant  \n",
       "0            1    1          1     0        0      0      0        0  \n",
       "1            1    1          1     0        0      0      0        0  \n",
       "2            1    1          0     0        0      0      0        0  \n",
       "3            1    1          1     0        0      0      0        0  \n",
       "4            1    1          1     1        1      0      0        0  "
      ]
     },
     "execution_count": 19,
=======
       "                                         ingredients  \n",
       "0  Algae (Seaweed) Extract, Mineral Oil, Petrolat...  \n",
       "1  -Pitera™: A bio-ingredient rich in vitamins, o...  \n",
       "2  -9 Signal Peptide Complex \\r\\n-Pygmy Waterlily...  \n",
       "3  Algae (Seaweed) Extract, Cyclopentasiloxane, P...  \n",
       "4  -Collagen: Supports skin elasticity for a yout...  "
      ]
     },
     "execution_count": 26,
>>>>>>> Stashed changes
     "metadata": {},
     "output_type": "execute_result"
    }
   ],
   "source": [
<<<<<<< Updated upstream
    "#average price by brand\n",
    "#cosmetics.groupby(['brand'])['price'].mean() #need to clean up prices before this can work"
=======
    "col_lower = [i.lower() for i in cosmetics.columns]\n",
    "cosmetics=cosmetics.copy()\n",
    "cosmetics.columns=col_lower\n",
    "cosmetics.head()"
>>>>>>> Stashed changes
   ]
  },
  {
   "cell_type": "code",
   "execution_count": null,
   "metadata": {},
   "outputs": [],
   "source": [
    "#rank by price scatterplot\n",
    "plt.scatter(x='rank',y='price')\n",
    "plt.xlabel('Rank')\n",
    "plt.ylabel('Price')\n",
    "plt.title('Rank by Price')\n",
    "plt.show() #also, will work once price is cleaned"
   ]
  }
 ],
 "metadata": {
  "kernelspec": {
   "display_name": "Python 3",
   "language": "python",
   "name": "python3"
  },
  "language_info": {
   "codemirror_mode": {
    "name": "ipython",
    "version": 3
   },
   "file_extension": ".py",
   "mimetype": "text/x-python",
   "name": "python",
   "nbconvert_exporter": "python",
   "pygments_lexer": "ipython3",
   "version": "3.6.5"
  }
 },
 "nbformat": 4,
 "nbformat_minor": 4
}
