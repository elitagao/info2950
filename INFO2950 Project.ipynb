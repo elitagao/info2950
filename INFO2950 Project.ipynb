{
 "cells": [
  {
   "cell_type": "code",
   "execution_count": 1,
   "metadata": {},
   "outputs": [],
   "source": [
    "import pandas as pd\n",
    "import numpy as np\n",
    "import matplotlib.pyplot as plt\n",
    "from scipy import stats\n",
    "\n",
    "import seaborn as sns\n",
    "\n",
    "%matplotlib inline\n",
    "plt.rcParams['figure.figsize'] = (12.0, 8.0)\n",
    "plt.style.use('seaborn-poster')\n",
    "\n"
   ]
  },
  {
   "cell_type": "code",
   "execution_count": 4,
   "metadata": {},
   "outputs": [
    {
     "data": {
      "image/png": "[encoded data removed]",
      "text/plain": [
       "<Figure size 432x288 with 1 Axes>"
      ]
     },
     "metadata": {},
     "output_type": "display_data"
    },
    {
     "data": {
      "text/html": [
       "<div>\n",
       "<style scoped>\n",
       "    .dataframe tbody tr th:only-of-type {\n",
       "        vertical-align: middle;\n",
       "    }\n",
       "\n",
       "    .dataframe tbody tr th {\n",
       "        vertical-align: top;\n",
       "    }\n",
       "\n",
       "    .dataframe thead th {\n",
       "        text-align: right;\n",
       "    }\n",
       "</style>\n",
       "<table border=\"1\" class=\"dataframe\">\n",
       "  <thead>\n",
       "    <tr style=\"text-align: right;\">\n",
       "      <th></th>\n",
       "      <th>category</th>\n",
       "      <th>brand</th>\n",
       "      <th>product</th>\n",
       "      <th>price</th>\n",
       "      <th>rating</th>\n",
       "    </tr>\n",
       "  </thead>\n",
       "  <tbody>\n",
       "    <tr>\n",
       "      <th>0</th>\n",
       "      <td>Night Cream</td>\n",
       "      <td>Hada Labo</td>\n",
       "      <td>Perfect 3D Gel</td>\n",
       "      <td>6.37</td>\n",
       "      <td>3.8</td>\n",
       "    </tr>\n",
       "    <tr>\n",
       "      <th>1</th>\n",
       "      <td>Face Mist</td>\n",
       "      <td>PIXY</td>\n",
       "      <td>Aqua Beauty Protecting Mist</td>\n",
       "      <td>1.89</td>\n",
       "      <td>4.2</td>\n",
       "    </tr>\n",
       "    <tr>\n",
       "      <th>2</th>\n",
       "      <td>Night Cream</td>\n",
       "      <td>Wardah</td>\n",
       "      <td>Lightening Night Cream</td>\n",
       "      <td>0.00</td>\n",
       "      <td>3.5</td>\n",
       "    </tr>\n",
       "    <tr>\n",
       "      <th>3</th>\n",
       "      <td>Face Mist</td>\n",
       "      <td>Avene</td>\n",
       "      <td>Thermal Spring Water</td>\n",
       "      <td>13.93</td>\n",
       "      <td>4.4</td>\n",
       "    </tr>\n",
       "    <tr>\n",
       "      <th>4</th>\n",
       "      <td>Night Cream</td>\n",
       "      <td>Wardah</td>\n",
       "      <td>White Secret Night Cream</td>\n",
       "      <td>6.86</td>\n",
       "      <td>3.6</td>\n",
       "    </tr>\n",
       "  </tbody>\n",
       "</table>\n",
       "</div>"
      ],
      "text/plain": [
       "      category      brand                      product  price  rating\n",
       "0  Night Cream  Hada Labo               Perfect 3D Gel   6.37     3.8\n",
       "1    Face Mist       PIXY  Aqua Beauty Protecting Mist   1.89     4.2\n",
       "2  Night Cream     Wardah       Lightening Night Cream   0.00     3.5\n",
       "3    Face Mist      Avene         Thermal Spring Water  13.93     4.4\n",
       "4  Night Cream     Wardah     White Secret Night Cream   6.86     3.6"
      ]
     },
     "execution_count": 4,
     "metadata": {},
     "output_type": "execute_result"
    }
   ],
   "source": [
    "skincare_data = pd.read_csv(\"00. InfoProduct.csv\")\n",
    "#skincare_data = skincare_data['Reviewer'].drop()\n",
    "\n",
    "skincare_data=skincare_data.drop(['Reviewer'], axis=1)\n",
    "\n",
    "#lowercase column titles\n",
    "new_colnames = [i.lower() for i in skincare_data.columns]\n",
    "skincare_data=skincare_data.copy()\n",
    "skincare_data.columns=new_colnames\n",
    "\n",
    "#Price: Rp --> USD\n",
    "skincare_data['price'] = skincare_data['price'].str.replace('Rp.', '')\n",
    "skincare_data['price'] = skincare_data['price'].str.replace('.','')\n",
    "skincare_data['price'] = skincare_data['price'].astype(float)\n",
    "skincare_data[\"price\"] = 0.00007 * skincare_data[\"price\"]\n",
    "\n",
    "\n",
    "#categorize columns by Category\n",
    "#categorize by Merk\n",
    "#rename merk --> brand\n",
    "skincare_data = skincare_data.rename(columns = {\"merk\" : \"brand\"})\n",
    "skincare_data = skincare_data.rename(columns = {\"overallrating\" : \"rating\"})\n",
    "skincare_data.head()\n",
    "#groupby brands\n",
    "brands_group=skincare_data.groupby('brand')['rating'].mean()\n",
    "#average ratings per Category/Merk\n",
    "    #boxplots\n",
    "    \n",
    "#plot=skincare_data.boxplot('rating', by='brand')\n",
    "plt.scatter(x=skincare_data['rating'],y=skincare_data[\"price\"], alpha=0.3)\n",
    "plt.xlabel('Rating')\n",
    "plt.ylabel('Price')\n",
    "plt.title('Rating by Price')\n",
    "plt.show()\n",
    "    \n",
    "skincare_data.head()\n"
   ]
  },
  {
   "cell_type": "code",
   "execution_count": null,
   "metadata": {},
   "outputs": [],
   "source": [
    "skincare_subset=skincare_data.loc[(skincare_data['price']<40)]\n",
    "plt.scatter(x=skincare_subset['rating'],y=skincare_subset[\"price\"], alpha=0.3)\n",
    "plt.xlabel('Rating')\n",
    "plt.ylabel('Price')\n",
    "plt.title('Price by Rating')\n",
    "plt.show()\n"
   ]
  },
  {
   "cell_type": "code",
   "execution_count": null,
   "metadata": {},
   "outputs": [],
   "source": [
    "plot=skincare_subset.boxplot('price', by='category', rot=90)\n",
    "skincare_data['category'].unique()\n",
    "plt.xlabel('Category')\n",
    "plt.ylabel('Price')\n",
    "plt.title('Price by Category')\n",
    "plt.suptitle('')"
   ]
  },
  {
   "cell_type": "code",
   "execution_count": null,
   "metadata": {},
   "outputs": [],
   "source": [
    "plot=skincare_subset.boxplot('rating', by='category', rot=90)\n",
    "plt.xlabel('Category')\n",
    "plt.ylabel('Rating')\n",
    "plt.title('Rating by Category')\n",
    "plt.suptitle('')\n",
    "plt.show()"
   ]
  },
  {
   "cell_type": "code",
   "execution_count": null,
   "metadata": {},
   "outputs": [],
   "source": []
  }
 ],
 "metadata": {
  "kernelspec": {
   "display_name": "Python 3",
   "language": "python",
   "name": "python3"
  },
  "language_info": {
   "codemirror_mode": {
    "name": "ipython",
    "version": 3
   },
   "file_extension": ".py",
   "mimetype": "text/x-python",
   "name": "python",
   "nbconvert_exporter": "python",
   "pygments_lexer": "ipython3",
   "version": "3.6.5"
  }
 },
 "nbformat": 4,
 "nbformat_minor": 4
}
