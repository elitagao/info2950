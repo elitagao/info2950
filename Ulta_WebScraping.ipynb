{
 "cells": [
  {
   "cell_type": "code",
   "execution_count": 1,
   "metadata": {},
   "outputs": [],
   "source": [
    "import pandas as pd\n",
    "import numpy as np\n",
    "import matplotlib.pyplot as plt \n",
    "import re \n",
    "from scipy import stats\n",
    "\n",
    "import seaborn as sns \n",
    "\n",
    "from selenium import webdriver"
   ]
  },
  {
   "cell_type": "code",
   "execution_count": 2,
   "metadata": {},
   "outputs": [],
   "source": [
    "#Key \n",
    "\n",
    "#ulta_1 = moisturizes \n",
    "#ulta_2 = sunscreen \n",
    "#etc"
   ]
  },
  {
   "cell_type": "code",
   "execution_count": 3,
   "metadata": {},
   "outputs": [],
   "source": [
    "### Get Chrome Driver Path \n",
    "path = r\"C:\\Users\\avach\\Downloads\\clone\\info2950\\chromedriver.exe\" \n",
    "driver = webdriver.Chrome(path) \n",
    "\n",
    "### Open Ulta Moisturizer Site\n",
    "driver.get('https://www.ulta.com/skin-care-moisturizers?N=2796Z1z13p3l')\n",
    "\n",
    "### Find first product and click to open \n",
    "prod = driver.find_element_by_xpath('//*[@id=\"xlsImpprod13641053\"]/div[2]') \n",
    "prod.click()\n",
    "\n",
    "\n",
    "\n"
   ]
  },
  {
   "cell_type": "code",
   "execution_count": 17,
   "metadata": {},
   "outputs": [
    {
     "data": {
      "text/html": [
       "<div>\n",
       "<style scoped>\n",
       "    .dataframe tbody tr th:only-of-type {\n",
       "        vertical-align: middle;\n",
       "    }\n",
       "\n",
       "    .dataframe tbody tr th {\n",
       "        vertical-align: top;\n",
       "    }\n",
       "\n",
       "    .dataframe thead th {\n",
       "        text-align: right;\n",
       "    }\n",
       "</style>\n",
       "<table border=\"1\" class=\"dataframe\">\n",
       "  <thead>\n",
       "    <tr style=\"text-align: right;\">\n",
       "      <th></th>\n",
       "      <th>brand</th>\n",
       "      <th>name</th>\n",
       "      <th>price</th>\n",
       "      <th>rating</th>\n",
       "      <th>ingredients</th>\n",
       "    </tr>\n",
       "  </thead>\n",
       "  <tbody>\n",
       "  </tbody>\n",
       "</table>\n",
       "</div>"
      ],
      "text/plain": [
       "Empty DataFrame\n",
       "Columns: [brand, name, price, rating, ingredients]\n",
       "Index: []"
      ]
     },
     "execution_count": 17,
     "metadata": {},
     "output_type": "execute_result"
    }
   ],
   "source": [
    "ulta_1 = pd.DataFrame(columns = ['brand','name','price','rating','ingredients'])\n",
    "ulta_1.head()"
   ]
  },
  {
   "cell_type": "code",
   "execution_count": 26,
   "metadata": {},
   "outputs": [
    {
     "name": "stdout",
     "output_type": "stream",
     "text": [
      "It Cosmetics\n",
      "Confidence In A Cream Anti-Aging Moisturizer\n",
      "4.6\n",
      "Aqua (Water, Eau), Butylene Glycol, Cyclopentasiloxane, Glycerin, Butylene Glycol Dicaprylate / Dicaprate, Ethylhexyl Isononanoate, Hydrogenated Polyisobutene, Caprylic / Capric / Myristic / Stearic Triglyceride, Glyceryl Stearate, PEG - 100 Stearate, Polyglyceryl - 3 Methylglucose Distearate, Stearyl Behenate, Dimethicone, Pentaerythrityl Tetraethylhexanoate, Biosaccharide Gum - 1, Dimethicone / Vinyl Dimethicone Crosspolymer, Cetearyl Alcohol, Palmitic Acid, Stearic Acid, Polyethylene, PEG / PPG - 20 / 15 Dimethicone, Phenyl Methicone, Portulaca Oleracea Extract, Cocos Nucifera (Coconut) Oil, Aloe Barbadensis Leaf Extract, Butyrospermum Parkii (Shea) Butter, Hydroxyethyl Acrylate / Sodium Acryloyldimethyl Taurate Copolymer, Sodium Hyaluronate, Hydrogenated Lecithin, Polyquaternium - 51, Niacinamide, Hydrolyzed Collagen, Camellia Sinensis Leaf Extract, Tocopheryl Acetate, Carbomer, PEG - 150 Distearate, Ceramide Ap, Glycosphingolipids, Glyceryl Polymethacrylate, Meadowfoam Estolide, Sorbitan Isostearate, Squalane, Palmitoyl Pentapeptide - 4, Polysorbate 20, Steareth - 20, N - Hydroxysuccinimide, Chrysin, Palmitoyl Tripeptide - 1, Palmitoyl Tetrapeptide - 7, Polysorbate 60, Aleuritic Acid, Yeast Extract, Glycoproteins, Betaine, Hydrogenated Polydecene, Ceramide NP, Allantoin, Colloidal Oatmeal, Retinyl Retinoate, Polylactic Acid, Canola Oil, Cholesteryl Nonanoate, Ascorbyl Tetraisopalmitate, Glycyrrhiza Glabra (Licorice) Root Extract, Chamomilla Recutita (Matricaria) Flower Water, Curcuma Longa (Turmeric) Root Extract, Leuconostoc/Radish Root Ferment Filtrate, Eruca Sativa Leaf Extract, Glyceryl Citrate / Lactate/Linoleate / Oleate, Ceteareth - 20, Hydroxypropyl Bispalmitamide Mea, Glycine Soja (Soybean) Sterols, Melaleuca Alternifolia (Tea Tree) Leaf Oil, Phytosteryl/Isostearyl/Cetyl/Stearyl/Behenyl Dimer Dilinoleate, Santalum Album (Sandalwood) Oil, Chamomilla Recutita (Matricaria) Flower Oil, Caprylhydroxamic Acid, Cetearyl Glucoside, Glucose, Stearyl Stearate, Tromethamine, Citric Acid, 1, 2 - Hexanediol, Chlorhexidine Digluconate, Potassium Sorbate, Dipropylene Glycol, Lavandula Angustifolia (Lavender) Oil, Citrus Paradisi (Grapefruit) Peel Oil, Cymbopogon Citratus Leaf Oil, Pelargonium Graveolens Oil, Citrus Aurantium Dulcis (Orange) Peel Oil, Pogostemon Cablin Oil, Citrus Aurantium Bergamia (Bergamot) Fruit Oil, Ethylhexylglycerin, Caramel, Disodium EDTA, Phenoxyethanol, Caprylyl Glycol, Limonene, Linalool.\n",
      "Price\n",
      "$49.00\n"
     ]
    }
   ],
   "source": [
    "### Get brand\n",
    "brand = driver.find_element_by_xpath('//*[@id=\"js-mobileBody\"]/div/div/div/div/div/div/section[1]/div[2]/div/h1/div[1]').text\n",
    "print(brand)\n",
    "\n",
    "### Get Product Name \n",
    "name = driver.find_element_by_xpath('//*[@id=\"js-mobileBody\"]/div/div/div/div/div/div/section[1]/div[2]/div/h1/div[2]').text\n",
    "print(name) \n",
    " \n",
    "\n",
    "### Get Rating Number\n",
    "star = driver.find_element_by_xpath('//*[@id=\"pr-review-snapshot\"]/header/section/div/div[1]/div/div[1]/div').text\n",
    "print(star) \n",
    "\n",
    "### Once on product page, toggle ingredients and get text\n",
    "toggle = driver.find_element_by_xpath('//*[@id=\"productDescription\"]/div[3]/div[2]')\n",
    "toggle.click() \n",
    "\n",
    "ingredient = driver.find_element_by_xpath('//*[@id=\"productDescription\"]/div[3]/div[2]/div[2]/div/div/div').text\n",
    "print(ingredient) \n",
    "\n",
    "### Get Price \n",
    "price = driver.find_element_by_xpath('//*[@id=\"js-mobileBody\"]/div/div/div/div/div/div/section[1]/div[2]/div/div[3]').text\n",
    "print(price)"
   ]
  },
  {
   "cell_type": "code",
   "execution_count": 1,
   "metadata": {},
   "outputs": [],
   "source": [
    "def scrollDown(driver, n_scroll):\n",
    "    body = driver.find_element_by_tag_name(\"body\")\n",
    "    while n_scroll >= 0:\n",
    "        body.send_keys(Keys.PAGE_DOWN)\n",
    "        n_scroll -= 1\n",
    "    return driver"
   ]
  },
  {
   "cell_type": "code",
   "execution_count": null,
   "metadata": {},
   "outputs": [],
   "source": []
  }
 ],
 "metadata": {
  "kernelspec": {
   "display_name": "Python 3",
   "language": "python",
   "name": "python3"
  },
  "language_info": {
   "codemirror_mode": {
    "name": "ipython",
    "version": 3
   },
   "file_extension": ".py",
   "mimetype": "text/x-python",
   "name": "python",
   "nbconvert_exporter": "python",
   "pygments_lexer": "ipython3",
   "version": "3.6.5"
  }
 },
 "nbformat": 4,
 "nbformat_minor": 2
}
