{
 "cells": [
  {
   "cell_type": "markdown",
   "metadata": {},
   "source": [
    "## Project Phase III\n",
    "INFO 2950 <br>\n",
    "14 April 2021 <br>\n",
    "Ava Chen (ac2572), Lauren Crosbie-Walsh (lmc348), Elita Gao (eg556), Kate Hofer (klh253)"
   ]
  },
  {
   "cell_type": "markdown",
   "metadata": {},
   "source": [
    "#### Introduction:\n",
    "When looking at our skin care datasets from Sephora and [Ulta](https://www.ulta.com/skin-care?N=2707), we are primarily interested in the relationship between rating and price of products from different brands and created from different ingredients. Along with our main questions, we are also examining whether high-end brands get better ratings, what ingredients are most popular in acne products, and whether products containing parabens have significant differential ratings and prices from those that do not.\n",
    "\n",
    "### Two analyses that we vow to present in our final report:\n",
    "1. To determine **whether high-end products have differential ratings from drugstore and mid-price items**, we will perform a T-test of the mean ratings between these price points. We will also perform linear regression and possibly k-means clustering, if applicable. For the linear regression, ratings will be the dependent variable and price will be the independent variable.\n",
    "- <ins>**What we expect to see:**</ins> We do not expect to see a clear positive correlation between price and rating, since drugstore and mid-price items often have as good or even better performance on the skin. In addition, the demographics of the consumers may also vary based on social-economic status, attributing to their different needs in skincare.\n",
    "2. Next, **we will examine parabens**. In the ‘ingredients’ column of the datasets, we will index to find all the products that contain parabens such as methylparabens and ethylparabens. We will then perform two linear regressions: one with price as the outcome and a second with rating as the outcome. The predictor variables for these regressions will be a dummy variable indicating if the product contains parabens, price/rating (whichever is not the dependent variable), and skin type dummy variables. \n",
    "- <ins>**What we expect to see:**</ins> Parabens are not favorable in skin products. Many products will advertise that they are paraben-free. Though parabens increase shelf life, they have been [found to increase breast cancer cell tissue](https://www.byrdie.com/what-are-parabens). However, those who are purchasing products with parabens may not be aware of that fact, living in a state of “blissful ignorance,” so we also do not instinctively expect any significant correlations between products with and without parabens. On the inverse, those who are aware of the potentially harmful impacts of parabens may be proud of their choice to purchase paraben-free products, thus rating non-paraben products more highly.\n",
    "\n",
    "\n",
    "#### Questions for reviewers:\n",
    "1. In reviewing our datasets, we found that our previous first dataset taken off of an Indonesian website has less information than our second dataset from Sephora. Therefore, we found a third dataset from Ulta that contains about the same information as Sephora that we plan to webscrape. Is this a feasible direction moving forward into Phase IV and beyond?\n",
    "2. We did not include “what ingredients are most popular in products that treat acne” since we are limited to stating two analyses for this phase. Seeing that ingredients may cluster with skin type (acne, combination, oily, dry, etc.), would *k*-means clustering be the best way to move forward with the analyses?\n",
    "3. Approximately how many analyses should we expect to include in Phase IV? \n"
   ]
  },
  {
   "cell_type": "code",
   "execution_count": null,
   "metadata": {},
   "outputs": [],
   "source": []
  }
 ],
 "metadata": {
  "kernelspec": {
   "display_name": "Python 3",
   "language": "python",
   "name": "python3"
  },
  "language_info": {
   "codemirror_mode": {
    "name": "ipython",
    "version": 3
   },
   "file_extension": ".py",
   "mimetype": "text/x-python",
   "name": "python",
   "nbconvert_exporter": "python",
   "pygments_lexer": "ipython3",
   "version": "3.6.5"
  }
 },
 "nbformat": 4,
 "nbformat_minor": 5
}
