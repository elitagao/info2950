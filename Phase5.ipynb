{
 "cells": [
  {
   "cell_type": "markdown",
   "id": "40cfa7d2",
   "metadata": {},
   "source": [
    "## Project Phase V\n",
    "INFO 2950 <br>\n",
    "12 May 2021 <br>\n",
    "Ava Chen (ac2572), Lauren Crosbie-Walsh (lmc348), Elita Gao (eg556), Kate Hofer (klh253)"
   ]
  },
  {
   "cell_type": "markdown",
   "id": "c983d4a3",
   "metadata": {},
   "source": [
    "*******\n",
    "## Introduction"
   ]
  },
  {
   "cell_type": "markdown",
   "id": "a75fd941",
   "metadata": {},
   "source": [
    "All across social media platforms, there are running advertisements for different beauty products. According to [GlobalNewswire](https://loudcloudhealth.com/resources/beauty-industry-statistics/#:~:text=How%20much%20is%20the%20cosmetic,value%20is%20over%20%2493%20billion), the global skincare market is worth \\$145.3 billion. Skincare is a very important market segment to examine as it accounts for 40\\% of the global cosmetic market. On YouTube, there are many skincare specialists such as Hyram (Instagram: [@skincarebyhyram](https://www.instagram.com/skincarebyhyram/)), Sarah Cheung (Instagram: [@sacheu](https://www.instagram.com/sacheu/)), and Renee (Instagram: [@gothamista](https://www.instagram.com/gothamista/)) among many others who have amassed a huge following. These influencers produce video about skincare product recommendations, skincare routines within specific budgets, for specific skin concerns, must-haves and more. \n",
    "\n",
    "Personally, as a skin-enthusiast and a connoisseur of these videos and target group for sponsored social media advertisements, products are always flooding my feed to indulge in new skin care products. This piqued our group's interest to dive deeper into the skincare area in search of better understanding how exactly products differentiate themselves from others in terms of better results, lowest cost, and best rating.  \n",
    "\n",
    "By working with 2 skin care data sets from Sephora and Ulta, our group hopes to identify whether there exists a correlation between ingredients in skincare products and the prices or ratings of the products. In particular, are product prices influenced more so by the name value of brands or the quality of ingredients? Are expensive products worth the cost? Additionally, we are examining whether high-end brands get better ratings and whether products containing parabens have significant differential ratings and prices from those that do not.  \n",
    "\n",
    "By answering these questions, we hope to shed light on how to shop for skincare products, and whether highly rated products are worth the hype by examining the quality  of ingredients.\n",
    " \n",
    "Below is a brief summary of our findings:<br>\n",
    "We determined there is no statistically significant difference in rating between those of high-end products and drugstore/mid-priced items. Price is also not a statistically significant predictor of product rating. Additionally, while a product that contains parabens is on average $25.93 more expensive than a product that does not contain parabens, the inclusion of parabens in a product is not a statistically significant indicator of the product’s ranking. \n",
    "\n"
   ]
  },
  {
   "cell_type": "markdown",
   "id": "1651ce5d",
   "metadata": {},
   "source": [
    "## Table of Contents\n",
    "- Data Description\n",
    "- Preregistration Statement\n",
    "- Data Analysis\n",
    "- Interpretations and Conclusions\n",
    "- Limitations\n",
    "- Source Code\n",
    "- Acknowledgements\n",
    "- Appendix\n",
    "- Other Appendices"
   ]
  },
  {
   "cell_type": "markdown",
   "id": "48f52d34",
   "metadata": {},
   "source": [
    "******\n",
    "## Data Description"
   ]
  },
  {
   "cell_type": "markdown",
   "id": "cbf9b190",
   "metadata": {},
   "source": [
    "**To answer these questions, we will be exploring the relationships between the price, average ratings, ingredients, product categories, brand and skin type fit.**  "
   ]
  },
  {
   "cell_type": "markdown",
   "id": "6d8f1a92",
   "metadata": {},
   "source": [
    "### Dataset 1:\n",
    "- Dataset 1 was created by Jiwon Jeong (GitHub user jjone36) for a Cosmetic Recommendation System on November 28, 2018. Here is the article that describes her scraping and analysis process: https://towardsdatascience.com/for-your-skin-beauty-mapping-cosmetic-items-with-bokeh-af7523ca68e5.\n",
    "- Observations: skincare product items. Attributes include its price, brand, rank, ingredients, and for what skin type for whom the product would be most useful. Each row corresponds to one product.\n",
    "- Since it is difficult to choose what cosmetic items fit for different skin types, the creator decided to build a simple cosmetic recommendation system.\n",
    "- It is unclear who funded the creation of the dataset. Since the dataset does not involve experimental data but rather observational data, it is possible that no funding was required.\n",
    "- The skincare products may not be representative of all brands because the creator only used data from Sephora and not only cosmetic stores. Because of this, prices may also not be the original prices from the brands themselves but marked by Sephora. In addition, it is possible that these products have changed from 2018 to now.\n",
    "- The dataset that we are using is the original dataset that the creator had not preprocessed. We wanted to start from scratch for more data-cleaning practice and learning. In addition, our research question differs from the creator’s. Rather than re-building the cosmetic recommendation system that she had built, we instead are examining any correlations between the rank and price of cosmetic items between different brands and for different skin types.\n",
    "- The people involved in data collection contributed to the 'rank' column for their average reviews.\n",
    "- Our raw source data can be found in our Colab Notebooks Google Drive, titled [cosmetic.csv](https://drive.google.com/drive/folders/1br0b-r_qFnh-bNIY8xPsmC8a4Pw-ulZX?usp=sharing). Alternatively, it can also be found on the creator’s GitHub.\n"
   ]
  },
  {
   "cell_type": "markdown",
   "id": "5c9003ad",
   "metadata": {},
   "source": [
    "### Dataset 2:\n",
    "What are the observations (rows) and the attributes (columns)?\n",
    "- The observations are the face moisturizer products listed on the Ulta website. The attributes are the product's brand, name, price(\\$), rating, and a list of ingredients.\n",
    "\n",
    "Why was this dataset created?\n",
    "- This data set was created to accompany the Sephora dataset we have. The dataset includes more products to see if there are relationships present between product ingredients, ratings, and price that were overrepresented or underrepresented by only looking at the Sephora website data.\n",
    "\n",
    "Who funded the creation of the dataset?\n",
    "- No one funded the creation of this dataset. Our group used Python’s Selenium package to web scrape public data from Ulta's website to build this dataset.\n",
    "\n",
    "What processes might have influenced what data was observed and recorded and what was not?\n",
    "- Due to the complicated nature of web scraping Ulta's website, it was not feasible to get all skin care products in a timely manner. Therefore, we decided to focus on just the face moisturizer category of products. Because of the limitations, we specifically chose facial moisturizer out of all skincare products because it is one of the most essential steps in skin care and is a product that stays on the skin for an extended period without being washed off unlike cleansers. \n",
    "- We used Selenium WebDriver to webscrape. In this process we had to extract specific xpaths to get all of the attributes of a product. We then looped over every face moisturizer to get all the information for each product. Some product's attributes were not at the same xpath as the first product we used, so some data was not recorded. To remedy this, we manually filled in the missing data that was not successfully web scraped.\n",
    "\n",
    "What preprocessing was done, and how did the data come to be in the form that you are using?\n",
    "- As briefly mentioned above, we used Selenium WebDriver to webscrape Ulta's face moisturizer website page. We looped through each face moisturizer product to extract its attributes and stored it in a CSV file. We had 7 CSV files (one for each page of products) that we combined into one larger CSV file. The CSV file was then downloaded and opened in Excel where we manually filled in the missing data that was not successfully web scraped. Additionally, we removed all products that were mini, travel size, or kits. This is because mini and travel size products were duplicates of their full size counterparts and would also skew and distract any analysis regarding price. We also removed any products that were kits or sets of several products bundled together because it would affect the rating. We are not able to pin down which product within the set was good or bad. To add on, we decided to remove kits and sets since the focus of our analysis was to get individual products and not the combination of products. Finally, we imported the CSV file into our notebook and saved it as a dataframe to use for our analyses. \n",
    " \n",
    "If people are involved, were they aware of the data collection and if so, what purpose did they expect the data to be used for?\n",
    "- No people were involved.\n",
    "\n",
    "Where can your raw source data be found, if applicable? Provide a link to the raw data (hosted in a Cornell Google Drive or Cornell Box).\n",
    "- Our raw data can be found in our group's Github [here](https://github.com/elitagao/info2950/blob/main/final_ulta.csv).\n"
   ]
  },
  {
   "cell_type": "markdown",
   "id": "23fd3004",
   "metadata": {},
   "source": [
    "*******\n",
    "## Preregistration Statement"
   ]
  },
  {
   "cell_type": "markdown",
   "id": "2c0c41ef",
   "metadata": {},
   "source": [
    "#### Introduction:\n",
    "When looking at our skin care datasets from Sephora and [Ulta](https://www.ulta.com/skin-care?N=2707), we are primarily interested in the relationship between rating and price of products from different brands and created from different ingredients. Along with our main questions, we are also examining whether high-end brands get better ratings, what ingredients are most popular in acne products, and whether products containing parabens have significant differential ratings and prices from those that do not.\n",
    "\n",
    "#### Preregistration of two analyses :\n",
    "1. To determine **whether high-end products have differential ratings from drugstore and mid-price items**, we will perform a T-test of the mean ratings between these price points. We will also perform linear regression and possibly k-means clustering, if applicable. For the linear regression, ratings will be the dependent variable and price will be the independent variable.\n",
    "- <ins>**What we expect to see:**</ins> We do not expect to see a clear positive correlation between price and rating, since drugstore and mid-price items often have as good or even better performance on the skin. In addition, the demographics of the consumers may also vary based on social-economic status, attributing to their different needs in skincare.\n",
    "2. Next, **we will examine parabens**. In the ‘ingredients’ column of the datasets, we will index to find all the products that contain parabens such as methylparabens and ethylparabens. We will then perform two linear regressions: one with price as the outcome and a second with rating as the outcome. The predictor variables for these regressions will be a dummy variable indicating if the product contains parabens, price/rating (whichever is not the dependent variable), and skin type dummy variables. \n",
    "- <ins>**What we expect to see:**</ins> Parabens are not favorable in skin products. Many products will advertise that they are paraben-free. Though parabens increase shelf life, they have been [found to increase breast cancer cell tissue](https://www.byrdie.com/what-are-parabens). However, those who are purchasing products with parabens may not be aware of that fact, living in a state of “blissful ignorance,” so we also do not instinctively expect any significant correlations between products with and without parabens. On the inverse, those who are aware of the potentially harmful impacts of parabens may be proud of their choice to purchase paraben-free products, thus rating non-paraben products more highly.\n"
   ]
  },
  {
   "cell_type": "markdown",
   "id": "d3c5d328",
   "metadata": {},
   "source": [
    "*****\n",
    "## Data Analysis"
   ]
  },
  {
   "cell_type": "code",
   "execution_count": 1,
   "id": "826147aa",
   "metadata": {},
   "outputs": [],
   "source": [
    "import pandas as pd\n",
    "import numpy as np\n",
    "import matplotlib.pyplot as plt \n",
    "import re \n",
    "from scipy import stats\n",
    "from sklearn.linear_model import LinearRegression\n",
    "from sklearn.linear_model import LogisticRegression\n",
    "from sklearn.model_selection import train_test_split\n",
    "import statsmodels.api as sm\n",
    "import statsmodels.formula.api as smf\n",
    "\n",
    "import seaborn as sns\n",
    "\n",
    "%matplotlib inline\n",
    "plt.rcParams['figure.figsize'] = (14.0, 10.0)\n",
    "plt.style.use('seaborn-poster')\n",
    "\n"
   ]
  },
  {
   "cell_type": "markdown",
   "id": "ed192677",
   "metadata": {},
   "source": [
    "\n",
    "## Dataset 1 (Sephora)"
   ]
  },
  {
   "cell_type": "code",
   "execution_count": 7,
   "id": "ab5105e2",
   "metadata": {},
   "outputs": [
    {
     "ename": "FileNotFoundError",
     "evalue": "[Errno 2] No such file or directory: 'skin.csv'",
     "output_type": "error",
     "traceback": [
      "\u001b[1;31m---------------------------------------------------------------------------\u001b[0m",
      "\u001b[1;31mFileNotFoundError\u001b[0m                         Traceback (most recent call last)",
      "\u001b[1;32m<ipython-input-7-097b8ab762b6>\u001b[0m in \u001b[0;36m<module>\u001b[1;34m()\u001b[0m\n\u001b[0;32m      1\u001b[0m \u001b[1;31m#importing our cleaned skin.csv file to a dataframe we can use for analysis\u001b[0m\u001b[1;33m\u001b[0m\u001b[1;33m\u001b[0m\u001b[0m\n\u001b[1;32m----> 2\u001b[1;33m \u001b[0mskin\u001b[0m \u001b[1;33m=\u001b[0m \u001b[0mpd\u001b[0m\u001b[1;33m.\u001b[0m\u001b[0mread_csv\u001b[0m\u001b[1;33m(\u001b[0m\u001b[1;34m'skin.csv'\u001b[0m\u001b[1;33m)\u001b[0m\u001b[1;33m\u001b[0m\u001b[0m\n\u001b[0m",
      "\u001b[1;32m~\\AppData\\Roaming\\Python\\Python36\\site-packages\\pandas\\io\\parsers.py\u001b[0m in \u001b[0;36mread_csv\u001b[1;34m(filepath_or_buffer, sep, delimiter, header, names, index_col, usecols, squeeze, prefix, mangle_dupe_cols, dtype, engine, converters, true_values, false_values, skipinitialspace, skiprows, skipfooter, nrows, na_values, keep_default_na, na_filter, verbose, skip_blank_lines, parse_dates, infer_datetime_format, keep_date_col, date_parser, dayfirst, cache_dates, iterator, chunksize, compression, thousands, decimal, lineterminator, quotechar, quoting, doublequote, escapechar, comment, encoding, dialect, error_bad_lines, warn_bad_lines, delim_whitespace, low_memory, memory_map, float_precision)\u001b[0m\n\u001b[0;32m    686\u001b[0m     )\n\u001b[0;32m    687\u001b[0m \u001b[1;33m\u001b[0m\u001b[0m\n\u001b[1;32m--> 688\u001b[1;33m     \u001b[1;32mreturn\u001b[0m \u001b[0m_read\u001b[0m\u001b[1;33m(\u001b[0m\u001b[0mfilepath_or_buffer\u001b[0m\u001b[1;33m,\u001b[0m \u001b[0mkwds\u001b[0m\u001b[1;33m)\u001b[0m\u001b[1;33m\u001b[0m\u001b[0m\n\u001b[0m\u001b[0;32m    689\u001b[0m \u001b[1;33m\u001b[0m\u001b[0m\n\u001b[0;32m    690\u001b[0m \u001b[1;33m\u001b[0m\u001b[0m\n",
      "\u001b[1;32m~\\AppData\\Roaming\\Python\\Python36\\site-packages\\pandas\\io\\parsers.py\u001b[0m in \u001b[0;36m_read\u001b[1;34m(filepath_or_buffer, kwds)\u001b[0m\n\u001b[0;32m    452\u001b[0m \u001b[1;33m\u001b[0m\u001b[0m\n\u001b[0;32m    453\u001b[0m     \u001b[1;31m# Create the parser.\u001b[0m\u001b[1;33m\u001b[0m\u001b[1;33m\u001b[0m\u001b[0m\n\u001b[1;32m--> 454\u001b[1;33m     \u001b[0mparser\u001b[0m \u001b[1;33m=\u001b[0m \u001b[0mTextFileReader\u001b[0m\u001b[1;33m(\u001b[0m\u001b[0mfp_or_buf\u001b[0m\u001b[1;33m,\u001b[0m \u001b[1;33m**\u001b[0m\u001b[0mkwds\u001b[0m\u001b[1;33m)\u001b[0m\u001b[1;33m\u001b[0m\u001b[0m\n\u001b[0m\u001b[0;32m    455\u001b[0m \u001b[1;33m\u001b[0m\u001b[0m\n\u001b[0;32m    456\u001b[0m     \u001b[1;32mif\u001b[0m \u001b[0mchunksize\u001b[0m \u001b[1;32mor\u001b[0m \u001b[0miterator\u001b[0m\u001b[1;33m:\u001b[0m\u001b[1;33m\u001b[0m\u001b[0m\n",
      "\u001b[1;32m~\\AppData\\Roaming\\Python\\Python36\\site-packages\\pandas\\io\\parsers.py\u001b[0m in \u001b[0;36m__init__\u001b[1;34m(self, f, engine, **kwds)\u001b[0m\n\u001b[0;32m    946\u001b[0m             \u001b[0mself\u001b[0m\u001b[1;33m.\u001b[0m\u001b[0moptions\u001b[0m\u001b[1;33m[\u001b[0m\u001b[1;34m\"has_index_names\"\u001b[0m\u001b[1;33m]\u001b[0m \u001b[1;33m=\u001b[0m \u001b[0mkwds\u001b[0m\u001b[1;33m[\u001b[0m\u001b[1;34m\"has_index_names\"\u001b[0m\u001b[1;33m]\u001b[0m\u001b[1;33m\u001b[0m\u001b[0m\n\u001b[0;32m    947\u001b[0m \u001b[1;33m\u001b[0m\u001b[0m\n\u001b[1;32m--> 948\u001b[1;33m         \u001b[0mself\u001b[0m\u001b[1;33m.\u001b[0m\u001b[0m_make_engine\u001b[0m\u001b[1;33m(\u001b[0m\u001b[0mself\u001b[0m\u001b[1;33m.\u001b[0m\u001b[0mengine\u001b[0m\u001b[1;33m)\u001b[0m\u001b[1;33m\u001b[0m\u001b[0m\n\u001b[0m\u001b[0;32m    949\u001b[0m \u001b[1;33m\u001b[0m\u001b[0m\n\u001b[0;32m    950\u001b[0m     \u001b[1;32mdef\u001b[0m \u001b[0mclose\u001b[0m\u001b[1;33m(\u001b[0m\u001b[0mself\u001b[0m\u001b[1;33m)\u001b[0m\u001b[1;33m:\u001b[0m\u001b[1;33m\u001b[0m\u001b[0m\n",
      "\u001b[1;32m~\\AppData\\Roaming\\Python\\Python36\\site-packages\\pandas\\io\\parsers.py\u001b[0m in \u001b[0;36m_make_engine\u001b[1;34m(self, engine)\u001b[0m\n\u001b[0;32m   1178\u001b[0m     \u001b[1;32mdef\u001b[0m \u001b[0m_make_engine\u001b[0m\u001b[1;33m(\u001b[0m\u001b[0mself\u001b[0m\u001b[1;33m,\u001b[0m \u001b[0mengine\u001b[0m\u001b[1;33m=\u001b[0m\u001b[1;34m\"c\"\u001b[0m\u001b[1;33m)\u001b[0m\u001b[1;33m:\u001b[0m\u001b[1;33m\u001b[0m\u001b[0m\n\u001b[0;32m   1179\u001b[0m         \u001b[1;32mif\u001b[0m \u001b[0mengine\u001b[0m \u001b[1;33m==\u001b[0m \u001b[1;34m\"c\"\u001b[0m\u001b[1;33m:\u001b[0m\u001b[1;33m\u001b[0m\u001b[0m\n\u001b[1;32m-> 1180\u001b[1;33m             \u001b[0mself\u001b[0m\u001b[1;33m.\u001b[0m\u001b[0m_engine\u001b[0m \u001b[1;33m=\u001b[0m \u001b[0mCParserWrapper\u001b[0m\u001b[1;33m(\u001b[0m\u001b[0mself\u001b[0m\u001b[1;33m.\u001b[0m\u001b[0mf\u001b[0m\u001b[1;33m,\u001b[0m \u001b[1;33m**\u001b[0m\u001b[0mself\u001b[0m\u001b[1;33m.\u001b[0m\u001b[0moptions\u001b[0m\u001b[1;33m)\u001b[0m\u001b[1;33m\u001b[0m\u001b[0m\n\u001b[0m\u001b[0;32m   1181\u001b[0m         \u001b[1;32melse\u001b[0m\u001b[1;33m:\u001b[0m\u001b[1;33m\u001b[0m\u001b[0m\n\u001b[0;32m   1182\u001b[0m             \u001b[1;32mif\u001b[0m \u001b[0mengine\u001b[0m \u001b[1;33m==\u001b[0m \u001b[1;34m\"python\"\u001b[0m\u001b[1;33m:\u001b[0m\u001b[1;33m\u001b[0m\u001b[0m\n",
      "\u001b[1;32m~\\AppData\\Roaming\\Python\\Python36\\site-packages\\pandas\\io\\parsers.py\u001b[0m in \u001b[0;36m__init__\u001b[1;34m(self, src, **kwds)\u001b[0m\n\u001b[0;32m   2008\u001b[0m         \u001b[0mkwds\u001b[0m\u001b[1;33m[\u001b[0m\u001b[1;34m\"usecols\"\u001b[0m\u001b[1;33m]\u001b[0m \u001b[1;33m=\u001b[0m \u001b[0mself\u001b[0m\u001b[1;33m.\u001b[0m\u001b[0musecols\u001b[0m\u001b[1;33m\u001b[0m\u001b[0m\n\u001b[0;32m   2009\u001b[0m \u001b[1;33m\u001b[0m\u001b[0m\n\u001b[1;32m-> 2010\u001b[1;33m         \u001b[0mself\u001b[0m\u001b[1;33m.\u001b[0m\u001b[0m_reader\u001b[0m \u001b[1;33m=\u001b[0m \u001b[0mparsers\u001b[0m\u001b[1;33m.\u001b[0m\u001b[0mTextReader\u001b[0m\u001b[1;33m(\u001b[0m\u001b[0msrc\u001b[0m\u001b[1;33m,\u001b[0m \u001b[1;33m**\u001b[0m\u001b[0mkwds\u001b[0m\u001b[1;33m)\u001b[0m\u001b[1;33m\u001b[0m\u001b[0m\n\u001b[0m\u001b[0;32m   2011\u001b[0m         \u001b[0mself\u001b[0m\u001b[1;33m.\u001b[0m\u001b[0munnamed_cols\u001b[0m \u001b[1;33m=\u001b[0m \u001b[0mself\u001b[0m\u001b[1;33m.\u001b[0m\u001b[0m_reader\u001b[0m\u001b[1;33m.\u001b[0m\u001b[0munnamed_cols\u001b[0m\u001b[1;33m\u001b[0m\u001b[0m\n\u001b[0;32m   2012\u001b[0m \u001b[1;33m\u001b[0m\u001b[0m\n",
      "\u001b[1;32mpandas\\_libs\\parsers.pyx\u001b[0m in \u001b[0;36mpandas._libs.parsers.TextReader.__cinit__\u001b[1;34m()\u001b[0m\n",
      "\u001b[1;32mpandas\\_libs\\parsers.pyx\u001b[0m in \u001b[0;36mpandas._libs.parsers.TextReader._setup_parser_source\u001b[1;34m()\u001b[0m\n",
      "\u001b[1;31mFileNotFoundError\u001b[0m: [Errno 2] No such file or directory: 'skin.csv'"
     ]
    }
   ],
   "source": [
    "#importing our cleaned skin.csv file to a dataframe we can use for analysis\n",
    "skin = pd.read_csv('skin.csv')"
   ]
  },
  {
   "cell_type": "code",
   "execution_count": null,
   "id": "b9051c99",
   "metadata": {},
   "outputs": [],
   "source": [
    "skin.head()"
   ]
  },
  {
   "cell_type": "markdown",
   "id": "92e28036",
   "metadata": {},
   "source": [
    "****\n",
    "### Summary of `skin` Dataframe:\n",
    "- Summary functions\n",
    "- Visual displays "
   ]
  },
  {
   "cell_type": "markdown",
   "id": "2662e260",
   "metadata": {},
   "source": [
    "Here are the summary statistics of our cleaned data:"
   ]
  },
  {
   "cell_type": "code",
   "execution_count": null,
   "id": "3f0e57f2",
   "metadata": {},
   "outputs": [],
   "source": [
    "skin.describe()"
   ]
  },
  {
   "cell_type": "markdown",
   "id": "48963d63",
   "metadata": {},
   "source": [
    "Next, we add a new column, `contains_parabens`, that specifies whether the product contains parabens (=1) or not (=0)"
   ]
  },
  {
   "cell_type": "code",
   "execution_count": null,
   "id": "7e57dc2a",
   "metadata": {
    "tags": []
   },
   "outputs": [],
   "source": [
    "#Add a new column that specifies whether the product contains parabens\n",
    "skin=skin.copy()\n",
    "skin['ingredients'] = skin['ingredients'].astype(str)\n",
    "parabens_list=['paraben']\n",
    "skin['contains_parabens']=0\n",
    "\n",
    "pos=-1\n",
    "for x in skin['ingredients']:\n",
    "    pos+=1\n",
    "    for paraben in parabens_list:\n",
    "        if paraben in x:\n",
    "            skin['contains_parabens'].loc[pos]=1\n",
    "skin.head()"
   ]
  },
  {
   "cell_type": "code",
   "execution_count": null,
   "id": "cc2098c8",
   "metadata": {},
   "outputs": [],
   "source": [
    "skin['normal'].value_counts()\n",
    "skin['matte'].value_counts()"
   ]
  },
  {
   "cell_type": "markdown",
   "id": "71efdfd8",
   "metadata": {},
   "source": [
    "Here are the average prices of the brands:"
   ]
  },
  {
   "cell_type": "code",
   "execution_count": null,
   "id": "116ff3e6",
   "metadata": {
    "scrolled": true,
    "tags": []
   },
   "outputs": [],
   "source": [
    "skin.groupby(['brand'])['price'].mean()"
   ]
  },
  {
   "cell_type": "markdown",
   "id": "181f4128",
   "metadata": {},
   "source": [
    "Here is a box plot of the average prices by brand. As you can see, there are over 100 brands. Most of the data is left-skewed with a few brands, such as La Mer and Sk-II that have higher prices and larger distributions."
   ]
  },
  {
   "cell_type": "code",
   "execution_count": null,
   "id": "d331a28d",
   "metadata": {
    "scrolled": true,
    "tags": []
   },
   "outputs": [],
   "source": [
    "plot=skin.boxplot('price', by='brand', vert=False, figsize = (28,40))\n",
    "plt.xlabel('Price')\n",
    "plt.ylabel('Brand')\n",
    "plt.title('Price by Brand')\n",
    "plt.suptitle('')\n",
    "plt.show()"
   ]
  },
  {
   "cell_type": "markdown",
   "id": "61f1ac26",
   "metadata": {},
   "source": [
    "Here are the average ranks of the brands:"
   ]
  },
  {
   "cell_type": "code",
   "execution_count": null,
   "id": "8a5f5ea5",
   "metadata": {
    "scrolled": true,
    "tags": []
   },
   "outputs": [],
   "source": [
    "skin.groupby(['brand'])['rank'].mean()"
   ]
  },
  {
   "cell_type": "markdown",
   "id": "eb9a112d",
   "metadata": {},
   "source": [
    "Here is a box plot of the average rank by brand. Most of the data is right-skewed by some brands' rankings are more spread out, such as St. Tropez Tanning Essentials and Foreo. St. Tropez had the lowest rank and Foreo had a long tail but still a generally high rank."
   ]
  },
  {
   "cell_type": "code",
   "execution_count": null,
   "id": "8de5ad58",
   "metadata": {
    "tags": []
   },
   "outputs": [],
   "source": [
    "plot=skin.boxplot('rank', by='brand', vert=False, figsize = (28,40))\n",
    "plt.xlabel('Rank')\n",
    "plt.ylabel('Brand')\n",
    "plt.title('Rank by Brand')\n",
    "plt.suptitle('')\n",
    "plt.show()"
   ]
  },
  {
   "cell_type": "markdown",
   "id": "546bffa9",
   "metadata": {},
   "source": [
    "Here are the average rank of different labels:"
   ]
  },
  {
   "cell_type": "code",
   "execution_count": null,
   "id": "067e9dba",
   "metadata": {
    "scrolled": true,
    "tags": []
   },
   "outputs": [],
   "source": [
    "skin.groupby(['label'])['rank'].mean()"
   ]
  },
  {
   "cell_type": "markdown",
   "id": "f9099232",
   "metadata": {},
   "source": [
    "This is a box plot where we looked at how ranking varies across different labels. The label with the highest median is cleanser, and the label with the lowest median is the eye product. Eye, face, and sunscreen appear to have the largest distributions."
   ]
  },
  {
   "cell_type": "code",
   "execution_count": null,
   "id": "fbcdd0f9",
   "metadata": {
    "tags": []
   },
   "outputs": [],
   "source": [
    "#Rank by Label\n",
    "skin.boxplot('rank', by='label', rot=90)\n",
    "plt.xlabel('Label')\n",
    "plt.ylabel('Rank')\n",
    "plt.title('Rank by Label')\n",
    "plt.suptitle('')\n",
    "plt.show()"
   ]
  },
  {
   "cell_type": "markdown",
   "id": "883ad394",
   "metadata": {},
   "source": [
    "Here are the average prices of different labels:"
   ]
  },
  {
   "cell_type": "code",
   "execution_count": null,
   "id": "261a2c2a",
   "metadata": {},
   "outputs": [],
   "source": [
    "skin.groupby(['label'])['price'].mean()"
   ]
  },
  {
   "cell_type": "markdown",
   "id": "9421f676",
   "metadata": {},
   "source": [
    "We created a scatter plot to look at the relationship between ranking and price. Notice how the data is right-skewed. There is a weak correlation between price and rank, showing that prices vary no matter the rank, and that there are generally more rankings above 3."
   ]
  },
  {
   "cell_type": "code",
   "execution_count": null,
   "id": "92c69f28",
   "metadata": {
    "scrolled": true,
    "tags": []
   },
   "outputs": [],
   "source": [
    "plt.scatter(x=skin['rank'],y=skin[\"price\"], alpha=0.3)\n",
    "plt.xlabel('Rank')\n",
    "plt.ylabel('Price')\n",
    "plt.title('Price by Rank')\n",
    "plt.show()"
   ]
  },
  {
   "cell_type": "markdown",
   "id": "96951749",
   "metadata": {},
   "source": [
    "****\n",
    "### Analyses using models:\n",
    "- Linear Regression\n",
    "- Train-Test Split\n",
    "- Logistic Regression"
   ]
  },
  {
   "cell_type": "code",
   "execution_count": null,
   "id": "515042a1",
   "metadata": {},
   "outputs": [],
   "source": [
    "by_eye=skin[skin['label']=='eye'].sort_values(by=['price'])\n"
   ]
  },
  {
   "cell_type": "code",
   "execution_count": null,
   "id": "b24cbb3a",
   "metadata": {},
   "outputs": [],
   "source": [
    "skin.shape"
   ]
  },
  {
   "cell_type": "markdown",
   "id": "4aa1aba5",
   "metadata": {},
   "source": [
    "For the purposes of our evaluation, we decided to drop all of the entries that contain a NaN."
   ]
  },
  {
   "cell_type": "code",
   "execution_count": null,
   "id": "049b790c",
   "metadata": {},
   "outputs": [],
   "source": [
    "skin=skin.dropna()"
   ]
  },
  {
   "cell_type": "markdown",
   "id": "862f844d",
   "metadata": {},
   "source": [
    "****\n",
    "### Pre-Registration Analyses\n",
    "\n",
    "1. To determine **whether high-end products have differential ratings from drugstore and mid-price items**, we will perform a T-test of the mean ratings between these price points. We will also perform linear regression and possibly k-means clustering, if applicable. For the linear regression, ratings will be the dependent variable and price will be the independent variable.\n",
    "\n"
   ]
  },
  {
   "cell_type": "markdown",
   "id": "fa542053",
   "metadata": {},
   "source": [
    "First, we performed the T test for rank. In this hypothesis test, our null hypothesis is that there is no statistically siginificant difference between the mean rank of low-to-midend products and high-end products. Our alternative hypothesis is that there is a statistically significant difference between the prices of these two groups of products. We will then carry out the T test, assuming that the null hypothesis is true. We will be using a significant level of 0.05."
   ]
  },
  {
   "cell_type": "code",
   "execution_count": null,
   "id": "e3cd8bda",
   "metadata": {},
   "outputs": [],
   "source": [
    "#From the summary of skin df: 75th percentile of price is $68, we will use that as our cutoff for \"high-end\" products\n",
    "highend=skin.loc[(skin['price']>=68)]\n",
    "low_midend=skin.loc[(skin['price']<68)]\n",
    "print(stats.levene(highend['rank'], low_midend['rank']))\n",
    "\n",
    "#The small p-value suggests that the populations do not have equal variances."
   ]
  },
  {
   "cell_type": "code",
   "execution_count": null,
   "id": "e5ac24d7",
   "metadata": {},
   "outputs": [],
   "source": [
    "ttest= stats.ttest_ind(highend['rank'], low_midend['rank'], equal_var= True)\n",
    "print(ttest)"
   ]
  },
  {
   "cell_type": "markdown",
   "id": "2fb945dd",
   "metadata": {},
   "source": [
    "From the summary statistics that we found for the skin dataset, the 75th percentile of price is $68, so we used that as our cutoff for what we consider \"high-end\" products.\n",
    "\n",
    "The p-value for this test is 0.986. Since our p-value is not smaller than our significant level of 0.05, we fail to reject null hypothesis. In other words, there is no statistically significant difference between the mean rank of low-to-mid-end products and high-end products."
   ]
  },
  {
   "cell_type": "code",
   "execution_count": null,
   "id": "7eb7bb98",
   "metadata": {},
   "outputs": [],
   "source": [
    "#Linear Regression model regressing rank on price\n",
    "rankonprice_regression = LinearRegression()\n",
    "rankonprice_regression.fit(skin[['price']], skin['rank'])\n",
    "print('Coefficient for the predictor is' , rankonprice_regression.coef_[0])\n",
    "score=rankonprice_regression.score(skin[['price']], skin['rank'])\n",
    "print('R squared value for the multiple linear regression is', score)"
   ]
  },
  {
   "cell_type": "markdown",
   "id": "6974a776",
   "metadata": {},
   "source": [
    "The coefficient value -0.0004 tells us that for every $1 increase in a product's price, the rank of that product decreases by 0.0004 units, ceteris paribus."
   ]
  },
  {
   "cell_type": "code",
   "execution_count": null,
   "id": "7f9f61ce",
   "metadata": {},
   "outputs": [],
   "source": [
    "#using statsmodels package to see p-value --> https://www.statsmodels.org/devel/example_formulas.html \n",
    "\n",
    "mod = smf.ols(formula='rank ~ price', data=skin)\n",
    "\n",
    "results = mod.fit()\n",
    "\n",
    "print(results.summary())"
   ]
  },
  {
   "cell_type": "markdown",
   "id": "c45bcaa6",
   "metadata": {},
   "source": [
    "As we can see from the table, the p-value for this regression is 0.288. This is statistically insignificant at the 5% level.The R-squared value of 0.001 is very low, indicating that price and rank of products are not highly correlated. "
   ]
  },
  {
   "cell_type": "code",
   "execution_count": null,
   "id": "bfc1088b",
   "metadata": {},
   "outputs": [],
   "source": [
    "#Scatterplot of price and rank by existence of parabens or not\n",
    "sns.lmplot(x='price', y='rank', data=skin, hue='contains_parabens')\n",
    "\n",
    "plt.title('Scatterplot of Price and Rank by whether the product contains parabens ')\n",
    "plt.show()\n"
   ]
  },
  {
   "cell_type": "markdown",
   "id": "727aa60e",
   "metadata": {},
   "source": [
    "The scatterplot shows that there is not a significant distinction between price and rank based on if a product contains parabens or not. The orange points (products containing parabens) appear to overlap with the blue points (products not containing parabens) which further supports this result. The orange line indicating the slope of the relationship between price and rank of products that contain parabens is negative which means that as price increases, rank decreases for products that contain parabens. The blue slope is slightly positive, indicating a positive relationship between price and rank for products that don't contain parabens. This could be because there are more products in our dataset that do not contain paraben than those that do. "
   ]
  },
  {
   "cell_type": "markdown",
   "id": "61f4892f",
   "metadata": {},
   "source": [
    "2. Next, **we will examine parabens**. In the ‘ingredients’ column of the datasets, we will index to find all the products that contain parabens such as methylparabens and ethylparabens. We will then perform two linear regressions: one with price as the outcome and a second with rating as the outcome. The predictor variables for these regressions will be a dummy variable indicating if the product contains parabens, price/rating (whichever is not the dependent variable), and skin type dummy variables. "
   ]
  },
  {
   "cell_type": "code",
   "execution_count": null,
   "id": "6ee86961",
   "metadata": {},
   "outputs": [],
   "source": [
    "#linreg price on contains parabens, rating, and skin dummy \n",
    "#using statsmodels package to see p-value --> https://www.statsmodels.org/devel/example_formulas.html \n",
    "\n",
    "\n",
    "mod = smf.ols(formula='price ~ contains_parabens + rank + normal+  oily + combination + dry + sensitive + full + natural + matte + light + radiant', data=skin)\n",
    "\n",
    "results = mod.fit()\n",
    "\n",
    "print('OLS Results with Price as Dependent Variable:' )\n",
    "print('\\n')\n",
    "print(results.summary())"
   ]
  },
  {
   "cell_type": "markdown",
   "id": "030527e2",
   "metadata": {},
   "source": [
    "The coefficient on containing parabens was 25.93 with a p-value of 0. This means that on average, a product that contains parabens has a price $25.93 greater than a product that does not contain parabens in its ingredient list, ceteris paribus. "
   ]
  },
  {
   "cell_type": "code",
   "execution_count": null,
   "id": "a14fa30b",
   "metadata": {
    "tags": []
   },
   "outputs": [],
   "source": [
    "#linreg rank on contains parabens, price, and skin dummy \n",
    "#using statsmodels package to see p-value --> https://www.statsmodels.org/devel/example_formulas.html \n",
    "\n",
    "\n",
    "\n",
    "mod = smf.ols(formula='rank ~ contains_parabens + price + normal + oily + combination + dry + sensitive + full + natural + matte + light + radiant', data=skin)\n",
    "\n",
    "results = mod.fit()\n",
    "\n",
    "print('OLS Results with Rank as Dependent Variable:' )\n",
    "print('\\n')\n",
    "print(results.summary())"
   ]
  },
  {
   "cell_type": "markdown",
   "id": "d3e81802",
   "metadata": {},
   "source": [
    "The coefficient on containing parabens was -0.0795 with a p-value of 0.235. This means that on average, a product that contains parabens has a ranking of 0.0795 units lower than a product that does not contain parabens, ceteris paribus. "
   ]
  },
  {
   "cell_type": "markdown",
   "id": "4ca8e9eb",
   "metadata": {},
   "source": [
    "**** \n",
    "### Additional Analyses"
   ]
  },
  {
   "cell_type": "markdown",
   "id": "f397cad3",
   "metadata": {},
   "source": [
    "### Linear regression model"
   ]
  },
  {
   "cell_type": "markdown",
   "id": "7ddf7b8a",
   "metadata": {},
   "source": [
    "In this section, we will perform a linear regression analysis to determine whether there is a linear relationship between the price of skincare products and likelihood that a product contains parabens. We will also examine if there is a linear relationship between price and rank (rating)."
   ]
  },
  {
   "cell_type": "code",
   "execution_count": null,
   "id": "be926639",
   "metadata": {},
   "outputs": [],
   "source": [
    "#Linear Regression model regressing parabens on price\n",
    "from sklearn.linear_model import LinearRegression\n",
    "price_regression = LinearRegression()\n",
    "price_regression.fit(skin[['price']], skin['contains_parabens'])\n",
    "print('Coefficient for the predictor is' , price_regression.coef_[0])\n",
    "score=price_regression.score(skin[['price']], skin['contains_parabens'])\n",
    "print('R squared value for the multiple linear regression is', score)"
   ]
  },
  {
   "cell_type": "code",
   "execution_count": null,
   "id": "11b31966",
   "metadata": {},
   "outputs": [],
   "source": [
    "#using statsmodels package to see p-value --> https://www.statsmodels.org/devel/example_formulas.html \n",
    "\n",
    "mod = smf.ols(formula='contains_parabens ~ price', data=skin)\n",
    "\n",
    "results = mod.fit()\n",
    "\n",
    "print(results.summary())"
   ]
  },
  {
   "cell_type": "markdown",
   "id": "a6762d98",
   "metadata": {},
   "source": [
    "The coefficient value 0.0007 tells us that for every $1 increase in a product's price, the probability that the product contains parabens increases by .07%, ceteris paribus. The p-value is 0, which indicates that this result is significant at the 5% level. \n",
    "\n",
    "However, the R-squared value is also very low, indicating that there is very weak positive relationship between a products price and the likelihood a product contains parabens. This suggests that linear regression is not a good model for these two variables. This is not surprising, since we are trying to fit a binary dependent variable on a continuous variable."
   ]
  },
  {
   "cell_type": "code",
   "execution_count": null,
   "id": "feb515f6",
   "metadata": {},
   "outputs": [],
   "source": [
    "#plot parabens and price relationship\n",
    "sns.relplot(data=skin, x='contains_parabens', y='price')\n",
    "plt.title('Products Containing Parabens and Price Relationship')\n",
    "plt.xlabel('Contains parabens')\n",
    "plt.ylabel('Price')\n",
    "plt.show()"
   ]
  },
  {
   "cell_type": "markdown",
   "id": "6b886758",
   "metadata": {},
   "source": [
    "This plot looks at the relationship between a product's price and whether that product contains parabens. As we can see, there doesn't appear to be any significant differences in prices between products that contain parabens and products that don't contain parabens. The range of prices for products that do not contain parabens is larger than the range of prices for products that do contain parabens; however, there are not any clear price distinctions that we can see. "
   ]
  },
  {
   "cell_type": "markdown",
   "id": "7369a227",
   "metadata": {},
   "source": [
    "## Linear regression with price and labels as predictors and rank as the outcome"
   ]
  },
  {
   "cell_type": "code",
   "execution_count": null,
   "id": "5b9b2fb8",
   "metadata": {},
   "outputs": [],
   "source": [
    "dummies=pd.get_dummies(skin['label'])\n",
    "skin=skin.copy()\n",
    "skin['eye']=dummies['eye']\n",
    "skin['moisturizing']=dummies['moisturizing']\n",
    "skin['sunscreen']=dummies['sunscreen']\n",
    "skin['cleanser']=dummies['cleanser']\n",
    "skin['facial']=dummies['facial']\n",
    "skin['face']=dummies['face']"
   ]
  },
  {
   "cell_type": "markdown",
   "id": "0acc2562",
   "metadata": {},
   "source": [
    "In order to perform the linear regression, we first created dummy variables for all of the product labels. We then fit the linear regression using rank as the outcome and the labels and price as the predictors."
   ]
  },
  {
   "cell_type": "code",
   "execution_count": null,
   "id": "4dfa54e2",
   "metadata": {},
   "outputs": [],
   "source": [
    "#linear regression with price and labels as predictors and rank as outcome\n",
    "sns.lmplot(x='price', y='rank', data=skin, hue='label')\n",
    "\n",
    "model2 = LinearRegression()\n",
    "model2.fit(skin[['price', 'eye', 'moisturizing', 'sunscreen', 'cleanser', 'facial', 'face']],skin['rank'])\n",
    "print('Estimated coefficients for this model for price, eye, moisturizing, sunscreen, cleanser, facial and face respectively are', model2.coef_)\n",
    "plt.title('Scatterplot of Price and Rank by Product Label')\n",
    "plt.tight_layout()"
   ]
  },
  {
   "cell_type": "markdown",
   "id": "fb794fb5",
   "metadata": {},
   "source": [
    "As we can see from the plot and the coefficient values, there is not a strong linear relationship between rank and any of our predictor variables. One thing to note is that the orange line (cleanser products) and the purple line (eye products) appear to have different relationships between price and rank than the other predictors. It appears that rank and price of cleanser products have a negative relationship whereas the rank and price of eye products have a slightly positive relationship."
   ]
  },
  {
   "cell_type": "markdown",
   "id": "b61e589b",
   "metadata": {},
   "source": [
    "While we had previously planned to perform K-means clustering using labels, we can see from this plot that this would not be a suitable model."
   ]
  },
  {
   "cell_type": "markdown",
   "id": "b886f975",
   "metadata": {},
   "source": [
    "## Train-Test Split Evaluation"
   ]
  },
  {
   "cell_type": "markdown",
   "id": "17ac4f33",
   "metadata": {},
   "source": [
    "#### In this section, we split the data into train and test sets and evaluate the performance of our training set. "
   ]
  },
  {
   "cell_type": "markdown",
   "id": "43be39ce",
   "metadata": {},
   "source": [
    "Train-Test Split for predicting whether a product contains parabens, given the price"
   ]
  },
  {
   "cell_type": "code",
   "execution_count": null,
   "id": "ce5d0d77",
   "metadata": {
    "tags": []
   },
   "outputs": [],
   "source": [
    "x_train, x_test = train_test_split(skin, test_size=0.2, random_state=15)\n",
    "print('Training set')\n",
    "print(x_train.head())\n",
    "print('\\n')\n",
    "print('Test set')\n",
    "print(x_test.head())"
   ]
  },
  {
   "cell_type": "code",
   "execution_count": null,
   "id": "bd1e32fd",
   "metadata": {},
   "outputs": [],
   "source": [
    "lregression = LogisticRegression().fit(x_train[['price']], x_train['contains_parabens'])\n",
    "print('Logistic Regression Coefficient is ', lregression.coef_[0][0])\n",
    "y_pred = lregression.predict(x_test[['price']])\n",
    "b=np.sum(y_pred==x_test['contains_parabens'])/len(y_pred)\n",
    "answer=(b*100).round(1)\n",
    "print('Prediction accuracy of this model is',answer,'%')"
   ]
  },
  {
   "cell_type": "markdown",
   "id": "bba5ec15",
   "metadata": {},
   "source": [
    "In other words, the model will predict whether a product contains parabens based on the price of the product 93.5% of the time. Although this is a very high accuracy, we must keep in mind that a small proportion of our products actually contain parabens. This might mean that there is not a sufficient number of records with parabens, and therefore there is not actually enough data in the test set to properly evaluate the model performance. In terms of the bigger picture, both our train and test datasets are most likely not suitable representations of the problem domain."
   ]
  },
  {
   "cell_type": "markdown",
   "id": "8af43c0b",
   "metadata": {},
   "source": [
    "### Train-Test Split for predicting whether a product contains parabens, given the rank"
   ]
  },
  {
   "cell_type": "code",
   "execution_count": null,
   "id": "02873e9c",
   "metadata": {
    "tags": []
   },
   "outputs": [],
   "source": [
    "x_train2, x_test2 = train_test_split(skin, test_size=0.8)\n",
    "print('Training set')\n",
    "print(x_train2.head())\n",
    "print('\\n')\n",
    "print('Test set')\n",
    "print(x_test2.head())"
   ]
  },
  {
   "cell_type": "code",
   "execution_count": null,
   "id": "68809b89",
   "metadata": {},
   "outputs": [],
   "source": [
    "logfit= LogisticRegression().fit(x_train2[['rank']], x_train2['contains_parabens'])\n",
    "print('Logistic Regression Coefficient is ', logfit.coef_[0][0])\n",
    "testscore = logfit.score(x_test2[['rank']],x_test2['contains_parabens'])\n",
    "print('Prediction accuracy of the model is: {:.1%}'.format(testscore))\n"
   ]
  },
  {
   "cell_type": "markdown",
   "id": "006b49fa",
   "metadata": {},
   "source": [
    "Here, we see another high prediction accuracy. The model will predict whether a product contains parabens based on the rank of the product 94.7% of the time. To understand this high number, we can apply the same explanation as we did above with price as the predictor variable. "
   ]
  },
  {
   "cell_type": "markdown",
   "id": "71afa6c3",
   "metadata": {},
   "source": [
    "# Logistic Regression"
   ]
  },
  {
   "cell_type": "markdown",
   "id": "03666685",
   "metadata": {},
   "source": [
    "In this section, we will be using logistic regression to predict the probability of a product containing parabens, given its rank or price. First, we will fit the logistic regression model."
   ]
  },
  {
   "cell_type": "code",
   "execution_count": null,
   "id": "831178c1",
   "metadata": {},
   "outputs": [],
   "source": [
    "skin_model = LogisticRegression().fit(skin[['price']], skin['contains_parabens'])\n",
    "print('Coefficient: ', skin_model.coef_[0][0])\n",
    "print('Intercept: ', skin_model.intercept_[0])"
   ]
  },
  {
   "cell_type": "markdown",
   "id": "230de547",
   "metadata": {},
   "source": [
    "For every \\$1 increase in a product's price, the log-odds that the product contains parabens increases by 0.0086, ceteris paribus."
   ]
  },
  {
   "cell_type": "markdown",
   "id": "c90a8587",
   "metadata": {},
   "source": [
    "We then need to define a function that will calculate logit"
   ]
  },
  {
   "cell_type": "code",
   "execution_count": null,
   "id": "361d5081",
   "metadata": {},
   "outputs": [],
   "source": [
    "def logit(x):\n",
    "    return np.exp(x) / (np.exp(x) + 1)"
   ]
  },
  {
   "cell_type": "code",
   "execution_count": null,
   "id": "560e7cda",
   "metadata": {},
   "outputs": [],
   "source": [
    "m = skin_model.coef_[0][0]\n",
    "b = skin_model.intercept_[0]\n",
    "price = 80\n",
    "x = m * price + b\n",
    "print('Probability that a product that costs $80 contains parabens is:', logit(x))\n",
    "\n",
    "price = 81\n",
    "x = m * price + b\n",
    "print('Probability that a product that costs $81 contains parabens is:', logit(x))"
   ]
  },
  {
   "cell_type": "markdown",
   "id": "381e7ea9",
   "metadata": {},
   "source": [
    "As the price increases, the probability that the product will contain parabens also increases."
   ]
  },
  {
   "cell_type": "markdown",
   "id": "548efd91",
   "metadata": {},
   "source": [
    "Lets now use our function to predict the probability of a product containing parabens, given each rank."
   ]
  },
  {
   "cell_type": "code",
   "execution_count": null,
   "id": "4db34e8a",
   "metadata": {},
   "outputs": [],
   "source": [
    "skin_model_rank = LogisticRegression().fit(skin[['rank']], skin['contains_parabens'])\n",
    "print('Coefficient: ', skin_model_rank.coef_[0][0])\n",
    "print('Intercept: ', skin_model.intercept_[0])\n",
    "m = skin_model_rank.coef_[0][0]\n",
    "b = skin_model_rank.intercept_[0]\n",
    "rank = 1\n",
    "x = m * rank + b\n",
    "print('Probability of a product with rank 1 containing parabens:', logit(x))\n",
    "\n",
    "rank2 = 2\n",
    "x = m * rank2 + b\n",
    "print('Probability of a product with rank 2 containing parabens:', logit(x))\n",
    "\n",
    "rank3 = 3\n",
    "x = m * rank3 + b\n",
    "print('Probability of a product with rank 3 containing parabens:', logit(x))\n",
    "\n",
    "rank4 = 4\n",
    "x = m * rank4 + b\n",
    "print('Probability of a product with rank 4 containing parabens:', logit(x))\n",
    "\n",
    "rank5 = 5\n",
    "x = m * rank5 + b\n",
    "print('Probability of a product with rank 5 containing parabens:', logit(x))"
   ]
  },
  {
   "cell_type": "markdown",
   "id": "cae9d131",
   "metadata": {},
   "source": [
    "As the rank increases, the probability that the product will contain parabens decreases. "
   ]
  },
  {
   "cell_type": "code",
   "execution_count": null,
   "id": "7eb4d2c9",
   "metadata": {},
   "outputs": [],
   "source": [
    "# plot\n",
    "#  data\n",
    "plt.scatter(\n",
    "    skin.price, \n",
    "    skin.contains_parabens, \n",
    "    alpha = 0.3,\n",
    "    label='Containing parabens'\n",
    ")\n",
    "\n",
    "#  logit probability of class 1\n",
    "plt.scatter(\n",
    "    skin.price, \n",
    "    skin_model.predict_proba(skin[['price']])[:,1], \n",
    "    alpha = 0.3,\n",
    "    label='Predicted probability containing parabens'\n",
    ")\n",
    "plt.xlabel('Price')\n",
    "plt.ylabel('Probability Product contains Parabens')\n",
    "plt.title('Predicted vs Actual: Containing Parabens')\n",
    "plt.legend()\n",
    "plt.show()"
   ]
  },
  {
   "cell_type": "markdown",
   "id": "2b2973e5",
   "metadata": {},
   "source": [
    "******\n",
    "## Evaluation of Significance: T-Test (difference in means by parabens)"
   ]
  },
  {
   "cell_type": "markdown",
   "id": "018e73ac",
   "metadata": {},
   "source": [
    "#### In this section, we performed a T-Test for the difference in means between the prices and the rank of the products with and without parabens. "
   ]
  },
  {
   "cell_type": "markdown",
   "id": "50c938b8",
   "metadata": {},
   "source": [
    "### 1. Price"
   ]
  },
  {
   "cell_type": "markdown",
   "id": "442083e9",
   "metadata": {},
   "source": [
    "##### First, we performed the T test for price. In this hypothesis test, our null hypothesis is that there is no statistically siginificant difference between the price of products with parabens and the price of products without parabens. Our alternative hypothesis is that there is a statistically significant difference between the prices of these two groups of products. We will then carry out the T test, assuming that the null hypothesis is true. We will be using a significant level of 0.05."
   ]
  },
  {
   "cell_type": "code",
   "execution_count": null,
   "id": "549cb229",
   "metadata": {},
   "outputs": [],
   "source": [
    "subset1=skin.loc[(skin['contains_parabens']==0)]\n",
    "subset2=skin.loc[(skin['contains_parabens']==1)]\n",
    "print(stats.levene(subset1['price'], subset2['price']))\n"
   ]
  },
  {
   "cell_type": "markdown",
   "id": "ab29206a",
   "metadata": {},
   "source": [
    "The Independent Samples T-Test requires the assumption of homogeneity of variance, so we conducted a Levene test to check for this condition. A small p-value suggests that the populations do not have equal variances. We do this step for each of our following t-tests. \n",
    "\n",
    "In this Levene test above, since the p-value is smaller than the significance level of 0.05, this means that the two subsets do NOT have equal variance and we will set the argument `equal_var` to False for the subsequent t-test."
   ]
  },
  {
   "cell_type": "code",
   "execution_count": null,
   "id": "f4c5899e",
   "metadata": {},
   "outputs": [],
   "source": [
    "ttest= stats.ttest_ind(subset1['price'], subset2['price'], equal_var= False)\n",
    "print(ttest)"
   ]
  },
  {
   "cell_type": "markdown",
   "id": "526d2192",
   "metadata": {},
   "source": [
    "The p value for this test is 0.0002557. Since our p-value is  less than our significant level of 0.05, we reject null hypoethesis and accept the alternative hypothesis. In other words, there is a statistically significant difference between the mean price of products with and without parabens."
   ]
  },
  {
   "cell_type": "markdown",
   "id": "a360f36c",
   "metadata": {},
   "source": [
    "### Bootstrap resampling"
   ]
  },
  {
   "cell_type": "markdown",
   "id": "6b951a27",
   "metadata": {},
   "source": [
    "In order to get an even better sense of whether there is truly a significant difference in the rank and price of products with and without parabens, we decided to do a bootstrap resampling and recalculate the P value using our new sample. Here, we will resample our data with replacement 10000 times to get a sense of what our data might have looked like if we looked at a wider range of similar products."
   ]
  },
  {
   "cell_type": "code",
   "execution_count": null,
   "id": "45c5f41b",
   "metadata": {},
   "outputs": [],
   "source": [
    "skin.sample(n=len(skin), replace=True)\n",
    "bootstraps = 10000\n",
    "for i in range(bootstraps):\n",
    "    resampled= skin.sample(n=len(skin), replace=True)\n",
    "\n",
    "subset_rank_resample=resampled.loc[(resampled['contains_parabens']==0)]\n",
    "subset_rank2_resample=resampled.loc[(resampled['contains_parabens']==1)]\n",
    "#Recall that the Independent Samples t Test requires the assumption of homogeneity of variance \n",
    "#The small p-value suggests that the populations do not have equal variances.\n",
    "print(stats.levene(subset_rank_resample['price'], subset_rank2_resample['price']))\n",
    "ttest= stats.ttest_ind(subset_rank_resample['price'], subset_rank2_resample['price'], equal_var= False)\n",
    "print(ttest)"
   ]
  },
  {
   "cell_type": "markdown",
   "id": "06cf8e37",
   "metadata": {},
   "source": [
    "In this bootstraped resampling, the P value is also below the critical 0.05 value. We therefore again can reject the null hypothesis in favor of the alternative hypothesis. There is strong evidence that there is a statistically significant difference between the mean price of products containing parabens and. the mean price of products without parabens."
   ]
  },
  {
   "cell_type": "markdown",
   "id": "5e977241",
   "metadata": {},
   "source": [
    "### 2. Rank"
   ]
  },
  {
   "cell_type": "markdown",
   "id": "13d170b1",
   "metadata": {},
   "source": [
    "##### We will now perform the same hypothesis test for rank. The null hypothesis is that there is no statistically siginificant difference between the rank of products with parabens and the rank of products without parabens. Our alternative hypothesis is that there is a statistically significant difference between the prices of these two groups of products. We will then carry out the T test, assuming that the null hypothesis is true. We will be using a significant level of 0.05."
   ]
  },
  {
   "cell_type": "code",
   "execution_count": null,
   "id": "6eff6cfc",
   "metadata": {},
   "outputs": [],
   "source": [
    "subset_rank=skin.loc[(skin['contains_parabens']==0)]\n",
    "subset_rank2=skin.loc[(skin['contains_parabens']==1)]\n",
    "#Recall that the Independent Samples t Test requires the assumption of homogeneity of variance \n",
    "#The small p-value suggests that the populations do not have equal variances.\n",
    "print(stats.levene(subset_rank['rank'], subset_rank2['rank']))"
   ]
  },
  {
   "cell_type": "markdown",
   "id": "1c02e1c4",
   "metadata": {},
   "source": [
    "Since our levene result has a small P value of 0.0364 this means that the two subsets do not have equal variance."
   ]
  },
  {
   "cell_type": "code",
   "execution_count": null,
   "id": "66d6cd0c",
   "metadata": {},
   "outputs": [],
   "source": [
    "ttest= stats.ttest_ind(subset_rank['rank'], subset_rank2['rank'], equal_var= False)\n",
    "print(ttest)"
   ]
  },
  {
   "cell_type": "markdown",
   "id": "5f9653d8",
   "metadata": {},
   "source": [
    "The p value for this test is 0.350. Since our P value is not smaller than our significant level of 0.05, we fail to reject null hypoethesis. In other words, there is no statistically significant difference between the mean rank of products with and without parabens."
   ]
  },
  {
   "cell_type": "markdown",
   "id": "6ed88651",
   "metadata": {},
   "source": [
    "## T-Test for rank using bootstrapped sample"
   ]
  },
  {
   "cell_type": "markdown",
   "id": "9aff4d87",
   "metadata": {},
   "source": [
    "Just like we did with price, we will now resample the data again using the bootstrap resampling method and run the hypothesis test again. The null and alternative hypotheses are the same."
   ]
  },
  {
   "cell_type": "code",
   "execution_count": null,
   "id": "169b4c99",
   "metadata": {},
   "outputs": [],
   "source": [
    "skin.sample(n=len(skin), replace=True)\n",
    "bootstraps = 10000\n",
    "for i in range(bootstraps):\n",
    "    resampled= skin.sample(n=len(skin), replace=True)\n",
    "\n",
    "subset_rank_resample=resampled.loc[(resampled['contains_parabens']==0)]\n",
    "subset_rank2_resample=resampled.loc[(resampled['contains_parabens']==1)]\n",
    "#Recall that the Independent Samples t Test requires the assumption of homogeneity of variance \n",
    "#The small p-value suggests that the populations do not have equal variances.\n",
    "print(stats.levene(subset_rank_resample['rank'], subset_rank2_resample['rank']))\n",
    "ttest= stats.ttest_ind(subset_rank_resample['rank'], subset_rank2_resample['rank'], equal_var= False)\n",
    "print(ttest)"
   ]
  },
  {
   "cell_type": "markdown",
   "id": "330f8a87",
   "metadata": {},
   "source": [
    "Same conclusion, with a large p-value of 0.469 that's greater than .05, we fail to reject the null hypothesis. There is no statistical difference in rank of products with and without parabens."
   ]
  },
  {
   "cell_type": "markdown",
   "id": "7510a8b1",
   "metadata": {},
   "source": [
    "**We reject the null hypothesis for the difference in prices between products with and without parabens. We can therefore say that there appears to be evidence for a difference in price between skin care products with and without parabens. But for which types of products is this difference in price most significant? We therefore decided to subset our data and perform the hypothesis test on each label catagory, to see whether there is a significant difference in price.**"
   ]
  },
  {
   "cell_type": "markdown",
   "id": "bed6cf55",
   "metadata": {},
   "source": [
    "## 1. Eye products"
   ]
  },
  {
   "cell_type": "markdown",
   "id": "ffd70f6a",
   "metadata": {},
   "source": [
    "#####  In this hypothesis test, our null hypothesis is that there is no statistically siginificant difference between the price of eye products with parabens and the price of products without parabens. Our alternative hypothesis is that there is a statistically significant difference between the prices of these two groups of products. We will then carry out the T test, assuming that the null hypothesis is true. We will be using a significant level of 0.05."
   ]
  },
  {
   "cell_type": "code",
   "execution_count": null,
   "id": "2362c570",
   "metadata": {},
   "outputs": [],
   "source": [
    "by_eye.groupby(['contains_parabens'])['price'].mean()"
   ]
  },
  {
   "cell_type": "code",
   "execution_count": null,
   "id": "fef2b137",
   "metadata": {},
   "outputs": [],
   "source": [
    "subset1=by_eye.loc[(by_eye['contains_parabens']==0)]\n",
    "subset2=by_eye.loc[(by_eye['contains_parabens']==1)]\n",
    "\n",
    "print(stats.levene(subset1['price'], subset2['price']))\n",
    "ttest= stats.ttest_ind(subset1['price'], subset2['price'], equal_var= True)\n",
    "print(ttest)"
   ]
  },
  {
   "cell_type": "markdown",
   "id": "132a614d",
   "metadata": {},
   "source": [
    "The p-value for this t-test is 0.512. Since our p-value is not less than our significant level of 0.05, we fail to reject null hypoethesis. In other words, there is no statistically significant difference between the mean price of eye products with and without parabens."
   ]
  },
  {
   "cell_type": "markdown",
   "id": "d98d4334",
   "metadata": {},
   "source": [
    "## 2. Moisturizing Products"
   ]
  },
  {
   "cell_type": "markdown",
   "id": "b8a2eba0",
   "metadata": {},
   "source": [
    "#####  In this hypothesis test, our null hypothesis is that there is no statistically siginificant difference between the price of moisturizing products with parabens and the price of products without parabens. Our alternative hypothesis is that there is a statistically significant difference between the prices of these two groups of products. We will then carry out the T test, assuming that the null hypothesis is true. We will be using a significant level of 0.05."
   ]
  },
  {
   "cell_type": "code",
   "execution_count": null,
   "id": "59b801a3",
   "metadata": {},
   "outputs": [],
   "source": [
    "#parabens by label = moisturizing\n",
    "moisturizing = skin[skin['label']=='moisturizing'].sort_values(by=['price'])\n",
    "moisturizing.groupby(['contains_parabens'])['price'].mean()"
   ]
  },
  {
   "cell_type": "code",
   "execution_count": null,
   "id": "918cfdd1",
   "metadata": {},
   "outputs": [],
   "source": [
    "subset1=moisturizing.loc[(moisturizing['contains_parabens']==0)]\n",
    "subset2=moisturizing.loc[(moisturizing['contains_parabens']==1)]\n",
    "\n",
    "print(stats.levene(subset1['price'], subset2['price']))\n",
    "ttest= stats.ttest_ind(subset1['price'], subset2['price'], equal_var= False)\n",
    "print(ttest)"
   ]
  },
  {
   "cell_type": "markdown",
   "id": "84dc830f",
   "metadata": {},
   "source": [
    "The p value for this t-test is 0.0098. Since our P value is less than our significant level of 0.05, we reject null hypoethesis and accept the alternative hypothesis. In other words, there is statistically significant difference between the mean price of moisturizing products with and without parabens."
   ]
  },
  {
   "cell_type": "markdown",
   "id": "0b4e5e1c",
   "metadata": {},
   "source": [
    "## 3. Facial products"
   ]
  },
  {
   "cell_type": "markdown",
   "id": "b46ba00e",
   "metadata": {},
   "source": [
    "#####  In this next hypothesis test, our null hypothesis is that there is no statistically siginificant difference between the price of facial products with parabens and the price of products without parabens. Our alternative hypothesis is that there is a statistically significant difference between the prices of these two groups of products. We will then carry out the T test, assuming that the null hypothesis is true. We will be using a significant level of 0.05."
   ]
  },
  {
   "cell_type": "code",
   "execution_count": null,
   "id": "0585f513",
   "metadata": {},
   "outputs": [],
   "source": [
    "#facial\n",
    "facial = skin[skin['label']=='facial'].sort_values(by=['price'])\n",
    "facial.groupby(['contains_parabens'])['price'].mean()"
   ]
  },
  {
   "cell_type": "code",
   "execution_count": null,
   "id": "c7480304",
   "metadata": {},
   "outputs": [],
   "source": [
    "subset1=facial.loc[(facial['contains_parabens']==0)]\n",
    "subset2=facial.loc[(facial['contains_parabens']==1)]\n",
    "\n",
    "print(stats.levene(subset1['price'], subset2['price']))\n",
    "ttest= stats.ttest_ind(subset1['price'], subset2['price'], equal_var= True)\n",
    "print(ttest)\n",
    "\n",
    "#facial within label is NOT significant for parabens and price"
   ]
  },
  {
   "cell_type": "markdown",
   "id": "9a0df2d0",
   "metadata": {},
   "source": [
    "The p value for this t-test is 0.65. Since our P value is not less than our significant level of 0.05, we fail to reject null hypoethesis. There is not a statistically significant difference between the mean price of facial products with and without parabens."
   ]
  },
  {
   "cell_type": "markdown",
   "id": "a63060d2",
   "metadata": {},
   "source": [
    "## 4. Face Products"
   ]
  },
  {
   "cell_type": "markdown",
   "id": "e74f659b",
   "metadata": {},
   "source": [
    "#####  In this next hypothesis test, our null hypothesis is that there is no statistically siginificant difference between the price of face products with parabens and the price of products without parabens. Our alternative hypothesis is that there is a statistically significant difference between the prices of these two groups of products. We will then carry out the T test, assuming that the null hypothesis is true. We will be using a significant level of 0.05."
   ]
  },
  {
   "cell_type": "code",
   "execution_count": null,
   "id": "9f2f765e",
   "metadata": {},
   "outputs": [],
   "source": [
    "#face\n",
    "face = skin[skin['label']=='face'].sort_values(by=['price'])\n",
    "face.groupby(['contains_parabens'])['price'].mean()"
   ]
  },
  {
   "cell_type": "code",
   "execution_count": null,
   "id": "b88abd2f",
   "metadata": {},
   "outputs": [],
   "source": [
    "subset1=face.loc[(face['contains_parabens']==0)]\n",
    "subset2=face.loc[(face['contains_parabens']==1)]\n",
    "\n",
    "print(stats.levene(subset1['price'], subset2['price']))\n",
    "ttest= stats.ttest_ind(subset1['price'], subset2['price'], equal_var= True)\n",
    "print(ttest)\n",
    "\n",
    "#face within label is significant for parabens and price "
   ]
  },
  {
   "cell_type": "markdown",
   "id": "dc65bd1e",
   "metadata": {},
   "source": [
    "The p value for this t-test is 0.0014. Since our P value is  less than our significant level of 0.05, we reject null hypoethesis and accept the alternative hypothesis. There is a statistically significant difference between the mean price of face products with and without parabens."
   ]
  },
  {
   "cell_type": "markdown",
   "id": "05045d7c",
   "metadata": {},
   "source": [
    "## 5. Cleanser products"
   ]
  },
  {
   "cell_type": "code",
   "execution_count": null,
   "id": "a6d5071c",
   "metadata": {},
   "outputs": [],
   "source": [
    "#cleanser\n",
    "cleanser = skin[skin['label']=='cleanser'].sort_values(by=['price'])\n",
    "cleanser.groupby(['contains_parabens'])['price'].mean()"
   ]
  },
  {
   "cell_type": "code",
   "execution_count": null,
   "id": "0aec136d",
   "metadata": {},
   "outputs": [],
   "source": [
    "subset1=cleanser.loc[(cleanser['contains_parabens']==0)]\n",
    "subset2=cleanser.loc[(cleanser['contains_parabens']==1)]\n",
    "\n",
    "print(stats.levene(subset1['price'], subset2['price']))\n",
    "ttest= stats.ttest_ind(subset1['price'], subset2['price'], equal_var= False)\n",
    "print(ttest)\n",
    "\n",
    "#cleanser within label is significant for parabens and price"
   ]
  },
  {
   "cell_type": "markdown",
   "id": "d71414ee",
   "metadata": {},
   "source": [
    "The p value for this t-test is 0.067. Since our P value is not less than our significant level of 0.05, we fail to reject null hypoethesis. There is not a statistically significant difference between the mean price of cleanser products with and without parabens."
   ]
  },
  {
   "cell_type": "markdown",
   "id": "6298f656",
   "metadata": {},
   "source": [
    "## 6. Sunscreen products"
   ]
  },
  {
   "cell_type": "code",
   "execution_count": null,
   "id": "26375108",
   "metadata": {},
   "outputs": [],
   "source": [
    "#sunscreen\n",
    "sunscreen = skin[skin['label']=='sunscreen'].sort_values(by=['price'])\n",
    "sunscreen.groupby(['contains_parabens'])['price'].mean()"
   ]
  },
  {
   "cell_type": "code",
   "execution_count": null,
   "id": "a22c3838",
   "metadata": {},
   "outputs": [],
   "source": [
    "subset1=sunscreen.loc[(sunscreen['contains_parabens']==0)]\n",
    "subset2=sunscreen.loc[(sunscreen['contains_parabens']==1)]\n",
    "\n",
    "print(stats.levene(subset1['price'], subset2['price']))\n",
    "ttest= stats.ttest_ind(subset1['price'], subset2['price'], equal_var= False)\n",
    "print(ttest)\n",
    "\n",
    "#sunscreen within label is significant for parabens and price"
   ]
  },
  {
   "cell_type": "markdown",
   "id": "9de0ff95",
   "metadata": {},
   "source": [
    "The p value for this t-test is 0.140. Since our P value is not less than our significant level of 0.05, we fail to reject null hypoethesis. There is not a statistically significant difference between the mean price of sunscreen products with and without parabens."
   ]
  },
  {
   "cell_type": "markdown",
   "id": "8dc1eb9b",
   "metadata": {},
   "source": [
    "## Summary of Evaluation\n",
    "\n",
    "**Statistically Significant Difference**: \n",
    "- Moisturizing\n",
    "- Face\n",
    "\n",
    "**Not Significant**:\n",
    "- Facial\n",
    "- Sunscreen\n",
    "- Cleanser\n",
    "- Eye"
   ]
  },
  {
   "cell_type": "markdown",
   "id": "e455f6db",
   "metadata": {},
   "source": [
    "### Limitations of hypothesis tests: Type I and Type II Errors"
   ]
  },
  {
   "cell_type": "markdown",
   "id": "564b3222",
   "metadata": {},
   "source": [
    "One limitation that we must be mindful of is the existence of type I and type II errors. For the instances where we rejected the null hypothesis in favor of the alternative hypothesis, there is a 5% chance that we may have a type I error. A type I error is where there is a false positive; in other words we reject the null hypothesis when we should not have. One way we could  reduce  the possibility of this error is by increasing the sample size. A type II error is where there is a false negative; in other words we fail to reject the null hypothesis when we should have."
   ]
  },
  {
   "cell_type": "markdown",
   "id": "2f036287",
   "metadata": {},
   "source": [
    "## Multiple Regression"
   ]
  },
  {
   "cell_type": "markdown",
   "id": "b4eda83c",
   "metadata": {},
   "source": [
    "## Multiple regression with skin type as predictors and parabens as outcome"
   ]
  },
  {
   "cell_type": "code",
   "execution_count": null,
   "id": "1fe9e197",
   "metadata": {},
   "outputs": [],
   "source": [
    "#LPM: Regress Parabens on Skin-types\n",
    "mod = smf.ols(formula='contains_parabens ~ normal+  oily + combination + dry + sensitive + full + natural + matte + light + radiant', data=skin)\n",
    "\n",
    "results = mod.fit()\n",
    "\n",
    "print('OLS Results: Regress Parabens on Skin-types' )\n",
    "print('\\n')\n",
    "print(results.summary())"
   ]
  },
  {
   "cell_type": "markdown",
   "id": "9eaa5870",
   "metadata": {},
   "source": [
    "As seen by the large p-values, there are no statistically significant skin-types that predict whether a product has parabens or not. "
   ]
  },
  {
   "cell_type": "markdown",
   "id": "fb31318d",
   "metadata": {},
   "source": [
    "## Multiple regression with labels as predictors and parabens as outcome"
   ]
  },
  {
   "cell_type": "code",
   "execution_count": null,
   "id": "18e04f2b",
   "metadata": {},
   "outputs": [],
   "source": [
    "#LPM: Regress Parabens on product labels\n",
    "#took face out to avoid multicollinearity\n",
    "mod = smf.ols(formula='contains_parabens ~ eye + moisturizing + sunscreen + cleanser + facial ', data=skin)\n",
    "\n",
    "results = mod.fit()\n",
    "\n",
    "print('OLS Results: Regress Parabens on Product Labels' )\n",
    "print('\\n')\n",
    "print(results.summary())"
   ]
  },
  {
   "cell_type": "markdown",
   "id": "3775ee32",
   "metadata": {},
   "source": [
    "All product-labels products, on average, have a greater likelihood of containing parabens relative to the face-label category. These are all statistically significant at the .05 level, with the exception of eye products. "
   ]
  },
  {
   "cell_type": "markdown",
   "id": "534ddac5",
   "metadata": {},
   "source": [
    "## Logistic regression with parabens as outcome and skin types as predictors"
   ]
  },
  {
   "cell_type": "code",
   "execution_count": null,
   "id": "e4f06ed7",
   "metadata": {},
   "outputs": [],
   "source": [
    "model5 = LogisticRegression()\n",
    "model5.fit(skin[['normal','oily','combination','dry','sensitive','full','natural','matte','light','radiant']],\n",
    "           skin['contains_parabens'])\n",
    "print('Coefficients for normal, oily, combination, dry, sensitive, full, natural, matte, light, and radiant skin, repectively: ', model5.coef_)"
   ]
  },
  {
   "cell_type": "code",
   "execution_count": null,
   "id": "91de0d51",
   "metadata": {},
   "outputs": [],
   "source": [
    "#logistic regression with parabens as outcome and labels as predictors\n",
    "model6 = LogisticRegression()\n",
    "model6.fit(skin[['eye', 'moisturizing', 'sunscreen', 'cleanser', 'facial', 'face']], skin['contains_parabens'])\n",
    "print('Coefficients for eye, moisturizing, sunscreen, cleanser, facial, and face products, respectively: ', model6.coef_)\n",
    "#how to plot??"
   ]
  },
  {
   "cell_type": "markdown",
   "id": "df4a587e",
   "metadata": {},
   "source": [
    "## Linear regression with rank as outcome and skin types as predictors"
   ]
  },
  {
   "cell_type": "code",
   "execution_count": null,
   "id": "0b2f5cb6",
   "metadata": {
    "tags": []
   },
   "outputs": [],
   "source": [
    "#Regress rank on Skin-types\n",
    "mod = smf.ols(formula='rank ~ normal+  oily + combination + dry + sensitive + full + natural + matte + light + radiant', data=skin)\n",
    "\n",
    "results = mod.fit()\n",
    "\n",
    "print('OLS Results: Regress Rank on Skin-types' )\n",
    "print('\\n')\n",
    "print(results.summary())"
   ]
  },
  {
   "cell_type": "markdown",
   "id": "7077e53a",
   "metadata": {},
   "source": [
    "On average, skin products for normal skin have a 0.258 unit higher ranking than products that are not for normal skin. With a p-value of .009, this is a statistically significant finding. "
   ]
  },
  {
   "cell_type": "markdown",
   "id": "35175403",
   "metadata": {},
   "source": [
    "## Linear regression with price as outcome and skin types as predictors"
   ]
  },
  {
   "cell_type": "code",
   "execution_count": null,
   "id": "62e06039",
   "metadata": {},
   "outputs": [],
   "source": [
    "# Regress price on Skin-types\n",
    "mod = smf.ols(formula='price ~ normal+  oily + combination + dry + sensitive + full + natural + matte + light + radiant', data=skin)\n",
    "\n",
    "results = mod.fit()\n",
    "\n",
    "print('OLS Results: Regress Price on Skin-types' )\n",
    "print('\\n')\n",
    "print(results.summary())"
   ]
  },
  {
   "cell_type": "markdown",
   "id": "ae668625",
   "metadata": {},
   "source": [
    "On average, skin products for normal skin have a $17.96 higher prices than products that are not for normal skin. With a p-value of .011, this is a statistically significant finding.\n",
    "\n",
    "On average, skin products for combination skin have a $18.76 lower prices than products that are not for combination skin. With a p-value of .010, this is a statistically significant finding.\n",
    "\n",
    "On average, skin products for dry skin have a $13.30 higher prices than products that are not for dry skin. With a p-value of .006, this is a statistically significant finding.\n",
    "\n",
    "On average, skin products for sensitive skin have a $6.55 lower prices than products that are not for sensitive skin. With a p-value of .042, this is a statistically significant finding.\n"
   ]
  },
  {
   "cell_type": "markdown",
   "id": "1d289a2d",
   "metadata": {},
   "source": [
    "## Linear regression with price as outcome and labels and rank as predictors"
   ]
  },
  {
   "cell_type": "code",
   "execution_count": null,
   "id": "2d4e4173",
   "metadata": {},
   "outputs": [],
   "source": [
    "#price on label and rank\n",
    "#took face label out to avoid multicolliearity\n",
    "mod = smf.ols(formula='price ~ rank + eye + moisturizing + sunscreen + cleanser + facial ', data=skin)\n",
    "\n",
    "results = mod.fit()\n",
    "\n",
    "print('OLS Results: Regress Price on Rank and Product Labels' )\n",
    "print('\\n')\n",
    "print(results.summary())"
   ]
  },
  {
   "cell_type": "markdown",
   "id": "377791a7",
   "metadata": {},
   "source": [
    "On average, eye products, moisturizers, and facial product have a \\\\$19.43, \\\\$25.11, and \\\\$32.24 higher prices relative to face product prices, repectively. These are all a statistically significant findings with p-values equal to 0.\n",
    "\n",
    "On average, cleansers have a $8.96 lower price relative to face product prices. With a p-value of .009, this result is statistically significant. \n"
   ]
  },
  {
   "cell_type": "code",
   "execution_count": null,
   "id": "6b1a45e7",
   "metadata": {},
   "outputs": [],
   "source": [
    "#plot x= rank y= price by label\n",
    "sns.lmplot(x='rank', y='price', data=skin, hue='label', legend_out=False)\n",
    "plt.title ('Rank and Price by Product Label')\n",
    "plt.xlabel('Rank')\n",
    "plt.ylabel('Price')\n",
    "plt.tight_layout()\n",
    "plt.legend(loc='best')\n",
    "\n",
    "plt.show()"
   ]
  },
  {
   "cell_type": "markdown",
   "id": "775d2214",
   "metadata": {},
   "source": [
    "As you can see, this also does not look that pretty. It'd be better to at least keep the price as the predictor and rank as the outcome"
   ]
  },
  {
   "cell_type": "markdown",
   "id": "b641917a",
   "metadata": {},
   "source": [
    "******\n",
    "## Product Recommendations "
   ]
  },
  {
   "cell_type": "code",
   "execution_count": null,
   "id": "1f318617",
   "metadata": {},
   "outputs": [],
   "source": [
    "moisturizing = skin[skin['label']=='moisturizing'].reset_index(drop=True)\n",
    "cleanser = skin[skin['label']=='cleanser'].reset_index(drop=True)\n",
    "facial = skin[skin['label']=='facial'].reset_index(drop=True)\n",
    "face = skin[skin['label']=='face'].reset_index(drop=True)\n",
    "eye = skin[skin['label']=='eye'].reset_index(drop=True)\n",
    "sunscreen = skin[skin['label']=='sunscreen'].reset_index(drop=True)"
   ]
  },
  {
   "cell_type": "code",
   "execution_count": null,
   "id": "2e7e4553",
   "metadata": {},
   "outputs": [],
   "source": [
    "fivestar_moisturizing= moisturizing[moisturizing['rank']==5].reset_index(drop=True)\n",
    "fivestar_cleanser= cleanser[cleanser['rank']==5].reset_index(drop=True)\n",
    "fivestar_facial= facial[facial['rank']==5].reset_index(drop=True)\n",
    "fivestar_face= face[face['rank']==5].reset_index(drop=True)\n",
    "fivestar_eye= eye[eye['rank']==5].reset_index(drop=True)\n",
    "fivestar_sunscreen= sunscreen[sunscreen['rank']==5].reset_index(drop=True)\n",
    "\n"
   ]
  },
  {
   "cell_type": "code",
   "execution_count": null,
   "id": "5e90cc96",
   "metadata": {},
   "outputs": [],
   "source": [
    "#create function that recommends best rated budget\n",
    "def recommend(df, label):\n",
    "    \"\"\"\n",
    "    This function recommends best rated budget for a given type of product (label)\n",
    "    Parameters: \n",
    "    df is a data frame that contains products (of the same label) with attributes name, brand, rank, and price\n",
    "    label is a string that described the type of products to look at\n",
    "    \"\"\"\n",
    "    min_price= df['price'].min()\n",
    "\n",
    "    index= df.price.idxmin()\n",
    "    print('The best rated budget ' + label+ ' is '+ df.brand[index] +'\\'s ' + df.name[index]+ '. It costs $'+ str(min_price)) \n",
    "    \n",
    "    \n"
   ]
  },
  {
   "cell_type": "code",
   "execution_count": null,
   "id": "ff3148f3",
   "metadata": {},
   "outputs": [],
   "source": [
    "recommend(fivestar_moisturizing, 'moisturizer')\n",
    "recommend(fivestar_cleanser, 'cleanser')\n",
    "recommend(fivestar_facial, 'facial product')\n",
    "recommend(fivestar_face, 'face product')\n",
    "recommend(fivestar_eye, 'eye product')\n",
    "recommend(fivestar_sunscreen, 'sunscreen')\n",
    "\n"
   ]
  },
  {
   "cell_type": "markdown",
   "id": "f19fe856",
   "metadata": {},
   "source": [
    "******\n",
    "## Interpretation and Conclusions "
   ]
  },
  {
   "cell_type": "markdown",
   "id": "131b52c9",
   "metadata": {},
   "source": [
    "The results from our analysis of the `skin` dataset are very interesting and can explain a lot about the market for skincare. To be clear, ranking and rating are analogous and will be used interchangeably in our interpretations. In our first pre-registered analysis, we wanted to see whether high-end products have significantly different ratings than drugstore/mid-priced items. After performing a t-test of mean rankings, we found a p-value of .986, which is greater than our .05 significance level, so we fail to reject the null hypothesis that there is no significant difference in rankings. This result matches our initial predictions, and we are confident in this result. We did not expect to see a clear distinction between price and rating, since drugstore and mid-price items often have as good or even better performance on the skin. Moreover, the demographics of the consumers may also vary based on social-economic status, attributing to their different needs in skincare. Normally, “high-end” skin care products are marketed for the name-brand reputation, but do not produce significantly better results than lower priced products. To follow-up our t-test, we carried out a linear regression where we regressed rank on price. The coefficient value -0.0004 tells us that on average for every \\$1 increase in a product's price, the rank of that product decreases by 0.0004 units, ceteris paribus. This coefficient has a p-value of 0.288, which means it is not statistically significant at the .05 level. One reason why this model was not statistically significant is because this prediction of rank was solely based on price; however, there are many other factors that could affect a product’s ranking, such as skin type, other people’s and reviewers’ opinions, duration of use, and ingredients, to name a few. Later on in our analysis we take a look at a few of these other possible factors. \n",
    "\n",
    "Our second pre-registered analysis looked at products containing parabens, a harmful ingredient found in many cosmetic products, and their effect on a product’s price and rankings. We looked at two linear regression models to determine parabens’ effects. Our first linear regression regressed price on whether a product contains parabens. We added additional controls of ranking and skin-type dummy variables to reduce the effect of omitted variable bias. The coefficient on containing parabens was 25.93 with a p-value of 0. This means that on average, a product that contains parabens has a price $25.93 greater than a product that does not contain parabens in its ingredient list, ceteris paribus. This result is statistically significant indicated by the p-value. Our 2nd linear regression looked at ranking as the outcome variable, with parabens as the main independent variable and adding additional controls of price and skin-type dummy variables. The coefficient on containing parabens was -0.0795 with a p-value of 0.235. This means that on average, a product that contains parabens has a ranking of 0.0795 units lower than a product that does not contain parabens. However, this result is not statistically significant.It is interesting that the existence of  parabens has a significant effect on a product's price but not on its ranking. This could be because rankings are a more subjective measurement as they are simply people’s own opinions on a product. Also, parabens may not show an effect on ratings by reviewers since its negative effects, such as increase risk of breast cancer, is a long-term effect through years of use and is not something that can be noticed immediately unlike breakout, redness, or allergic reactions. Whereas, pricing a product is a methodical procedure by a company. It could be that if a company uses parabens in their products, they advertise their product as longer lasting (a benefit to using parabens), and perhaps people will be willing to spend more money on what they think is ‘better’ products. Also, it’s possible that people who use products with parabens in it do not recognize that their products contain parabens so they are willing to pay whatever the market price is for that product. Companies may even charge more for paraben-containing products to cover the risk of selling products with harmful ingredients. \n",
    "\n",
    "Aside from our pre-registered analyses, we carried out more analyses to examine how parabens, price, rating, skin-type, and product labelling can affect a product’s success. We executed a linear regression model to determine the relationship between price of a product and whether it contains parabens. From our findings, it appears to be the case that price is not strongly correlated with other variables. This may be due to the nature of the cosmetic and skincare industry. As cosmetics have grown in popularity, many users, especially women, prefer to use  products which are handy and easy to use while travelling. Many women may also be willing to pay more money for products that are hypoallergenic. In addition, the use of natural ingredients that don’t harm the skin is a popular strategy of manufacturers. This could be one reason why rank is not strongly correlated with price.\n",
    "\n",
    "Next, we executed 2 train-test splits (test sizes of 20%) to evaluate the performance of our training set on predicting whether a product contains parabens based on the price of the products and based on rank. Both models, predict parabens based on price and based on rank, had very high prediction accuracies of 93.5% and 94.7%, respectively. We are not confident in these results for a few reasons. Although this is a very high accuracy, we must keep in mind that a small proportion of our products actually contain parabens. This might mean that there is not a sufficient number of datapoints with parabens, and therefore there is not actually enough data in the test set to properly evaluate the model performance. In terms of the bigger picture, both our train and test datasets are most likely not suitable representations of the problem domain.\n",
    "\n",
    "Earlier in our analysis, we performed a linear regression model, specifically a linear probability model using the binary variable `contains_parabens` as the dependent variable. We showed that a linear model is not the most suitable model to examine this outcome variable. Therefore, we conducted 2 logistic regressions to predict the likelihood of a product containing parabens given its price and given its rank. We found that as price increases, the probability that the product will contain parabens also increases. Conversely, as the rank increases, the probability that the product will contain parabens decreases. Our analysis and supporting scatter plot show that while there are these trends, the likelihood that a product contains parabens based on these factors is relatively low (mostly ranging from 4-10% chance). These results are justifiable because it could be that most products that contain parabens have higher prices on average (as we determined above), so this same relationship could hold looking at it the other way around. Another explanation as to why paraben likelihood and rank are inversely related is that people who are conscious of the ingredients in their products may be more cognizant on how products work and are more biased towards products that don’t contain parabens, so they rank those products higher. The overall estimated probabilities of a product containing parabens is very reasonable because many companies and consumers are becoming more aware of the harmful effects of parabens relating to health. Even in our dataset, there is only a small subset of products that contain parabens, so it is believable that this small likelihood result is very close to the true proportion of products on the market that contain parabens. \n",
    "\n",
    "To further understand how parabens relate to a product’s price and rank, we conducted t-tests to see if there was a significant difference in mean price and mean rank between products that with and without parabens.  The p value for the difference in mean t-test is 0.0002557. Since our P value is less than our significant level of 0.05, we reject the null hypothesis and accept the alternative hypothesis. In other words, there is a statistically significant difference between the mean price of products with and without parabens. In order to get an even better sense of whether there is truly a significant difference in the rank and price of products with and without parabens, we decided to do a bootstrap resampling and recalculate the p-value using our new sample. We resampled our data with replacement 10000 times to get a sense of what our data might have looked like if we looked at a wider range of similar products. The bootstrap resampling gave similar results with a low p-value of 3.169e-09. We are confident in this conclusion because despite having a small subset of paraben-containing products to begin with, we still got similar results after resampling. There must be something about parabens that causes prices of products to be higher. As mentioned above, perhaps there is a small amount of risk that needs to be covered or maybe parabens are more costly to include in products because they have to pass quality assurance checks. We would be interested in looking further at this relationship. \n",
    "\n",
    "We wanted to go one step further to better understand which types of products this difference in price is most significant. We therefore decided to subset our data and perform the hypothesis test on each label category, to see whether there is a significant difference in price for products with and without parabens. The product labels that yielded statistically significant results were moisturizers and face-products. The face-products are made up of face masks for your skin. The other products labels tested were facial, sunscreen, cleanser, and eye. A possible explanation for this difference is that moisturizers and face masks are expected to have a long preservation life. People keep the same moisturizers for months on end. Additionally, face masks are only meant to be worn once a week, so it could take someone a while to get through their pack of face masks. Therefore, whether these products have parabens in them or not may have a large impact on their price relative to the other product categories. \n",
    "\n",
    "Finally, we did many multiple regression models to see if there were any underlying or hidden relationships between our variables of interest relating to skin care products. We found that on average, skin products for normal skin have a 0.258 unit higher ranking than products that are no for normal skin. With a p-value of .009, this is a statistically significant finding. This result makes sense because people with ‘normal’ skin will likely have the least amount of problems/bad experiences with their skin products compared to people with different skin types. It’s important to note that this is a pretty large difference in ranking and it’s based solely on how a company markets their products. If companies recognize that marketing their products for ‘normal’ skin will result in a higher review ranking, then that might stifle innovation within the skincare industry. Companies may just want to grow their reputation and increase their ratings, so they will care less about creating products that work with more problematic skin-types. Alternatively, companies could just market all of their products for ‘normal’ skin even if not all products are. This could bring about problems of lying and deception by companies.     \n"
   ]
  },
  {
   "cell_type": "markdown",
   "id": "bc790d30",
   "metadata": {},
   "source": [
    "*******\n",
    "## Limitations \n",
    "\n",
    "#### Sephora Data Set (Data set 1)\n",
    "- Since data was web scraped by someone else, the creators of the data set could have excluded some data instances or columns. This could lead to an inaccurate analysis. To accommodate for this, we plan to use multiple data sets to ensure a broader scope\n",
    "- Some of the instances have 2 values in the ‘price’ column. This makes it difficult for us to determine which value is the true price. To account for this, we manually looked through the Sephora website and decided to remove the second value in the columns where there are 2 values, as it appears that the first value is the accurate price.\n",
    "- Not representative of all cosmetic products, only the products sold at Sephora. For instance, Sephora does not carry drugstore products but only the more high-end products. To work around this limitation, we have decided to include a new dataset: products sold on Ulta Beauty's website, which sells a wider variety of products including drug store products. We will combine these 2 datasets to get a more accurate range of skincare products.\n",
    "- The `Rank` column may be skewed because it is an aggregate of reviews. So while a product may receive mostly 5s, a few 1s may cause the mean rank to go down to a 4. We do not know the distributions of the reviews for each product as a result.  \n",
    "- From 2018, so prices and product variety may have changed or have been discontinued since then. To work around this, we have data scraped from the Ulta Beauty website which includes entries from 2021. By combining these datasets, we now have products from more recent years as well as previous years.\n",
    "\n",
    "#### General\n",
    "- We notice in both data sets the subsets of products that contains parabens is a very small fraction of total products (90/1600 for Sephora). Therefore, any analysis focusing on that subset may be skewed. For example, the prediction accuracies in the Train-test split models were really high, which may have been caused by the small sample of parabens. This is representative of the entire skincare market as we have seen trends away from paraben use in products, where this exclusion is even marketed on the products themselves. \n",
    "- We might not be able to make generalizations and/or recommendations, since both data sets contain a small sample of all skincare products sold. Therefore, in data analysis write up, we plan to explain that generalizations cannot be made for ALL skincare products, since this is just a small sample of all skincare products available. \n",
    "- Not every customer writes reviews, so the reviews may be generally biased toward consumers who either really liked or disliked the product. This may make our datasets slightly biased. \n",
    "- While websites like Sephora and Ulta try to maintain accuracy with product ingredients, there exists disclaimers on Ulta’s ingredient section that discuss how ingredients may always be changing since formulations are updates to the product may be constantly made. To have the most accurate ingredient list, one must refer to the ingredient list on the product bottle, but it is not feasible for us to buy all the products. The ingredient list we have, therefore, may sometimes not be the most updated, but is the best that Ulta can provide.  \n",
    "- For the data values we used in our project collectively, a limitation is the variation in product size. While we removed travel size and mini size products from the Ulta dataset to try to keep the data in reference to full size products, every brand has a different idea of full size products. There exists variations in the size of the product and therefore price does not tell the full story of price per volume/fluid ounce of product. \n"
   ]
  },
  {
   "cell_type": "markdown",
   "id": "f0a636f8",
   "metadata": {},
   "source": [
    "***\n",
    "## Source Code"
   ]
  },
  {
   "cell_type": "markdown",
   "id": "f6f6f589",
   "metadata": {},
   "source": [
    "[Link](https://github.com/elitagao/info2950) to our Github Repository."
   ]
  },
  {
   "cell_type": "markdown",
   "id": "9c3feef6",
   "metadata": {},
   "source": [
    "****\n",
    "## Acknowledgments"
   ]
  },
  {
   "cell_type": "markdown",
   "id": "11cda7e4",
   "metadata": {},
   "source": [
    "- Professor Wilkens's lectures and code from 2/8/21 to 4/28/21\n",
    "- [Github for Sephora dataset](https://github.com/jjone36/Cosmetic)\n",
    "- We used Github user Jiwon Jeong [code](https://github.com/jjone36/Cosmetic/blob/master/01.scraping.py) to help with webscraping our Ulta dataset.   \n",
    "- Linear Regression Stats Model package [use](https://www.statsmodels.org/devel/example_formulas.html)\n",
    "- [Cosmetics Market by Category (Skin and Sun Care Products, Hair Care Products, Deodorants & Fragrances, and Makeup & Color Cosmetics), Gender (Men, Women, and Unisex), and Distribution Channel (Hypermarkets/Supermarkets, Specialty Stores, Pharmacies, Online Sales Channels, and Others): Global Opportunity Analysis and Industry Forecast, 2021–2027](https://www.alliedmarketresearch.com/cosmetics-market?fbclid=IwAR1UouZUi_TrjVzLgHLwT8ieSIXLvi2F16W-HSojZRRrmphNrVUXqUxYK0o)\n",
    "- [Selenium Tutorial for Beginners Youtube](https://www.youtube.com/watch?v=5FUdrBq-WFo&ab_channel=edureka%21)\n",
    "- [Webscrape dynamic contents with Selenium](https://www.youtube.com/watch?v=O--WVte1WhU&t=506s&ab_channel=JinsuhLee)\n",
    "- [Ulta Face Moisturizer Page](https://www.ulta.com/skin-care-face-moisturizer?N=27h9)\n",
    "- [Levene Test](https://www.spss-tutorials.com/levenes-test-in-spss/)\n",
    "- Stack Overflow:\n",
    "    - [How to loop through only li elements inside a ul](https://stackoverflow.com/questions/47436151/how-to-loop-through-only-li-elements-inside-a-ul)\n",
    "    - [Web scraping: how extract the text (names) in the hyperlinks in a web page?](https://stackoverflow.com/questions/24187470/web-scraping-how-extract-the-text-names-in-the-hyperlinks-in-a-web-page)\n",
    "    - [selenium python verify the element is not present](https://stackoverflow.com/questions/43528229/selenium-python-verify-the-element-is-not-present)\n",
    "- [Trends away from parabens](https://knowledge.ulprospector.com/5560/pcc-paraben-alternatives-industry-analytics/)"
   ]
  },
  {
   "cell_type": "markdown",
   "id": "2993234d",
   "metadata": {},
   "source": [
    "****\n",
    "## Appendix: Data cleaning description"
   ]
  },
  {
   "cell_type": "markdown",
   "id": "022e4ae9",
   "metadata": {},
   "source": [
    "- Notebook to clean Sephora Data (dataset 1): `clean_sephora.ipynb`\n",
    "- Notebook to Webscrape Ulta Data (dataset 2): `Ulta_WebScraping.ipynb`\n",
    "- Notebook to combine Ulta data: `combine_ulta_csv.ipynb`\n",
    "- Notebook to merge Ulta data with Sephora data: `ulta_dataset_use.ipynb`"
   ]
  },
  {
   "cell_type": "markdown",
   "id": "0226edac",
   "metadata": {},
   "source": [
    "****\n",
    "## Note for Reviewers"
   ]
  },
  {
   "cell_type": "markdown",
   "id": "2e8cf24c",
   "metadata": {},
   "source": [
    "In Phase 4, we primarily focused on our first dataset (Sephora) and executed analyses for that. In our next steps, we plan to combine elements of Sephora and Ulta datasets. In addition, we will address our second research question relating to ingredients for acne-type skin and whether that correlates with price and/or rank. "
   ]
  },
  {
   "cell_type": "markdown",
   "id": "235e3898",
   "metadata": {},
   "source": [
    "****\n",
    "## Other Appendices"
   ]
  },
  {
   "cell_type": "markdown",
   "id": "60bf7d39",
   "metadata": {},
   "source": [
    "\n",
    "### Data cleaning and summary for dataset we did not end up using in main analysis"
   ]
  },
  {
   "cell_type": "markdown",
   "id": "e8c1daa1",
   "metadata": {},
   "source": [
    "Imported raw data, \"00. InfoProduct.csv\", into notebook. Data downloaded from Kaggle.com."
   ]
  },
  {
   "cell_type": "code",
   "execution_count": null,
   "id": "bcc5fb7c",
   "metadata": {},
   "outputs": [],
   "source": [
    "raw1 = pd.read_csv(\"00. InfoProduct.csv\")"
   ]
  },
  {
   "cell_type": "markdown",
   "id": "ba65a2ff",
   "metadata": {},
   "source": [
    "The following cell cleans the `raw1` data. \n",
    "1. We drop the 'Reviewer' column as the identifier for each reviewer is not relevant for our data analysis.\n",
    "2. We put all of the column names in lowercase letters to make it easier to refer to specific columns for future analysis.\n",
    "3. We changed the 'Price' column's currency from Indonesian Rupiah (RP) to USD. We do this by finding the exchange rate and muliplying that rate by every row in that column. \n",
    "4. Renamed 'merk' column to 'brand' since merk in Indonesian translates to brand in English, and renamed 'overallrating' to 'rating'"
   ]
  },
  {
   "cell_type": "code",
   "execution_count": null,
   "id": "0ac56c80",
   "metadata": {},
   "outputs": [],
   "source": [
    "# 1. Drop \"Reviewer\" column\n",
    "raw1=raw1.drop(['Reviewer'], axis=1)\n",
    "\n",
    "# 2. lowercase column titles\n",
    "new_colnames = [i.lower() for i in raw1.columns]\n",
    "raw1=raw1.copy()\n",
    "raw1.columns=new_colnames\n",
    "\n",
    "# 3. Price: Rp --> USD\n",
    "raw1['price'] = raw1['price'].str.replace('Rp.', '')\n",
    "raw1['price'] = raw1['price'].str.replace('.','')\n",
    "raw1['price'] = raw1['price'].astype(float)\n",
    "raw1[\"price\"] = 0.00007 * raw1[\"price\"]\n",
    "\n",
    "# 4. rename merk --> brand, overallrating --> rating\n",
    "raw1 = raw1.rename(columns = {\"merk\" : \"brand\"})\n",
    "raw1 = raw1.rename(columns = {\"overallrating\" : \"rating\"})\n",
    "raw1.head()"
   ]
  },
  {
   "cell_type": "markdown",
   "id": "67efdddb",
   "metadata": {},
   "source": [
    "In the next cell we find the average ratings grouped by brand. "
   ]
  },
  {
   "cell_type": "code",
   "execution_count": null,
   "id": "dc6014ac",
   "metadata": {},
   "outputs": [],
   "source": [
    "#groupby avg rating by brand\n",
    "brands_group=raw1.groupby('brand')['rating'].mean()\n",
    "print(brands_group)\n"
   ]
  },
  {
   "cell_type": "markdown",
   "id": "9d100335",
   "metadata": {},
   "source": [
    "Now, we create a scatter plot to look at the relationship between rating and price of a product. We notice 2 distinct outliers (one around price= 3,600 and one around price=4,600) that makes our scatter plot not very useful in showing the relationship of interest. We fix this in the next cell."
   ]
  },
  {
   "cell_type": "code",
   "execution_count": null,
   "id": "36885518",
   "metadata": {},
   "outputs": [],
   "source": [
    "plt.scatter(x=raw1['rating'],y=raw1[\"price\"], alpha=0.3)\n",
    "plt.xlabel('Rating')\n",
    "plt.ylabel('Price')\n",
    "plt.title('Price by Rating')\n",
    "plt.show()"
   ]
  },
  {
   "cell_type": "markdown",
   "id": "dede5284",
   "metadata": {},
   "source": [
    "We want to look at low-priced and drugstore skin products since the average customer would be interested in better understanding this subset of products. This would also help our scatter plot be more informative since we are taking out the outliers. We use the next print statement to make sure we are not taking out a large portion of our sample."
   ]
  },
  {
   "cell_type": "code",
   "execution_count": null,
   "id": "9cb10bba",
   "metadata": {},
   "outputs": [],
   "source": [
    "print(raw1.loc[raw1.price >=50])"
   ]
  },
  {
   "cell_type": "markdown",
   "id": "ecaa87fe",
   "metadata": {},
   "source": [
    "Now, we make a new dataframe `skincare_subset` that has keeps only the subset of products that cost 50 USD or less. Next, we redid the scatter plot with the new subset. Ratings are skewed toward the right, and higher ratings do not indicate higher prices, but the products with higher prices generally land in the 4-rating range, with an outlier with the rating of 2."
   ]
  },
  {
   "cell_type": "code",
   "execution_count": null,
   "id": "aea88082",
   "metadata": {
    "scrolled": true
   },
   "outputs": [],
   "source": [
    "skincare_subset=raw1.loc[(raw1['price']<=50)]\n",
    "plt.scatter(x=skincare_subset['rating'],y=skincare_subset[\"price\"], alpha=0.3)\n",
    "plt.xlabel('Rating')\n",
    "plt.ylabel('Price')\n",
    "plt.title('Price by Rating')\n",
    "plt.show()"
   ]
  },
  {
   "cell_type": "markdown",
   "id": "22a7dbf1",
   "metadata": {},
   "source": [
    "We looked at the unique categories of skin products that we had in our dataset and realized some of them were not for the skin. The next few cells create a new dataframe `skincare_subset2` that removes the following categories from our dataset: 'Eye Treatment', 'Brow & Lash Treatment', 'Peeling', 'Nose Pack', and 'Wash-Off'"
   ]
  },
  {
   "cell_type": "code",
   "execution_count": null,
   "id": "4b6b07e4",
   "metadata": {},
   "outputs": [],
   "source": [
    "#look at unique categories\n",
    "print(skincare_subset.category.unique() )"
   ]
  },
  {
   "cell_type": "code",
   "execution_count": null,
   "id": "3114fc28",
   "metadata": {},
   "outputs": [],
   "source": [
    "#new subset with only face-specific categories\n",
    "skincare_subset2=skincare_subset.loc[(skincare_subset['category']!= 'Eye Treatment') & (skincare_subset['category']!='Brow & Lash Treatment')& (skincare_subset['category']!='Peeling')& (skincare_subset['category']!='Nose Pack')& (skincare_subset['category']!='Wash-Off')]"
   ]
  },
  {
   "cell_type": "code",
   "execution_count": null,
   "id": "50747da2",
   "metadata": {
    "scrolled": true
   },
   "outputs": [],
   "source": [
    "#Confirm that categories were removed\n",
    "print(skincare_subset2.category.unique())"
   ]
  },
  {
   "cell_type": "markdown",
   "id": "4e817ab0",
   "metadata": {},
   "source": [
    "We check the number of product entries that are $0 in the 'price' column within skincare_subset2:"
   ]
  },
  {
   "cell_type": "code",
   "execution_count": null,
   "id": "295ff7d3",
   "metadata": {},
   "outputs": [],
   "source": [
    "print(len(skincare_subset2.loc[(skincare_subset2['price']==0)])) #number of 0s in 'price'"
   ]
  },
  {
   "cell_type": "markdown",
   "id": "ea6433f1",
   "metadata": {},
   "source": [
    "As you can see, there are 39 product entries that are $0, making the data skewed toward the left. <br>Here we remove prices that are 0 so that the data is not left-skewed:"
   ]
  },
  {
   "cell_type": "code",
   "execution_count": null,
   "id": "619b97cc",
   "metadata": {},
   "outputs": [],
   "source": [
    "#Remove Prices that are $0\n",
    "price_subset = skincare_subset2.copy()\n",
    "price_subset=price_subset.loc[(price_subset['price']!=0)]"
   ]
  },
  {
   "cell_type": "markdown",
   "id": "746cdd2b",
   "metadata": {},
   "source": [
    "We redid the scatter plot with the price_subset. Not much looks different from the previous scatter plot before we removed the 0s."
   ]
  },
  {
   "cell_type": "code",
   "execution_count": null,
   "id": "13c2d0b9",
   "metadata": {},
   "outputs": [],
   "source": [
    "plt.scatter(x=price_subset['rating'],y=price_subset[\"price\"], alpha=0.3)\n",
    "plt.xlabel('Rating')\n",
    "plt.ylabel('Price')\n",
    "plt.title('Price by Rating')\n",
    "plt.show()"
   ]
  },
  {
   "cell_type": "markdown",
   "id": "daec2790",
   "metadata": {},
   "source": [
    "This box plot looks at price by category. Most of the data is left-skewed with some tails toward the higher prices such as Emulsion and Oil. Oil and Sleeping Mask are generally higher with higher median prices. Mask Sheet has a small distribution of prices."
   ]
  },
  {
   "cell_type": "code",
   "execution_count": null,
   "id": "7547240e",
   "metadata": {
    "scrolled": true
   },
   "outputs": [],
   "source": [
    "#Price by Category\n",
    "plot=skincare_subset2.boxplot('price', by='category', rot=90)\n",
    "plt.xlabel('Category')\n",
    "plt.ylabel('Price')\n",
    "plt.title('Price by Category')\n",
    "plt.suptitle('')\n",
    "plt.show()"
   ]
  },
  {
   "cell_type": "markdown",
   "id": "bd2dfb94",
   "metadata": {},
   "source": [
    "This box plot looks at rating by category. All of the categories have median ratings either directly above or below 4.0. Mask sheet has the highest median while Day Cream has the lowest. There are no significant outliers."
   ]
  },
  {
   "cell_type": "code",
   "execution_count": null,
   "id": "2da6769b",
   "metadata": {
    "scrolled": true
   },
   "outputs": [],
   "source": [
    "#Rating by Category\n",
    "plot=skincare_subset2.boxplot('rating', by='category', rot=90)\n",
    "plt.xlabel('Category')\n",
    "plt.ylabel('Rating')\n",
    "plt.title('Rating by Category')\n",
    "plt.suptitle('')\n",
    "plt.show()"
   ]
  },
  {
   "cell_type": "markdown",
   "id": "f95b4b36",
   "metadata": {},
   "source": [
    "Here the summary statistics of our cleaned data:"
   ]
  },
  {
   "cell_type": "code",
   "execution_count": null,
   "id": "a8657a60",
   "metadata": {},
   "outputs": [],
   "source": [
    "price_subset.describe()"
   ]
  },
  {
   "cell_type": "markdown",
   "id": "80bd3c6b",
   "metadata": {},
   "source": [
    "These are the average ratings by category:"
   ]
  },
  {
   "cell_type": "code",
   "execution_count": null,
   "id": "c41b2560",
   "metadata": {
    "scrolled": true
   },
   "outputs": [],
   "source": [
    "skincare_subset2.groupby(['category'])['rating'].mean()"
   ]
  },
  {
   "cell_type": "markdown",
   "id": "00634b8b",
   "metadata": {},
   "source": [
    "These are the average prices per category:"
   ]
  },
  {
   "cell_type": "code",
   "execution_count": null,
   "id": "e0ea437d",
   "metadata": {
    "scrolled": true
   },
   "outputs": [],
   "source": [
    "price_subset.groupby(['category'])['price'].mean()"
   ]
  },
  {
   "cell_type": "markdown",
   "id": "d739db0f",
   "metadata": {},
   "source": [
    "These are the average ratings by brand:"
   ]
  },
  {
   "cell_type": "code",
   "execution_count": null,
   "id": "c3b06e5d",
   "metadata": {
    "scrolled": true
   },
   "outputs": [],
   "source": [
    "skincare_subset2.groupby(['brand'])['rating'].mean()"
   ]
  },
  {
   "cell_type": "markdown",
   "id": "31637a75",
   "metadata": {},
   "source": [
    "These are the average prices by brand:"
   ]
  },
  {
   "cell_type": "code",
   "execution_count": null,
   "id": "05944b89",
   "metadata": {
    "scrolled": true
   },
   "outputs": [],
   "source": [
    "price_subset.groupby(['brand'])['price'].mean()"
   ]
  }
 ],
 "metadata": {
  "kernelspec": {
   "display_name": "Python 3",
   "language": "python",
   "name": "python3"
  },
  "language_info": {
   "codemirror_mode": {
    "name": "ipython",
    "version": 3
   },
   "file_extension": ".py",
   "mimetype": "text/x-python",
   "name": "python",
   "nbconvert_exporter": "python",
   "pygments_lexer": "ipython3",
   "version": "3.6.5"
  }
 },
 "nbformat": 4,
 "nbformat_minor": 5
}
