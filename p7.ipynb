{
 "cells": [
  {
   "cell_type": "code",
   "execution_count": 1,
   "metadata": {},
   "outputs": [],
   "source": [
    "import pandas as pd\n",
    "from selenium import webdriver\n",
    "from selenium.common.exceptions import NoSuchElementException \n",
    "import numpy as np"
   ]
  },
  {
   "cell_type": "code",
   "execution_count": 2,
   "metadata": {},
   "outputs": [],
   "source": [
    "### Links for each page of Face Moisturizer \n",
    "\n",
    "# driver.get('https://www.ulta.com/skin-care-face-moisturizer?N=27h9')\n",
    "# driver.get('https://www.ulta.com/skin-care-face-moisturizer?N=27h9&No=96&Nrpp=96')\n",
    "# driver.get('https://www.ulta.com/skin-care-face-moisturizer?N=27h9&No=192&Nrpp=96')\n",
    "# driver.get('https://www.ulta.com/skin-care-face-moisturizer?N=27h9&No=288&Nrpp=96') \n",
    "# driver.get('https://www.ulta.com/skin-care-face-moisturizer?N=27h9&No=384&Nrpp=96') \n",
    "# driver.get(https://www.ulta.com/skin-care-face-moisturizer?N=27h9&No=480&Nrpp=96') \n"
   ]
  },
  {
   "cell_type": "code",
   "execution_count": 3,
   "metadata": {},
   "outputs": [],
   "source": [
    "### Get Chrome Driver Path \n",
    "path = r\"C:\\Users\\avach\\Downloads\\clone\\info2950\\chromedriver.exe\" \n",
    "driver = webdriver.Chrome(path) \n",
    "\n",
    "### Open Ulta Moisturizer Site\n",
    "driver.get('https://www.ulta.com/skin-care-face-moisturizer?N=27h9&No=576&Nrpp=96') \n",
    "\n",
    "\n"
   ]
  },
  {
   "cell_type": "code",
   "execution_count": 4,
   "metadata": {},
   "outputs": [],
   "source": [
    "all_prod = driver.find_element_by_xpath('//*[@id=\"product-category-cont\"]')\n",
    "\n",
    "html_list = all_prod.find_element_by_id(\"foo16\")\n",
    "all_li = html_list.find_elements_by_tag_name(\"li\")\n",
    "\n",
    "product_name = []\n",
    "subpageurl = []\n",
    "\n",
    "\n",
    "#append links for products to subpageurl list\n",
    "for li in all_li: \n",
    "    first_atag = li.find_element_by_tag_name('a')\n",
    "    product_links= first_atag.get_attribute('href')\n",
    "    \n",
    "#popup link, got rid of it \n",
    "    if product_links != 'http://www.ulta.com/ulta/creditcards/landingpage.jsp':\n",
    "        subpageurl.append(product_links)\n",
    "        \n",
    "#get name of hyperlink, not actual link \n",
    "\n",
    "#https://sqa.stackexchange.com/questions/37024/how-do-i-get-the-text-of-a-hyperlink-not-the-actual-link-using-selenium-and-py (innerlink source)\n",
    "        cut_text = first_atag.get_attribute('innerHTML')\n",
    "        find_alt = cut_text.find('alt=\"')\n",
    "        name = cut_text[find_alt+5:]\n",
    "        find_border = name.find('\" border=')\n",
    "        name2 = name[:find_border]\n",
    "        if '+' in name2: \n",
    "            plus = name2.find('+') \n",
    "            name2 = name2[:plus]\n",
    "            \n",
    "        product_name.append(name2)\n",
    "        \n",
    "        \n",
    "    "
   ]
  },
  {
   "cell_type": "code",
   "execution_count": 5,
   "metadata": {},
   "outputs": [],
   "source": [
    "brand_list = []\n",
    "product_list = [] \n",
    "price_list = [] \n",
    "rating_list = []\n",
    "ingredient_list = [] \n"
   ]
  },
  {
   "cell_type": "code",
   "execution_count": 6,
   "metadata": {},
   "outputs": [
    {
     "ename": "TimeoutException",
     "evalue": "Message: timeout: Timed out receiving message from renderer: 298.743\n  (Session info: chrome=89.0.4389.114)\n",
     "output_type": "error",
     "traceback": [
      "\u001b[1;31m---------------------------------------------------------------------------\u001b[0m",
      "\u001b[1;31mTimeoutException\u001b[0m                          Traceback (most recent call last)",
      "\u001b[1;32m<ipython-input-6-52a7bf603ab8>\u001b[0m in \u001b[0;36m<module>\u001b[1;34m()\u001b[0m\n\u001b[0;32m      2\u001b[0m \u001b[1;33m\u001b[0m\u001b[0m\n\u001b[0;32m      3\u001b[0m \u001b[1;32mfor\u001b[0m \u001b[0mlink\u001b[0m \u001b[1;32min\u001b[0m \u001b[0msubpageurl\u001b[0m\u001b[1;33m:\u001b[0m\u001b[1;33m\u001b[0m\u001b[0m\n\u001b[1;32m----> 4\u001b[1;33m     \u001b[0mdriver\u001b[0m\u001b[1;33m.\u001b[0m\u001b[0mget\u001b[0m\u001b[1;33m(\u001b[0m\u001b[0mlink\u001b[0m\u001b[1;33m)\u001b[0m\u001b[1;33m\u001b[0m\u001b[0m\n\u001b[0m\u001b[0;32m      5\u001b[0m \u001b[1;33m\u001b[0m\u001b[0m\n\u001b[0;32m      6\u001b[0m     \u001b[1;31m## Get brand\u001b[0m\u001b[1;33m\u001b[0m\u001b[1;33m\u001b[0m\u001b[0m\n",
      "\u001b[1;32mC:\\ProgramData\\Anaconda3\\lib\\site-packages\\selenium\\webdriver\\remote\\webdriver.py\u001b[0m in \u001b[0;36mget\u001b[1;34m(self, url)\u001b[0m\n\u001b[0;32m    331\u001b[0m         \u001b[0mLoads\u001b[0m \u001b[0ma\u001b[0m \u001b[0mweb\u001b[0m \u001b[0mpage\u001b[0m \u001b[1;32min\u001b[0m \u001b[0mthe\u001b[0m \u001b[0mcurrent\u001b[0m \u001b[0mbrowser\u001b[0m \u001b[0msession\u001b[0m\u001b[1;33m.\u001b[0m\u001b[1;33m\u001b[0m\u001b[0m\n\u001b[0;32m    332\u001b[0m         \"\"\"\n\u001b[1;32m--> 333\u001b[1;33m         \u001b[0mself\u001b[0m\u001b[1;33m.\u001b[0m\u001b[0mexecute\u001b[0m\u001b[1;33m(\u001b[0m\u001b[0mCommand\u001b[0m\u001b[1;33m.\u001b[0m\u001b[0mGET\u001b[0m\u001b[1;33m,\u001b[0m \u001b[1;33m{\u001b[0m\u001b[1;34m'url'\u001b[0m\u001b[1;33m:\u001b[0m \u001b[0murl\u001b[0m\u001b[1;33m}\u001b[0m\u001b[1;33m)\u001b[0m\u001b[1;33m\u001b[0m\u001b[0m\n\u001b[0m\u001b[0;32m    334\u001b[0m \u001b[1;33m\u001b[0m\u001b[0m\n\u001b[0;32m    335\u001b[0m     \u001b[1;33m@\u001b[0m\u001b[0mproperty\u001b[0m\u001b[1;33m\u001b[0m\u001b[0m\n",
      "\u001b[1;32mC:\\ProgramData\\Anaconda3\\lib\\site-packages\\selenium\\webdriver\\remote\\webdriver.py\u001b[0m in \u001b[0;36mexecute\u001b[1;34m(self, driver_command, params)\u001b[0m\n\u001b[0;32m    319\u001b[0m         \u001b[0mresponse\u001b[0m \u001b[1;33m=\u001b[0m \u001b[0mself\u001b[0m\u001b[1;33m.\u001b[0m\u001b[0mcommand_executor\u001b[0m\u001b[1;33m.\u001b[0m\u001b[0mexecute\u001b[0m\u001b[1;33m(\u001b[0m\u001b[0mdriver_command\u001b[0m\u001b[1;33m,\u001b[0m \u001b[0mparams\u001b[0m\u001b[1;33m)\u001b[0m\u001b[1;33m\u001b[0m\u001b[0m\n\u001b[0;32m    320\u001b[0m         \u001b[1;32mif\u001b[0m \u001b[0mresponse\u001b[0m\u001b[1;33m:\u001b[0m\u001b[1;33m\u001b[0m\u001b[0m\n\u001b[1;32m--> 321\u001b[1;33m             \u001b[0mself\u001b[0m\u001b[1;33m.\u001b[0m\u001b[0merror_handler\u001b[0m\u001b[1;33m.\u001b[0m\u001b[0mcheck_response\u001b[0m\u001b[1;33m(\u001b[0m\u001b[0mresponse\u001b[0m\u001b[1;33m)\u001b[0m\u001b[1;33m\u001b[0m\u001b[0m\n\u001b[0m\u001b[0;32m    322\u001b[0m             response['value'] = self._unwrap_value(\n\u001b[0;32m    323\u001b[0m                 response.get('value', None))\n",
      "\u001b[1;32mC:\\ProgramData\\Anaconda3\\lib\\site-packages\\selenium\\webdriver\\remote\\errorhandler.py\u001b[0m in \u001b[0;36mcheck_response\u001b[1;34m(self, response)\u001b[0m\n\u001b[0;32m    240\u001b[0m                 \u001b[0malert_text\u001b[0m \u001b[1;33m=\u001b[0m \u001b[0mvalue\u001b[0m\u001b[1;33m[\u001b[0m\u001b[1;34m'alert'\u001b[0m\u001b[1;33m]\u001b[0m\u001b[1;33m.\u001b[0m\u001b[0mget\u001b[0m\u001b[1;33m(\u001b[0m\u001b[1;34m'text'\u001b[0m\u001b[1;33m)\u001b[0m\u001b[1;33m\u001b[0m\u001b[0m\n\u001b[0;32m    241\u001b[0m             \u001b[1;32mraise\u001b[0m \u001b[0mexception_class\u001b[0m\u001b[1;33m(\u001b[0m\u001b[0mmessage\u001b[0m\u001b[1;33m,\u001b[0m \u001b[0mscreen\u001b[0m\u001b[1;33m,\u001b[0m \u001b[0mstacktrace\u001b[0m\u001b[1;33m,\u001b[0m \u001b[0malert_text\u001b[0m\u001b[1;33m)\u001b[0m\u001b[1;33m\u001b[0m\u001b[0m\n\u001b[1;32m--> 242\u001b[1;33m         \u001b[1;32mraise\u001b[0m \u001b[0mexception_class\u001b[0m\u001b[1;33m(\u001b[0m\u001b[0mmessage\u001b[0m\u001b[1;33m,\u001b[0m \u001b[0mscreen\u001b[0m\u001b[1;33m,\u001b[0m \u001b[0mstacktrace\u001b[0m\u001b[1;33m)\u001b[0m\u001b[1;33m\u001b[0m\u001b[0m\n\u001b[0m\u001b[0;32m    243\u001b[0m \u001b[1;33m\u001b[0m\u001b[0m\n\u001b[0;32m    244\u001b[0m     \u001b[1;32mdef\u001b[0m \u001b[0m_value_or_default\u001b[0m\u001b[1;33m(\u001b[0m\u001b[0mself\u001b[0m\u001b[1;33m,\u001b[0m \u001b[0mobj\u001b[0m\u001b[1;33m,\u001b[0m \u001b[0mkey\u001b[0m\u001b[1;33m,\u001b[0m \u001b[0mdefault\u001b[0m\u001b[1;33m)\u001b[0m\u001b[1;33m:\u001b[0m\u001b[1;33m\u001b[0m\u001b[0m\n",
      "\u001b[1;31mTimeoutException\u001b[0m: Message: timeout: Timed out receiving message from renderer: 298.743\n  (Session info: chrome=89.0.4389.114)\n"
     ]
    }
   ],
   "source": [
    "##loop to get info on first page \n",
    "\n",
    "for link in subpageurl:\n",
    "    driver.get(link)  \n",
    "\n",
    "    ## Get brand \n",
    "    try:\n",
    "        brand_list.append(driver.find_element_by_xpath('//*[@id=\"js-mobileBody\"]/div/div/div/div/div/div/section[1]/div[2]/div/h1/div[1]').text)\n",
    "    except: \n",
    "        brand_list.append('NA')\n",
    "    \n",
    "    ### Get Product Name \n",
    "    try:\n",
    "        product_list.append(driver.find_element_by_xpath('//*[@id=\"js-mobileBody\"]/div/div/div/div/div/div/section[1]/div[2]/div/h1/div[2]').text)\n",
    "    except: \n",
    "        product_list.append('NA')\n",
    "     ### Get Price \n",
    "    try:\n",
    "        price_list.append(driver.find_element_by_xpath('//*[@id=\"js-mobileBody\"]/div/div/div/div/div/div/section[1]/div[2]/div/div[3]').text)\n",
    "    except: \n",
    "        price_list.append('NA') \n",
    "        \n",
    "    ### Get Rating Number \n",
    "    try: \n",
    "        rating_list.append(driver.find_element_by_xpath('//*[@id=\"pr-review-snapshot\"]/header/section/div/div[1]/div/div[1]/div').text)\n",
    "    except: \n",
    "        rating_list.append('NA')\n",
    "\n",
    "    ### Once on product page, toggle ingredients and get text\n",
    "    try:\n",
    "        toggle = driver.find_element_by_xpath('//*[@id=\"productDescription\"]/div[3]/div[2]')\n",
    "        toggle.click() \n",
    "\n",
    "        ingredient_list.append(driver.find_element_by_xpath('//*[@id=\"productDescription\"]/div[3]/div[2]/div[2]/div/div/div').text) \n",
    "    except:\n",
    "        ingredient_list.append('NA')\n",
    "\n"
   ]
  },
  {
   "cell_type": "code",
   "execution_count": null,
   "metadata": {},
   "outputs": [],
   "source": [
    "ulta_moisturizer_df = pd.DataFrame(\n",
    "    {'brand': brand_list[:96],\n",
    "     'name': product_list[:96],\n",
    "     'price': price_list[:96],\n",
    "     'rating': rating_list[:96],\n",
    "     'ingredients': ingredient_list[:96]\n",
    "    }) \n",
    "\n",
    "pd.set_option('display.max_rows',None)\n",
    "ulta_moisturizer_df\n",
    "#ulta_moisturizer_df_keep=ulta_moisturizer_df.copy()"
   ]
  },
  {
   "cell_type": "code",
   "execution_count": null,
   "metadata": {},
   "outputs": [],
   "source": [
    "ulta_moisturizer_df.to_csv('ulta_m7.csv', index = False)"
   ]
  },
  {
   "cell_type": "code",
   "execution_count": null,
   "metadata": {},
   "outputs": [],
   "source": [
    "### Find first product and click to open \n",
    "#prod = driver.find_element_by_xpath('//*[@id=\"xlsImpprod13641053\"]/div[2]') \n",
    "#prod.click()"
   ]
  },
  {
   "cell_type": "code",
   "execution_count": null,
   "metadata": {},
   "outputs": [],
   "source": [
    "### Get brand\n",
    "# brand = driver.find_element_by_xpath('//*[@id=\"js-mobileBody\"]/div/div/div/div/div/div/section[1]/div[2]/div/h1/div[1]').text\n",
    "# print(brand)\n",
    "\n",
    "# ### Get Product Name \n",
    "# name = driver.find_element_by_xpath('//*[@id=\"js-mobileBody\"]/div/div/div/div/div/div/section[1]/div[2]/div/h1/div[2]').text\n",
    "# print(name) \n",
    " \n",
    "\n",
    "# ### Get Rating Number\n",
    "# star = driver.find_element_by_xpath('//*[@id=\"pr-review-snapshot\"]/header/section/div/div[1]/div/div[1]/div').text\n",
    "# print(star) \n",
    "\n",
    "# ### Once on product page, toggle ingredients and get text\n",
    "# toggle = driver.find_element_by_xpath('//*[@id=\"productDescription\"]/div[3]/div[2]')\n",
    "# toggle.click() \n",
    "\n",
    "# ingredient = driver.find_element_by_xpath('//*[@id=\"productDescription\"]/div[3]/div[2]/div[2]/div/div/div').text\n",
    "# print(ingredient) \n",
    "\n",
    "# ### Get Price \n",
    "# price = driver.find_element_by_xpath('//*[@id=\"js-mobileBody\"]/div/div/div/div/div/div/section[1]/div[2]/div/div[3]').text\n",
    "# print(price)"
   ]
  },
  {
   "cell_type": "code",
   "execution_count": null,
   "metadata": {},
   "outputs": [],
   "source": [
    "# def scrollDown(driver, n_scroll):\n",
    "\n",
    "#     body = driver.find_element_by_tag_name(\"body\")\n",
    "#     while n_scroll >= 0:\n",
    "#         body.send_keys(Keys.PAGE_DOWN)\n",
    "#         n_scroll -= 1\n",
    "#     return driver"
   ]
  },
  {
   "cell_type": "code",
   "execution_count": null,
   "metadata": {},
   "outputs": [],
   "source": [
    "##next steps \n",
    "\n",
    "#move into data frame \n",
    "#scrol through each of the 14 pages \n"
   ]
  },
  {
   "cell_type": "code",
   "execution_count": null,
   "metadata": {},
   "outputs": [],
   "source": []
  }
 ],
 "metadata": {
  "kernelspec": {
   "display_name": "Python 3",
   "language": "python",
   "name": "python3"
  },
  "language_info": {
   "codemirror_mode": {
    "name": "ipython",
    "version": 3
   },
   "file_extension": ".py",
   "mimetype": "text/x-python",
   "name": "python",
   "nbconvert_exporter": "python",
   "pygments_lexer": "ipython3",
   "version": "3.6.5"
  }
 },
 "nbformat": 4,
 "nbformat_minor": 2
}
